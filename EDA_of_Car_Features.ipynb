{
  "nbformat": 4,
  "nbformat_minor": 0,
  "metadata": {
    "colab": {
      "name": "EDA_of_Car_Features.ipynb",
      "provenance": [],
      "collapsed_sections": [],
      "authorship_tag": "ABX9TyO5FLZaRhf8bR+lJvchCnWq",
      "include_colab_link": true
    },
    "kernelspec": {
      "name": "python3",
      "display_name": "Python 3"
    }
  },
  "cells": [
    {
      "cell_type": "markdown",
      "metadata": {
        "id": "view-in-github",
        "colab_type": "text"
      },
      "source": [
        "<a href=\"https://colab.research.google.com/github/Srijen-G/Neo_Project/blob/master/EDA_of_Car_Features.ipynb\" target=\"_parent\"><img src=\"https://colab.research.google.com/assets/colab-badge.svg\" alt=\"Open In Colab\"/></a>"
      ]
    },
    {
      "cell_type": "markdown",
      "metadata": {
        "id": "_YRed3Fy3ivU",
        "colab_type": "text"
      },
      "source": [
        "# EXPLORATORY DATA ANALYSIS OF CAR DATASET\n",
        "---\n",
        "*What is Exploratory data analysis(EDA)?*\n",
        "\n",
        "> Exploratory analysis is often the first step of data analysis. Here we get familiar with data, ask questions, visualize the data in a number of forms, look for relationships between the variables, look for outliers, patterns and trends in data.\n",
        " \n",
        " ---\n",
        "\n",
        "*What is the purpose of EDA?*\n",
        "\n",
        "> The purpose of exploratory data analysis is to: Check for missing data and other mistakes. Gain maximum insight into the data set and its underlying structure. Uncover a parsimonious model, one which explains the data with a minimum number of predictor variables."
      ]
    },
    {
      "cell_type": "markdown",
      "metadata": {
        "id": "bE5qg70q5CfU",
        "colab_type": "text"
      },
      "source": [
        "![images.jpg](data:image/jpeg;base64,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)"
      ]
    },
    {
      "cell_type": "markdown",
      "metadata": {
        "id": "sa6FRDxw42ri",
        "colab_type": "text"
      },
      "source": [
        "We shall now begin with our analysis and later build models to predict the prices of CARS in the datset."
      ]
    },
    {
      "cell_type": "markdown",
      "metadata": {
        "id": "x4ng4intq_Bc",
        "colab_type": "text"
      },
      "source": [
        "# Importing necessary libraries "
      ]
    },
    {
      "cell_type": "code",
      "metadata": {
        "id": "mEwbnHm7giRl",
        "colab_type": "code",
        "colab": {}
      },
      "source": [
        "#Importing the required libraries\n",
        "\n",
        "import numpy as np\n",
        "import pandas as pd\n",
        "from matplotlib import pyplot as plt  #visualisation\n",
        "%matplotlib inline\n",
        "import seaborn as sns                 #visualisation"
      ],
      "execution_count": null,
      "outputs": []
    },
    {
      "cell_type": "markdown",
      "metadata": {
        "id": "bLgRYWwRrMlM",
        "colab_type": "text"
      },
      "source": [
        "## Importing the dataset to be worked upon and creating a dataframe named 'df' to store the data."
      ]
    },
    {
      "cell_type": "code",
      "metadata": {
        "id": "xn31PIXqhnx9",
        "colab_type": "code",
        "colab": {}
      },
      "source": [
        "#Loading the CSV file into pandas DataFrame\n",
        "\n",
        "url = 'https://raw.githubusercontent.com/Srijen-G/Neo_Project/master/data.csv'\n",
        "\n",
        "df = pd.read_csv(url)"
      ],
      "execution_count": null,
      "outputs": []
    },
    {
      "cell_type": "markdown",
      "metadata": {
        "id": "giuykrwYrm2O",
        "colab_type": "text"
      },
      "source": [
        "### Getting the basic idea of dataset by viewing first 5 rows using df.head()"
      ]
    },
    {
      "cell_type": "code",
      "metadata": {
        "id": "yPAqmVsHi2F0",
        "colab_type": "code",
        "colab": {
          "base_uri": "https://localhost:8080/",
          "height": 313
        },
        "outputId": "8e1292f2-26eb-42af-efae-fa5d91ef52a1"
      },
      "source": [
        "#To display top 5 rows\n",
        "df.head()"
      ],
      "execution_count": null,
      "outputs": [
        {
          "output_type": "execute_result",
          "data": {
            "text/html": [
              "<div>\n",
              "<style scoped>\n",
              "    .dataframe tbody tr th:only-of-type {\n",
              "        vertical-align: middle;\n",
              "    }\n",
              "\n",
              "    .dataframe tbody tr th {\n",
              "        vertical-align: top;\n",
              "    }\n",
              "\n",
              "    .dataframe thead th {\n",
              "        text-align: right;\n",
              "    }\n",
              "</style>\n",
              "<table border=\"1\" class=\"dataframe\">\n",
              "  <thead>\n",
              "    <tr style=\"text-align: right;\">\n",
              "      <th></th>\n",
              "      <th>Make</th>\n",
              "      <th>Model</th>\n",
              "      <th>Year</th>\n",
              "      <th>Engine Fuel Type</th>\n",
              "      <th>Engine HP</th>\n",
              "      <th>Engine Cylinders</th>\n",
              "      <th>Transmission Type</th>\n",
              "      <th>Driven_Wheels</th>\n",
              "      <th>Number of Doors</th>\n",
              "      <th>Market Category</th>\n",
              "      <th>Vehicle Size</th>\n",
              "      <th>Vehicle Style</th>\n",
              "      <th>highway MPG</th>\n",
              "      <th>city mpg</th>\n",
              "      <th>Popularity</th>\n",
              "      <th>MSRP</th>\n",
              "    </tr>\n",
              "  </thead>\n",
              "  <tbody>\n",
              "    <tr>\n",
              "      <th>0</th>\n",
              "      <td>BMW</td>\n",
              "      <td>1 Series M</td>\n",
              "      <td>2011</td>\n",
              "      <td>premium unleaded (required)</td>\n",
              "      <td>335.0</td>\n",
              "      <td>6.0</td>\n",
              "      <td>MANUAL</td>\n",
              "      <td>rear wheel drive</td>\n",
              "      <td>2.0</td>\n",
              "      <td>Factory Tuner,Luxury,High-Performance</td>\n",
              "      <td>Compact</td>\n",
              "      <td>Coupe</td>\n",
              "      <td>26</td>\n",
              "      <td>19</td>\n",
              "      <td>3916</td>\n",
              "      <td>46135</td>\n",
              "    </tr>\n",
              "    <tr>\n",
              "      <th>1</th>\n",
              "      <td>BMW</td>\n",
              "      <td>1 Series</td>\n",
              "      <td>2011</td>\n",
              "      <td>premium unleaded (required)</td>\n",
              "      <td>300.0</td>\n",
              "      <td>6.0</td>\n",
              "      <td>MANUAL</td>\n",
              "      <td>rear wheel drive</td>\n",
              "      <td>2.0</td>\n",
              "      <td>Luxury,Performance</td>\n",
              "      <td>Compact</td>\n",
              "      <td>Convertible</td>\n",
              "      <td>28</td>\n",
              "      <td>19</td>\n",
              "      <td>3916</td>\n",
              "      <td>40650</td>\n",
              "    </tr>\n",
              "    <tr>\n",
              "      <th>2</th>\n",
              "      <td>BMW</td>\n",
              "      <td>1 Series</td>\n",
              "      <td>2011</td>\n",
              "      <td>premium unleaded (required)</td>\n",
              "      <td>300.0</td>\n",
              "      <td>6.0</td>\n",
              "      <td>MANUAL</td>\n",
              "      <td>rear wheel drive</td>\n",
              "      <td>2.0</td>\n",
              "      <td>Luxury,High-Performance</td>\n",
              "      <td>Compact</td>\n",
              "      <td>Coupe</td>\n",
              "      <td>28</td>\n",
              "      <td>20</td>\n",
              "      <td>3916</td>\n",
              "      <td>36350</td>\n",
              "    </tr>\n",
              "    <tr>\n",
              "      <th>3</th>\n",
              "      <td>BMW</td>\n",
              "      <td>1 Series</td>\n",
              "      <td>2011</td>\n",
              "      <td>premium unleaded (required)</td>\n",
              "      <td>230.0</td>\n",
              "      <td>6.0</td>\n",
              "      <td>MANUAL</td>\n",
              "      <td>rear wheel drive</td>\n",
              "      <td>2.0</td>\n",
              "      <td>Luxury,Performance</td>\n",
              "      <td>Compact</td>\n",
              "      <td>Coupe</td>\n",
              "      <td>28</td>\n",
              "      <td>18</td>\n",
              "      <td>3916</td>\n",
              "      <td>29450</td>\n",
              "    </tr>\n",
              "    <tr>\n",
              "      <th>4</th>\n",
              "      <td>BMW</td>\n",
              "      <td>1 Series</td>\n",
              "      <td>2011</td>\n",
              "      <td>premium unleaded (required)</td>\n",
              "      <td>230.0</td>\n",
              "      <td>6.0</td>\n",
              "      <td>MANUAL</td>\n",
              "      <td>rear wheel drive</td>\n",
              "      <td>2.0</td>\n",
              "      <td>Luxury</td>\n",
              "      <td>Compact</td>\n",
              "      <td>Convertible</td>\n",
              "      <td>28</td>\n",
              "      <td>18</td>\n",
              "      <td>3916</td>\n",
              "      <td>34500</td>\n",
              "    </tr>\n",
              "  </tbody>\n",
              "</table>\n",
              "</div>"
            ],
            "text/plain": [
              "  Make       Model  Year  ... city mpg  Popularity   MSRP\n",
              "0  BMW  1 Series M  2011  ...       19        3916  46135\n",
              "1  BMW    1 Series  2011  ...       19        3916  40650\n",
              "2  BMW    1 Series  2011  ...       20        3916  36350\n",
              "3  BMW    1 Series  2011  ...       18        3916  29450\n",
              "4  BMW    1 Series  2011  ...       18        3916  34500\n",
              "\n",
              "[5 rows x 16 columns]"
            ]
          },
          "metadata": {
            "tags": []
          },
          "execution_count": 69
        }
      ]
    },
    {
      "cell_type": "code",
      "metadata": {
        "id": "gh9XeD01j6bE",
        "colab_type": "code",
        "colab": {
          "base_uri": "https://localhost:8080/",
          "height": 296
        },
        "outputId": "fc84174a-f4e1-4455-935d-e3d4a3132835"
      },
      "source": [
        "#To display bottom 5 rows \n",
        "df.tail()"
      ],
      "execution_count": null,
      "outputs": [
        {
          "output_type": "execute_result",
          "data": {
            "text/html": [
              "<div>\n",
              "<style scoped>\n",
              "    .dataframe tbody tr th:only-of-type {\n",
              "        vertical-align: middle;\n",
              "    }\n",
              "\n",
              "    .dataframe tbody tr th {\n",
              "        vertical-align: top;\n",
              "    }\n",
              "\n",
              "    .dataframe thead th {\n",
              "        text-align: right;\n",
              "    }\n",
              "</style>\n",
              "<table border=\"1\" class=\"dataframe\">\n",
              "  <thead>\n",
              "    <tr style=\"text-align: right;\">\n",
              "      <th></th>\n",
              "      <th>Make</th>\n",
              "      <th>Model</th>\n",
              "      <th>Year</th>\n",
              "      <th>Engine Fuel Type</th>\n",
              "      <th>Engine HP</th>\n",
              "      <th>Engine Cylinders</th>\n",
              "      <th>Transmission Type</th>\n",
              "      <th>Driven_Wheels</th>\n",
              "      <th>Number of Doors</th>\n",
              "      <th>Market Category</th>\n",
              "      <th>Vehicle Size</th>\n",
              "      <th>Vehicle Style</th>\n",
              "      <th>highway MPG</th>\n",
              "      <th>city mpg</th>\n",
              "      <th>Popularity</th>\n",
              "      <th>MSRP</th>\n",
              "    </tr>\n",
              "  </thead>\n",
              "  <tbody>\n",
              "    <tr>\n",
              "      <th>11909</th>\n",
              "      <td>Acura</td>\n",
              "      <td>ZDX</td>\n",
              "      <td>2012</td>\n",
              "      <td>premium unleaded (required)</td>\n",
              "      <td>300.0</td>\n",
              "      <td>6.0</td>\n",
              "      <td>AUTOMATIC</td>\n",
              "      <td>all wheel drive</td>\n",
              "      <td>4.0</td>\n",
              "      <td>Crossover,Hatchback,Luxury</td>\n",
              "      <td>Midsize</td>\n",
              "      <td>4dr Hatchback</td>\n",
              "      <td>23</td>\n",
              "      <td>16</td>\n",
              "      <td>204</td>\n",
              "      <td>46120</td>\n",
              "    </tr>\n",
              "    <tr>\n",
              "      <th>11910</th>\n",
              "      <td>Acura</td>\n",
              "      <td>ZDX</td>\n",
              "      <td>2012</td>\n",
              "      <td>premium unleaded (required)</td>\n",
              "      <td>300.0</td>\n",
              "      <td>6.0</td>\n",
              "      <td>AUTOMATIC</td>\n",
              "      <td>all wheel drive</td>\n",
              "      <td>4.0</td>\n",
              "      <td>Crossover,Hatchback,Luxury</td>\n",
              "      <td>Midsize</td>\n",
              "      <td>4dr Hatchback</td>\n",
              "      <td>23</td>\n",
              "      <td>16</td>\n",
              "      <td>204</td>\n",
              "      <td>56670</td>\n",
              "    </tr>\n",
              "    <tr>\n",
              "      <th>11911</th>\n",
              "      <td>Acura</td>\n",
              "      <td>ZDX</td>\n",
              "      <td>2012</td>\n",
              "      <td>premium unleaded (required)</td>\n",
              "      <td>300.0</td>\n",
              "      <td>6.0</td>\n",
              "      <td>AUTOMATIC</td>\n",
              "      <td>all wheel drive</td>\n",
              "      <td>4.0</td>\n",
              "      <td>Crossover,Hatchback,Luxury</td>\n",
              "      <td>Midsize</td>\n",
              "      <td>4dr Hatchback</td>\n",
              "      <td>23</td>\n",
              "      <td>16</td>\n",
              "      <td>204</td>\n",
              "      <td>50620</td>\n",
              "    </tr>\n",
              "    <tr>\n",
              "      <th>11912</th>\n",
              "      <td>Acura</td>\n",
              "      <td>ZDX</td>\n",
              "      <td>2013</td>\n",
              "      <td>premium unleaded (recommended)</td>\n",
              "      <td>300.0</td>\n",
              "      <td>6.0</td>\n",
              "      <td>AUTOMATIC</td>\n",
              "      <td>all wheel drive</td>\n",
              "      <td>4.0</td>\n",
              "      <td>Crossover,Hatchback,Luxury</td>\n",
              "      <td>Midsize</td>\n",
              "      <td>4dr Hatchback</td>\n",
              "      <td>23</td>\n",
              "      <td>16</td>\n",
              "      <td>204</td>\n",
              "      <td>50920</td>\n",
              "    </tr>\n",
              "    <tr>\n",
              "      <th>11913</th>\n",
              "      <td>Lincoln</td>\n",
              "      <td>Zephyr</td>\n",
              "      <td>2006</td>\n",
              "      <td>regular unleaded</td>\n",
              "      <td>221.0</td>\n",
              "      <td>6.0</td>\n",
              "      <td>AUTOMATIC</td>\n",
              "      <td>front wheel drive</td>\n",
              "      <td>4.0</td>\n",
              "      <td>Luxury</td>\n",
              "      <td>Midsize</td>\n",
              "      <td>Sedan</td>\n",
              "      <td>26</td>\n",
              "      <td>17</td>\n",
              "      <td>61</td>\n",
              "      <td>28995</td>\n",
              "    </tr>\n",
              "  </tbody>\n",
              "</table>\n",
              "</div>"
            ],
            "text/plain": [
              "          Make   Model  Year  ... city mpg  Popularity   MSRP\n",
              "11909    Acura     ZDX  2012  ...       16         204  46120\n",
              "11910    Acura     ZDX  2012  ...       16         204  56670\n",
              "11911    Acura     ZDX  2012  ...       16         204  50620\n",
              "11912    Acura     ZDX  2013  ...       16         204  50920\n",
              "11913  Lincoln  Zephyr  2006  ...       17          61  28995\n",
              "\n",
              "[5 rows x 16 columns]"
            ]
          },
          "metadata": {
            "tags": []
          },
          "execution_count": 70
        }
      ]
    },
    {
      "cell_type": "markdown",
      "metadata": {
        "id": "GRRSbRL_l9f7",
        "colab_type": "text"
      },
      "source": [
        "## After looking at the data we got a basic idea about it \n",
        "-_-_\n",
        "*Next we shall look about general properties associated with this data*\n"
      ]
    },
    {
      "cell_type": "code",
      "metadata": {
        "id": "ALHDhesylibT",
        "colab_type": "code",
        "colab": {
          "base_uri": "https://localhost:8080/",
          "height": 50
        },
        "outputId": "a88ada6b-4014-486e-bfa8-42f3ab46bb39"
      },
      "source": [
        "#To look at shape of the data\n",
        "\n",
        "shape = df.shape\n",
        "print(\"Number of Rows: \", shape[0])\n",
        "print(\"Number of Columns: \", shape[1])"
      ],
      "execution_count": null,
      "outputs": [
        {
          "output_type": "stream",
          "text": [
            "Number of Rows:  11914\n",
            "Number of Columns:  16\n"
          ],
          "name": "stdout"
        }
      ]
    },
    {
      "cell_type": "code",
      "metadata": {
        "id": "UXSJ8K9_lm5L",
        "colab_type": "code",
        "colab": {
          "base_uri": "https://localhost:8080/",
          "height": 403
        },
        "outputId": "70d074cd-f80c-4c53-8f0f-bee65d19017b"
      },
      "source": [
        "#To get a general idea about the data\n",
        "\n",
        "df.info()"
      ],
      "execution_count": null,
      "outputs": [
        {
          "output_type": "stream",
          "text": [
            "<class 'pandas.core.frame.DataFrame'>\n",
            "RangeIndex: 11914 entries, 0 to 11913\n",
            "Data columns (total 16 columns):\n",
            " #   Column             Non-Null Count  Dtype  \n",
            "---  ------             --------------  -----  \n",
            " 0   Make               11914 non-null  object \n",
            " 1   Model              11914 non-null  object \n",
            " 2   Year               11914 non-null  int64  \n",
            " 3   Engine Fuel Type   11911 non-null  object \n",
            " 4   Engine HP          11845 non-null  float64\n",
            " 5   Engine Cylinders   11884 non-null  float64\n",
            " 6   Transmission Type  11914 non-null  object \n",
            " 7   Driven_Wheels      11914 non-null  object \n",
            " 8   Number of Doors    11908 non-null  float64\n",
            " 9   Market Category    8172 non-null   object \n",
            " 10  Vehicle Size       11914 non-null  object \n",
            " 11  Vehicle Style      11914 non-null  object \n",
            " 12  highway MPG        11914 non-null  int64  \n",
            " 13  city mpg           11914 non-null  int64  \n",
            " 14  Popularity         11914 non-null  int64  \n",
            " 15  MSRP               11914 non-null  int64  \n",
            "dtypes: float64(3), int64(5), object(8)\n",
            "memory usage: 1.5+ MB\n"
          ],
          "name": "stdout"
        }
      ]
    },
    {
      "cell_type": "markdown",
      "metadata": {
        "id": "xMEpRuRWmoMg",
        "colab_type": "text"
      },
      "source": [
        "\n",
        "*  From df.shape we got the number of rows & columns of the DataFrame.\n",
        "*  From df.info() we got the count of non-null values in each column along with the type of data stored in each columns.\n",
        "---\n",
        "> *In some columns like Engine HP,Engine Cylinders, Market Categories we can observe that the **count of non-null values is less the number of rows** in the DataFrame; thus we can conclude that there are some missing values in those columns*\n",
        "\n",
        "\n",
        "\n",
        "\n"
      ]
    },
    {
      "cell_type": "code",
      "metadata": {
        "id": "ZmvEdwDmnT-3",
        "colab_type": "code",
        "colab": {
          "base_uri": "https://localhost:8080/",
          "height": 302
        },
        "outputId": "3ac99b97-88b9-42a5-dc47-3b78cd369a88"
      },
      "source": [
        "#To know the dtypes of data in each columns\n",
        "\n",
        "df.dtypes"
      ],
      "execution_count": null,
      "outputs": [
        {
          "output_type": "execute_result",
          "data": {
            "text/plain": [
              "Make                  object\n",
              "Model                 object\n",
              "Year                   int64\n",
              "Engine Fuel Type      object\n",
              "Engine HP            float64\n",
              "Engine Cylinders     float64\n",
              "Transmission Type     object\n",
              "Driven_Wheels         object\n",
              "Number of Doors      float64\n",
              "Market Category       object\n",
              "Vehicle Size          object\n",
              "Vehicle Style         object\n",
              "highway MPG            int64\n",
              "city mpg               int64\n",
              "Popularity             int64\n",
              "MSRP                   int64\n",
              "dtype: object"
            ]
          },
          "metadata": {
            "tags": []
          },
          "execution_count": 73
        }
      ]
    },
    {
      "cell_type": "markdown",
      "metadata": {
        "id": "sjD6nQEbpHVq",
        "colab_type": "text"
      },
      "source": [
        "We shall look at some basic statistical properties of the given data and try to identify which columns could be dropped."
      ]
    },
    {
      "cell_type": "code",
      "metadata": {
        "id": "Fc4w1Dywr6kc",
        "colab_type": "code",
        "colab": {
          "base_uri": "https://localhost:8080/",
          "height": 284
        },
        "outputId": "4ae86ae9-ecaf-419e-b918-2add97db6536"
      },
      "source": [
        "#Getting basic statistical properties of the data\n",
        "\n",
        "df.describe()"
      ],
      "execution_count": null,
      "outputs": [
        {
          "output_type": "execute_result",
          "data": {
            "text/html": [
              "<div>\n",
              "<style scoped>\n",
              "    .dataframe tbody tr th:only-of-type {\n",
              "        vertical-align: middle;\n",
              "    }\n",
              "\n",
              "    .dataframe tbody tr th {\n",
              "        vertical-align: top;\n",
              "    }\n",
              "\n",
              "    .dataframe thead th {\n",
              "        text-align: right;\n",
              "    }\n",
              "</style>\n",
              "<table border=\"1\" class=\"dataframe\">\n",
              "  <thead>\n",
              "    <tr style=\"text-align: right;\">\n",
              "      <th></th>\n",
              "      <th>Year</th>\n",
              "      <th>Engine HP</th>\n",
              "      <th>Engine Cylinders</th>\n",
              "      <th>Number of Doors</th>\n",
              "      <th>highway MPG</th>\n",
              "      <th>city mpg</th>\n",
              "      <th>Popularity</th>\n",
              "      <th>MSRP</th>\n",
              "    </tr>\n",
              "  </thead>\n",
              "  <tbody>\n",
              "    <tr>\n",
              "      <th>count</th>\n",
              "      <td>11914.000000</td>\n",
              "      <td>11845.00000</td>\n",
              "      <td>11884.000000</td>\n",
              "      <td>11908.000000</td>\n",
              "      <td>11914.000000</td>\n",
              "      <td>11914.000000</td>\n",
              "      <td>11914.000000</td>\n",
              "      <td>1.191400e+04</td>\n",
              "    </tr>\n",
              "    <tr>\n",
              "      <th>mean</th>\n",
              "      <td>2010.384338</td>\n",
              "      <td>249.38607</td>\n",
              "      <td>5.628829</td>\n",
              "      <td>3.436093</td>\n",
              "      <td>26.637485</td>\n",
              "      <td>19.733255</td>\n",
              "      <td>1554.911197</td>\n",
              "      <td>4.059474e+04</td>\n",
              "    </tr>\n",
              "    <tr>\n",
              "      <th>std</th>\n",
              "      <td>7.579740</td>\n",
              "      <td>109.19187</td>\n",
              "      <td>1.780559</td>\n",
              "      <td>0.881315</td>\n",
              "      <td>8.863001</td>\n",
              "      <td>8.987798</td>\n",
              "      <td>1441.855347</td>\n",
              "      <td>6.010910e+04</td>\n",
              "    </tr>\n",
              "    <tr>\n",
              "      <th>min</th>\n",
              "      <td>1990.000000</td>\n",
              "      <td>55.00000</td>\n",
              "      <td>0.000000</td>\n",
              "      <td>2.000000</td>\n",
              "      <td>12.000000</td>\n",
              "      <td>7.000000</td>\n",
              "      <td>2.000000</td>\n",
              "      <td>2.000000e+03</td>\n",
              "    </tr>\n",
              "    <tr>\n",
              "      <th>25%</th>\n",
              "      <td>2007.000000</td>\n",
              "      <td>170.00000</td>\n",
              "      <td>4.000000</td>\n",
              "      <td>2.000000</td>\n",
              "      <td>22.000000</td>\n",
              "      <td>16.000000</td>\n",
              "      <td>549.000000</td>\n",
              "      <td>2.100000e+04</td>\n",
              "    </tr>\n",
              "    <tr>\n",
              "      <th>50%</th>\n",
              "      <td>2015.000000</td>\n",
              "      <td>227.00000</td>\n",
              "      <td>6.000000</td>\n",
              "      <td>4.000000</td>\n",
              "      <td>26.000000</td>\n",
              "      <td>18.000000</td>\n",
              "      <td>1385.000000</td>\n",
              "      <td>2.999500e+04</td>\n",
              "    </tr>\n",
              "    <tr>\n",
              "      <th>75%</th>\n",
              "      <td>2016.000000</td>\n",
              "      <td>300.00000</td>\n",
              "      <td>6.000000</td>\n",
              "      <td>4.000000</td>\n",
              "      <td>30.000000</td>\n",
              "      <td>22.000000</td>\n",
              "      <td>2009.000000</td>\n",
              "      <td>4.223125e+04</td>\n",
              "    </tr>\n",
              "    <tr>\n",
              "      <th>max</th>\n",
              "      <td>2017.000000</td>\n",
              "      <td>1001.00000</td>\n",
              "      <td>16.000000</td>\n",
              "      <td>4.000000</td>\n",
              "      <td>354.000000</td>\n",
              "      <td>137.000000</td>\n",
              "      <td>5657.000000</td>\n",
              "      <td>2.065902e+06</td>\n",
              "    </tr>\n",
              "  </tbody>\n",
              "</table>\n",
              "</div>"
            ],
            "text/plain": [
              "               Year    Engine HP  ...    Popularity          MSRP\n",
              "count  11914.000000  11845.00000  ...  11914.000000  1.191400e+04\n",
              "mean    2010.384338    249.38607  ...   1554.911197  4.059474e+04\n",
              "std        7.579740    109.19187  ...   1441.855347  6.010910e+04\n",
              "min     1990.000000     55.00000  ...      2.000000  2.000000e+03\n",
              "25%     2007.000000    170.00000  ...    549.000000  2.100000e+04\n",
              "50%     2015.000000    227.00000  ...   1385.000000  2.999500e+04\n",
              "75%     2016.000000    300.00000  ...   2009.000000  4.223125e+04\n",
              "max     2017.000000   1001.00000  ...   5657.000000  2.065902e+06\n",
              "\n",
              "[8 rows x 8 columns]"
            ]
          },
          "metadata": {
            "tags": []
          },
          "execution_count": 74
        }
      ]
    },
    {
      "cell_type": "markdown",
      "metadata": {
        "id": "hqcaNCnIpbLm",
        "colab_type": "text"
      },
      "source": [
        "> From the above statistical data we can conclude that the column named ***Number of Doors*** has standard deviation near about *0*. This implies that the values in that column are more or less same and thus wont be affecting the Price much.\n",
        "---\n",
        "> We shall now find the number of missing data in each column.\n",
        "*   The below code first identifies the rows with null values and returns a true if it encounters a *NaN* value; then it adds the True (considering it as 1) values columnwise to display the following result.\n",
        "\n"
      ]
    },
    {
      "cell_type": "code",
      "metadata": {
        "id": "34l8_KDpsFpz",
        "colab_type": "code",
        "colab": {
          "base_uri": "https://localhost:8080/",
          "height": 302
        },
        "outputId": "5e69f2e7-c124-4ee7-f992-c1987074fcc9"
      },
      "source": [
        "#To find the number of missing data in each column\n",
        "\n",
        "df.isnull().sum()"
      ],
      "execution_count": null,
      "outputs": [
        {
          "output_type": "execute_result",
          "data": {
            "text/plain": [
              "Make                    0\n",
              "Model                   0\n",
              "Year                    0\n",
              "Engine Fuel Type        3\n",
              "Engine HP              69\n",
              "Engine Cylinders       30\n",
              "Transmission Type       0\n",
              "Driven_Wheels           0\n",
              "Number of Doors         6\n",
              "Market Category      3742\n",
              "Vehicle Size            0\n",
              "Vehicle Style           0\n",
              "highway MPG             0\n",
              "city mpg                0\n",
              "Popularity              0\n",
              "MSRP                    0\n",
              "dtype: int64"
            ]
          },
          "metadata": {
            "tags": []
          },
          "execution_count": 75
        }
      ]
    },
    {
      "cell_type": "markdown",
      "metadata": {
        "id": "Cao5Qe7dzk-2",
        "colab_type": "text"
      },
      "source": [
        "From above we can observe that column ***Market Category*** has *too many missing values*, so its better to remove the column.\n",
        "\n",
        "---\n",
        "We shall remove 2 columns.Those are:- \n",
        "1.   Number of Doors\n",
        "* Reason- standard deviation almost 0,thus values are almost same.\n",
        "2.   Market Category\n",
        "* Reason- too many missing values."
      ]
    },
    {
      "cell_type": "code",
      "metadata": {
        "id": "-Jlq6vqf3mxz",
        "colab_type": "code",
        "colab": {}
      },
      "source": [
        "#To drop Columns \n",
        "\n",
        "df.drop(columns= ['Number of Doors','Market Category'],axis=1,inplace=True)"
      ],
      "execution_count": null,
      "outputs": []
    },
    {
      "cell_type": "code",
      "metadata": {
        "id": "7bTNRZke6cRX",
        "colab_type": "code",
        "colab": {
          "base_uri": "https://localhost:8080/",
          "height": 279
        },
        "outputId": "c4691b41-18dd-4607-e539-52aa5d82411b"
      },
      "source": [
        "#Checking our Progress till now\n",
        "df.head()"
      ],
      "execution_count": null,
      "outputs": [
        {
          "output_type": "execute_result",
          "data": {
            "text/html": [
              "<div>\n",
              "<style scoped>\n",
              "    .dataframe tbody tr th:only-of-type {\n",
              "        vertical-align: middle;\n",
              "    }\n",
              "\n",
              "    .dataframe tbody tr th {\n",
              "        vertical-align: top;\n",
              "    }\n",
              "\n",
              "    .dataframe thead th {\n",
              "        text-align: right;\n",
              "    }\n",
              "</style>\n",
              "<table border=\"1\" class=\"dataframe\">\n",
              "  <thead>\n",
              "    <tr style=\"text-align: right;\">\n",
              "      <th></th>\n",
              "      <th>Make</th>\n",
              "      <th>Model</th>\n",
              "      <th>Year</th>\n",
              "      <th>Engine Fuel Type</th>\n",
              "      <th>Engine HP</th>\n",
              "      <th>Engine Cylinders</th>\n",
              "      <th>Transmission Type</th>\n",
              "      <th>Driven_Wheels</th>\n",
              "      <th>Vehicle Size</th>\n",
              "      <th>Vehicle Style</th>\n",
              "      <th>highway MPG</th>\n",
              "      <th>city mpg</th>\n",
              "      <th>Popularity</th>\n",
              "      <th>MSRP</th>\n",
              "    </tr>\n",
              "  </thead>\n",
              "  <tbody>\n",
              "    <tr>\n",
              "      <th>0</th>\n",
              "      <td>BMW</td>\n",
              "      <td>1 Series M</td>\n",
              "      <td>2011</td>\n",
              "      <td>premium unleaded (required)</td>\n",
              "      <td>335.0</td>\n",
              "      <td>6.0</td>\n",
              "      <td>MANUAL</td>\n",
              "      <td>rear wheel drive</td>\n",
              "      <td>Compact</td>\n",
              "      <td>Coupe</td>\n",
              "      <td>26</td>\n",
              "      <td>19</td>\n",
              "      <td>3916</td>\n",
              "      <td>46135</td>\n",
              "    </tr>\n",
              "    <tr>\n",
              "      <th>1</th>\n",
              "      <td>BMW</td>\n",
              "      <td>1 Series</td>\n",
              "      <td>2011</td>\n",
              "      <td>premium unleaded (required)</td>\n",
              "      <td>300.0</td>\n",
              "      <td>6.0</td>\n",
              "      <td>MANUAL</td>\n",
              "      <td>rear wheel drive</td>\n",
              "      <td>Compact</td>\n",
              "      <td>Convertible</td>\n",
              "      <td>28</td>\n",
              "      <td>19</td>\n",
              "      <td>3916</td>\n",
              "      <td>40650</td>\n",
              "    </tr>\n",
              "    <tr>\n",
              "      <th>2</th>\n",
              "      <td>BMW</td>\n",
              "      <td>1 Series</td>\n",
              "      <td>2011</td>\n",
              "      <td>premium unleaded (required)</td>\n",
              "      <td>300.0</td>\n",
              "      <td>6.0</td>\n",
              "      <td>MANUAL</td>\n",
              "      <td>rear wheel drive</td>\n",
              "      <td>Compact</td>\n",
              "      <td>Coupe</td>\n",
              "      <td>28</td>\n",
              "      <td>20</td>\n",
              "      <td>3916</td>\n",
              "      <td>36350</td>\n",
              "    </tr>\n",
              "    <tr>\n",
              "      <th>3</th>\n",
              "      <td>BMW</td>\n",
              "      <td>1 Series</td>\n",
              "      <td>2011</td>\n",
              "      <td>premium unleaded (required)</td>\n",
              "      <td>230.0</td>\n",
              "      <td>6.0</td>\n",
              "      <td>MANUAL</td>\n",
              "      <td>rear wheel drive</td>\n",
              "      <td>Compact</td>\n",
              "      <td>Coupe</td>\n",
              "      <td>28</td>\n",
              "      <td>18</td>\n",
              "      <td>3916</td>\n",
              "      <td>29450</td>\n",
              "    </tr>\n",
              "    <tr>\n",
              "      <th>4</th>\n",
              "      <td>BMW</td>\n",
              "      <td>1 Series</td>\n",
              "      <td>2011</td>\n",
              "      <td>premium unleaded (required)</td>\n",
              "      <td>230.0</td>\n",
              "      <td>6.0</td>\n",
              "      <td>MANUAL</td>\n",
              "      <td>rear wheel drive</td>\n",
              "      <td>Compact</td>\n",
              "      <td>Convertible</td>\n",
              "      <td>28</td>\n",
              "      <td>18</td>\n",
              "      <td>3916</td>\n",
              "      <td>34500</td>\n",
              "    </tr>\n",
              "  </tbody>\n",
              "</table>\n",
              "</div>"
            ],
            "text/plain": [
              "  Make       Model  Year  ... city mpg  Popularity   MSRP\n",
              "0  BMW  1 Series M  2011  ...       19        3916  46135\n",
              "1  BMW    1 Series  2011  ...       19        3916  40650\n",
              "2  BMW    1 Series  2011  ...       20        3916  36350\n",
              "3  BMW    1 Series  2011  ...       18        3916  29450\n",
              "4  BMW    1 Series  2011  ...       18        3916  34500\n",
              "\n",
              "[5 rows x 14 columns]"
            ]
          },
          "metadata": {
            "tags": []
          },
          "execution_count": 77
        }
      ]
    },
    {
      "cell_type": "markdown",
      "metadata": {
        "id": "8uOvN6u0EzqU",
        "colab_type": "text"
      },
      "source": [
        "## Renaming the columns to make DataFrame look better.\n",
        "\n",
        "  Sometimes few column names can make the dara look messy and it's better if we rename them to make our data look better and presentable."
      ]
    },
    {
      "cell_type": "code",
      "metadata": {
        "id": "erxX9G0gAN44",
        "colab_type": "code",
        "colab": {}
      },
      "source": [
        "df.rename(columns={ \"Engine HP\": \"HP\", \"Engine Cylinders\": \"Cylinders\", \n",
        "                   \"Transmission Type\": \"Transmission\", \"Driven_Wheels\": \"Drive Mode\",\n",
        "                   \"highway MPG\": \"MPG-H\",\"city mpg\": \"MPG-C\", \"MSRP\": \"Price\" },inplace=True)"
      ],
      "execution_count": null,
      "outputs": []
    },
    {
      "cell_type": "code",
      "metadata": {
        "id": "m88zOsaLEG1y",
        "colab_type": "code",
        "colab": {
          "base_uri": "https://localhost:8080/",
          "height": 195
        },
        "outputId": "c6b2dad1-96e9-4e7c-a2c3-b304b887e327"
      },
      "source": [
        "df.head()"
      ],
      "execution_count": null,
      "outputs": [
        {
          "output_type": "execute_result",
          "data": {
            "text/html": [
              "<div>\n",
              "<style scoped>\n",
              "    .dataframe tbody tr th:only-of-type {\n",
              "        vertical-align: middle;\n",
              "    }\n",
              "\n",
              "    .dataframe tbody tr th {\n",
              "        vertical-align: top;\n",
              "    }\n",
              "\n",
              "    .dataframe thead th {\n",
              "        text-align: right;\n",
              "    }\n",
              "</style>\n",
              "<table border=\"1\" class=\"dataframe\">\n",
              "  <thead>\n",
              "    <tr style=\"text-align: right;\">\n",
              "      <th></th>\n",
              "      <th>Make</th>\n",
              "      <th>Model</th>\n",
              "      <th>Year</th>\n",
              "      <th>Engine Fuel Type</th>\n",
              "      <th>HP</th>\n",
              "      <th>Cylinders</th>\n",
              "      <th>Transmission</th>\n",
              "      <th>Drive Mode</th>\n",
              "      <th>Vehicle Size</th>\n",
              "      <th>Vehicle Style</th>\n",
              "      <th>MPG-H</th>\n",
              "      <th>MPG-C</th>\n",
              "      <th>Popularity</th>\n",
              "      <th>Price</th>\n",
              "    </tr>\n",
              "  </thead>\n",
              "  <tbody>\n",
              "    <tr>\n",
              "      <th>0</th>\n",
              "      <td>BMW</td>\n",
              "      <td>1 Series M</td>\n",
              "      <td>2011</td>\n",
              "      <td>premium unleaded (required)</td>\n",
              "      <td>335.0</td>\n",
              "      <td>6.0</td>\n",
              "      <td>MANUAL</td>\n",
              "      <td>rear wheel drive</td>\n",
              "      <td>Compact</td>\n",
              "      <td>Coupe</td>\n",
              "      <td>26</td>\n",
              "      <td>19</td>\n",
              "      <td>3916</td>\n",
              "      <td>46135</td>\n",
              "    </tr>\n",
              "    <tr>\n",
              "      <th>1</th>\n",
              "      <td>BMW</td>\n",
              "      <td>1 Series</td>\n",
              "      <td>2011</td>\n",
              "      <td>premium unleaded (required)</td>\n",
              "      <td>300.0</td>\n",
              "      <td>6.0</td>\n",
              "      <td>MANUAL</td>\n",
              "      <td>rear wheel drive</td>\n",
              "      <td>Compact</td>\n",
              "      <td>Convertible</td>\n",
              "      <td>28</td>\n",
              "      <td>19</td>\n",
              "      <td>3916</td>\n",
              "      <td>40650</td>\n",
              "    </tr>\n",
              "    <tr>\n",
              "      <th>2</th>\n",
              "      <td>BMW</td>\n",
              "      <td>1 Series</td>\n",
              "      <td>2011</td>\n",
              "      <td>premium unleaded (required)</td>\n",
              "      <td>300.0</td>\n",
              "      <td>6.0</td>\n",
              "      <td>MANUAL</td>\n",
              "      <td>rear wheel drive</td>\n",
              "      <td>Compact</td>\n",
              "      <td>Coupe</td>\n",
              "      <td>28</td>\n",
              "      <td>20</td>\n",
              "      <td>3916</td>\n",
              "      <td>36350</td>\n",
              "    </tr>\n",
              "    <tr>\n",
              "      <th>3</th>\n",
              "      <td>BMW</td>\n",
              "      <td>1 Series</td>\n",
              "      <td>2011</td>\n",
              "      <td>premium unleaded (required)</td>\n",
              "      <td>230.0</td>\n",
              "      <td>6.0</td>\n",
              "      <td>MANUAL</td>\n",
              "      <td>rear wheel drive</td>\n",
              "      <td>Compact</td>\n",
              "      <td>Coupe</td>\n",
              "      <td>28</td>\n",
              "      <td>18</td>\n",
              "      <td>3916</td>\n",
              "      <td>29450</td>\n",
              "    </tr>\n",
              "    <tr>\n",
              "      <th>4</th>\n",
              "      <td>BMW</td>\n",
              "      <td>1 Series</td>\n",
              "      <td>2011</td>\n",
              "      <td>premium unleaded (required)</td>\n",
              "      <td>230.0</td>\n",
              "      <td>6.0</td>\n",
              "      <td>MANUAL</td>\n",
              "      <td>rear wheel drive</td>\n",
              "      <td>Compact</td>\n",
              "      <td>Convertible</td>\n",
              "      <td>28</td>\n",
              "      <td>18</td>\n",
              "      <td>3916</td>\n",
              "      <td>34500</td>\n",
              "    </tr>\n",
              "  </tbody>\n",
              "</table>\n",
              "</div>"
            ],
            "text/plain": [
              "  Make       Model  Year  ... MPG-C  Popularity  Price\n",
              "0  BMW  1 Series M  2011  ...    19        3916  46135\n",
              "1  BMW    1 Series  2011  ...    19        3916  40650\n",
              "2  BMW    1 Series  2011  ...    20        3916  36350\n",
              "3  BMW    1 Series  2011  ...    18        3916  29450\n",
              "4  BMW    1 Series  2011  ...    18        3916  34500\n",
              "\n",
              "[5 rows x 14 columns]"
            ]
          },
          "metadata": {
            "tags": []
          },
          "execution_count": 79
        }
      ]
    },
    {
      "cell_type": "markdown",
      "metadata": {
        "id": "ZlrW_RzrEK4m",
        "colab_type": "text"
      },
      "source": [
        "## Dropping Duplicates\n",
        "\n",
        "---\n",
        "Sometimes few entries are repeated which can lead to wrong conclusions, thus its better to remove such entries before using data in the model.\n"
      ]
    },
    {
      "cell_type": "code",
      "metadata": {
        "id": "TooY-NS3ATce",
        "colab_type": "code",
        "colab": {
          "base_uri": "https://localhost:8080/",
          "height": 34
        },
        "outputId": "8fc8bf65-3883-42e1-ff5e-bc8bfb9d21b7"
      },
      "source": [
        "print(\"Number of rows with duplicate entries: \", df[df.duplicated()].shape[0])"
      ],
      "execution_count": null,
      "outputs": [
        {
          "output_type": "stream",
          "text": [
            "Number of rows with duplicate entries:  721\n"
          ],
          "name": "stdout"
        }
      ]
    },
    {
      "cell_type": "code",
      "metadata": {
        "id": "LxE2ki-yA1f6",
        "colab_type": "code",
        "colab": {
          "base_uri": "https://localhost:8080/",
          "height": 195
        },
        "outputId": "5870eb27-cd69-4e7c-fb5a-a1203579a7cc"
      },
      "source": [
        "## Removing the Duplicate Entries from DataFrame\n",
        "\n",
        "df.drop_duplicates(inplace=True)\n",
        "df.head()"
      ],
      "execution_count": null,
      "outputs": [
        {
          "output_type": "execute_result",
          "data": {
            "text/html": [
              "<div>\n",
              "<style scoped>\n",
              "    .dataframe tbody tr th:only-of-type {\n",
              "        vertical-align: middle;\n",
              "    }\n",
              "\n",
              "    .dataframe tbody tr th {\n",
              "        vertical-align: top;\n",
              "    }\n",
              "\n",
              "    .dataframe thead th {\n",
              "        text-align: right;\n",
              "    }\n",
              "</style>\n",
              "<table border=\"1\" class=\"dataframe\">\n",
              "  <thead>\n",
              "    <tr style=\"text-align: right;\">\n",
              "      <th></th>\n",
              "      <th>Make</th>\n",
              "      <th>Model</th>\n",
              "      <th>Year</th>\n",
              "      <th>Engine Fuel Type</th>\n",
              "      <th>HP</th>\n",
              "      <th>Cylinders</th>\n",
              "      <th>Transmission</th>\n",
              "      <th>Drive Mode</th>\n",
              "      <th>Vehicle Size</th>\n",
              "      <th>Vehicle Style</th>\n",
              "      <th>MPG-H</th>\n",
              "      <th>MPG-C</th>\n",
              "      <th>Popularity</th>\n",
              "      <th>Price</th>\n",
              "    </tr>\n",
              "  </thead>\n",
              "  <tbody>\n",
              "    <tr>\n",
              "      <th>0</th>\n",
              "      <td>BMW</td>\n",
              "      <td>1 Series M</td>\n",
              "      <td>2011</td>\n",
              "      <td>premium unleaded (required)</td>\n",
              "      <td>335.0</td>\n",
              "      <td>6.0</td>\n",
              "      <td>MANUAL</td>\n",
              "      <td>rear wheel drive</td>\n",
              "      <td>Compact</td>\n",
              "      <td>Coupe</td>\n",
              "      <td>26</td>\n",
              "      <td>19</td>\n",
              "      <td>3916</td>\n",
              "      <td>46135</td>\n",
              "    </tr>\n",
              "    <tr>\n",
              "      <th>1</th>\n",
              "      <td>BMW</td>\n",
              "      <td>1 Series</td>\n",
              "      <td>2011</td>\n",
              "      <td>premium unleaded (required)</td>\n",
              "      <td>300.0</td>\n",
              "      <td>6.0</td>\n",
              "      <td>MANUAL</td>\n",
              "      <td>rear wheel drive</td>\n",
              "      <td>Compact</td>\n",
              "      <td>Convertible</td>\n",
              "      <td>28</td>\n",
              "      <td>19</td>\n",
              "      <td>3916</td>\n",
              "      <td>40650</td>\n",
              "    </tr>\n",
              "    <tr>\n",
              "      <th>2</th>\n",
              "      <td>BMW</td>\n",
              "      <td>1 Series</td>\n",
              "      <td>2011</td>\n",
              "      <td>premium unleaded (required)</td>\n",
              "      <td>300.0</td>\n",
              "      <td>6.0</td>\n",
              "      <td>MANUAL</td>\n",
              "      <td>rear wheel drive</td>\n",
              "      <td>Compact</td>\n",
              "      <td>Coupe</td>\n",
              "      <td>28</td>\n",
              "      <td>20</td>\n",
              "      <td>3916</td>\n",
              "      <td>36350</td>\n",
              "    </tr>\n",
              "    <tr>\n",
              "      <th>3</th>\n",
              "      <td>BMW</td>\n",
              "      <td>1 Series</td>\n",
              "      <td>2011</td>\n",
              "      <td>premium unleaded (required)</td>\n",
              "      <td>230.0</td>\n",
              "      <td>6.0</td>\n",
              "      <td>MANUAL</td>\n",
              "      <td>rear wheel drive</td>\n",
              "      <td>Compact</td>\n",
              "      <td>Coupe</td>\n",
              "      <td>28</td>\n",
              "      <td>18</td>\n",
              "      <td>3916</td>\n",
              "      <td>29450</td>\n",
              "    </tr>\n",
              "    <tr>\n",
              "      <th>4</th>\n",
              "      <td>BMW</td>\n",
              "      <td>1 Series</td>\n",
              "      <td>2011</td>\n",
              "      <td>premium unleaded (required)</td>\n",
              "      <td>230.0</td>\n",
              "      <td>6.0</td>\n",
              "      <td>MANUAL</td>\n",
              "      <td>rear wheel drive</td>\n",
              "      <td>Compact</td>\n",
              "      <td>Convertible</td>\n",
              "      <td>28</td>\n",
              "      <td>18</td>\n",
              "      <td>3916</td>\n",
              "      <td>34500</td>\n",
              "    </tr>\n",
              "  </tbody>\n",
              "</table>\n",
              "</div>"
            ],
            "text/plain": [
              "  Make       Model  Year  ... MPG-C  Popularity  Price\n",
              "0  BMW  1 Series M  2011  ...    19        3916  46135\n",
              "1  BMW    1 Series  2011  ...    19        3916  40650\n",
              "2  BMW    1 Series  2011  ...    20        3916  36350\n",
              "3  BMW    1 Series  2011  ...    18        3916  29450\n",
              "4  BMW    1 Series  2011  ...    18        3916  34500\n",
              "\n",
              "[5 rows x 14 columns]"
            ]
          },
          "metadata": {
            "tags": []
          },
          "execution_count": 81
        }
      ]
    },
    {
      "cell_type": "code",
      "metadata": {
        "id": "IzlgrSyrBbi-",
        "colab_type": "code",
        "colab": {
          "base_uri": "https://localhost:8080/",
          "height": 47
        },
        "outputId": "b1a6f5f0-ec06-4103-ee81-6321b0d23688"
      },
      "source": [
        "#Checking number of duplicate entries after processing\n",
        "\n",
        "df[df.duplicated()]"
      ],
      "execution_count": null,
      "outputs": [
        {
          "output_type": "execute_result",
          "data": {
            "text/html": [
              "<div>\n",
              "<style scoped>\n",
              "    .dataframe tbody tr th:only-of-type {\n",
              "        vertical-align: middle;\n",
              "    }\n",
              "\n",
              "    .dataframe tbody tr th {\n",
              "        vertical-align: top;\n",
              "    }\n",
              "\n",
              "    .dataframe thead th {\n",
              "        text-align: right;\n",
              "    }\n",
              "</style>\n",
              "<table border=\"1\" class=\"dataframe\">\n",
              "  <thead>\n",
              "    <tr style=\"text-align: right;\">\n",
              "      <th></th>\n",
              "      <th>Make</th>\n",
              "      <th>Model</th>\n",
              "      <th>Year</th>\n",
              "      <th>Engine Fuel Type</th>\n",
              "      <th>HP</th>\n",
              "      <th>Cylinders</th>\n",
              "      <th>Transmission</th>\n",
              "      <th>Drive Mode</th>\n",
              "      <th>Vehicle Size</th>\n",
              "      <th>Vehicle Style</th>\n",
              "      <th>MPG-H</th>\n",
              "      <th>MPG-C</th>\n",
              "      <th>Popularity</th>\n",
              "      <th>Price</th>\n",
              "    </tr>\n",
              "  </thead>\n",
              "  <tbody>\n",
              "  </tbody>\n",
              "</table>\n",
              "</div>"
            ],
            "text/plain": [
              "Empty DataFrame\n",
              "Columns: [Make, Model, Year, Engine Fuel Type, HP, Cylinders, Transmission, Drive Mode, Vehicle Size, Vehicle Style, MPG-H, MPG-C, Popularity, Price]\n",
              "Index: []"
            ]
          },
          "metadata": {
            "tags": []
          },
          "execution_count": 82
        }
      ]
    },
    {
      "cell_type": "markdown",
      "metadata": {
        "id": "ecWByQhSFtHd",
        "colab_type": "text"
      },
      "source": [
        "## Checking for null values in the data"
      ]
    },
    {
      "cell_type": "code",
      "metadata": {
        "id": "rTsKJEMOFlb8",
        "colab_type": "code",
        "colab": {
          "base_uri": "https://localhost:8080/",
          "height": 269
        },
        "outputId": "92cb0265-2609-45d5-e0ff-a6548ab48a32"
      },
      "source": [
        "df.isnull().sum()"
      ],
      "execution_count": null,
      "outputs": [
        {
          "output_type": "execute_result",
          "data": {
            "text/plain": [
              "Make                 0\n",
              "Model                0\n",
              "Year                 0\n",
              "Engine Fuel Type     3\n",
              "HP                  69\n",
              "Cylinders           30\n",
              "Transmission         0\n",
              "Drive Mode           0\n",
              "Vehicle Size         0\n",
              "Vehicle Style        0\n",
              "MPG-H                0\n",
              "MPG-C                0\n",
              "Popularity           0\n",
              "Price                0\n",
              "dtype: int64"
            ]
          },
          "metadata": {
            "tags": []
          },
          "execution_count": 83
        }
      ]
    },
    {
      "cell_type": "markdown",
      "metadata": {
        "id": "krafemoPo8yL",
        "colab_type": "text"
      },
      "source": [
        "\n",
        "\n",
        "> *We can observe that a small fraction of the data has null/missing values in it thus it won't cause much difference if we remove them.*\n",
        "\n",
        "\n"
      ]
    },
    {
      "cell_type": "code",
      "metadata": {
        "id": "3j1CEPGpF3yx",
        "colab_type": "code",
        "colab": {}
      },
      "source": [
        "#Dropping the missing values\n",
        "df.dropna(inplace=True)"
      ],
      "execution_count": null,
      "outputs": []
    },
    {
      "cell_type": "code",
      "metadata": {
        "id": "Ej7MziaAGs3y",
        "colab_type": "code",
        "colab": {
          "base_uri": "https://localhost:8080/",
          "height": 269
        },
        "outputId": "b58a1af1-1b1e-4b39-ad8b-e0c6849a1f5f"
      },
      "source": [
        "df.isnull().sum() #Checking our data once again"
      ],
      "execution_count": null,
      "outputs": [
        {
          "output_type": "execute_result",
          "data": {
            "text/plain": [
              "Make                0\n",
              "Model               0\n",
              "Year                0\n",
              "Engine Fuel Type    0\n",
              "HP                  0\n",
              "Cylinders           0\n",
              "Transmission        0\n",
              "Drive Mode          0\n",
              "Vehicle Size        0\n",
              "Vehicle Style       0\n",
              "MPG-H               0\n",
              "MPG-C               0\n",
              "Popularity          0\n",
              "Price               0\n",
              "dtype: int64"
            ]
          },
          "metadata": {
            "tags": []
          },
          "execution_count": 85
        }
      ]
    },
    {
      "cell_type": "code",
      "metadata": {
        "id": "8Y7r7M0wG6OC",
        "colab_type": "code",
        "colab": {
          "base_uri": "https://localhost:8080/",
          "height": 34
        },
        "outputId": "a3918b5d-1c0f-4864-e8eb-8205c9491117"
      },
      "source": [
        "df.shape"
      ],
      "execution_count": null,
      "outputs": [
        {
          "output_type": "execute_result",
          "data": {
            "text/plain": [
              "(11092, 14)"
            ]
          },
          "metadata": {
            "tags": []
          },
          "execution_count": 86
        }
      ]
    },
    {
      "cell_type": "markdown",
      "metadata": {
        "id": "hg9fzctJIeUt",
        "colab_type": "text"
      },
      "source": [
        "## Checking for Outliners and then handling them"
      ]
    },
    {
      "cell_type": "code",
      "metadata": {
        "id": "ZWmdAaPKIc-m",
        "colab_type": "code",
        "colab": {
          "base_uri": "https://localhost:8080/",
          "height": 195
        },
        "outputId": "222e812d-6122-43c5-f488-4ce8131a2756"
      },
      "source": [
        "df.head()"
      ],
      "execution_count": null,
      "outputs": [
        {
          "output_type": "execute_result",
          "data": {
            "text/html": [
              "<div>\n",
              "<style scoped>\n",
              "    .dataframe tbody tr th:only-of-type {\n",
              "        vertical-align: middle;\n",
              "    }\n",
              "\n",
              "    .dataframe tbody tr th {\n",
              "        vertical-align: top;\n",
              "    }\n",
              "\n",
              "    .dataframe thead th {\n",
              "        text-align: right;\n",
              "    }\n",
              "</style>\n",
              "<table border=\"1\" class=\"dataframe\">\n",
              "  <thead>\n",
              "    <tr style=\"text-align: right;\">\n",
              "      <th></th>\n",
              "      <th>Make</th>\n",
              "      <th>Model</th>\n",
              "      <th>Year</th>\n",
              "      <th>Engine Fuel Type</th>\n",
              "      <th>HP</th>\n",
              "      <th>Cylinders</th>\n",
              "      <th>Transmission</th>\n",
              "      <th>Drive Mode</th>\n",
              "      <th>Vehicle Size</th>\n",
              "      <th>Vehicle Style</th>\n",
              "      <th>MPG-H</th>\n",
              "      <th>MPG-C</th>\n",
              "      <th>Popularity</th>\n",
              "      <th>Price</th>\n",
              "    </tr>\n",
              "  </thead>\n",
              "  <tbody>\n",
              "    <tr>\n",
              "      <th>0</th>\n",
              "      <td>BMW</td>\n",
              "      <td>1 Series M</td>\n",
              "      <td>2011</td>\n",
              "      <td>premium unleaded (required)</td>\n",
              "      <td>335.0</td>\n",
              "      <td>6.0</td>\n",
              "      <td>MANUAL</td>\n",
              "      <td>rear wheel drive</td>\n",
              "      <td>Compact</td>\n",
              "      <td>Coupe</td>\n",
              "      <td>26</td>\n",
              "      <td>19</td>\n",
              "      <td>3916</td>\n",
              "      <td>46135</td>\n",
              "    </tr>\n",
              "    <tr>\n",
              "      <th>1</th>\n",
              "      <td>BMW</td>\n",
              "      <td>1 Series</td>\n",
              "      <td>2011</td>\n",
              "      <td>premium unleaded (required)</td>\n",
              "      <td>300.0</td>\n",
              "      <td>6.0</td>\n",
              "      <td>MANUAL</td>\n",
              "      <td>rear wheel drive</td>\n",
              "      <td>Compact</td>\n",
              "      <td>Convertible</td>\n",
              "      <td>28</td>\n",
              "      <td>19</td>\n",
              "      <td>3916</td>\n",
              "      <td>40650</td>\n",
              "    </tr>\n",
              "    <tr>\n",
              "      <th>2</th>\n",
              "      <td>BMW</td>\n",
              "      <td>1 Series</td>\n",
              "      <td>2011</td>\n",
              "      <td>premium unleaded (required)</td>\n",
              "      <td>300.0</td>\n",
              "      <td>6.0</td>\n",
              "      <td>MANUAL</td>\n",
              "      <td>rear wheel drive</td>\n",
              "      <td>Compact</td>\n",
              "      <td>Coupe</td>\n",
              "      <td>28</td>\n",
              "      <td>20</td>\n",
              "      <td>3916</td>\n",
              "      <td>36350</td>\n",
              "    </tr>\n",
              "    <tr>\n",
              "      <th>3</th>\n",
              "      <td>BMW</td>\n",
              "      <td>1 Series</td>\n",
              "      <td>2011</td>\n",
              "      <td>premium unleaded (required)</td>\n",
              "      <td>230.0</td>\n",
              "      <td>6.0</td>\n",
              "      <td>MANUAL</td>\n",
              "      <td>rear wheel drive</td>\n",
              "      <td>Compact</td>\n",
              "      <td>Coupe</td>\n",
              "      <td>28</td>\n",
              "      <td>18</td>\n",
              "      <td>3916</td>\n",
              "      <td>29450</td>\n",
              "    </tr>\n",
              "    <tr>\n",
              "      <th>4</th>\n",
              "      <td>BMW</td>\n",
              "      <td>1 Series</td>\n",
              "      <td>2011</td>\n",
              "      <td>premium unleaded (required)</td>\n",
              "      <td>230.0</td>\n",
              "      <td>6.0</td>\n",
              "      <td>MANUAL</td>\n",
              "      <td>rear wheel drive</td>\n",
              "      <td>Compact</td>\n",
              "      <td>Convertible</td>\n",
              "      <td>28</td>\n",
              "      <td>18</td>\n",
              "      <td>3916</td>\n",
              "      <td>34500</td>\n",
              "    </tr>\n",
              "  </tbody>\n",
              "</table>\n",
              "</div>"
            ],
            "text/plain": [
              "  Make       Model  Year  ... MPG-C  Popularity  Price\n",
              "0  BMW  1 Series M  2011  ...    19        3916  46135\n",
              "1  BMW    1 Series  2011  ...    19        3916  40650\n",
              "2  BMW    1 Series  2011  ...    20        3916  36350\n",
              "3  BMW    1 Series  2011  ...    18        3916  29450\n",
              "4  BMW    1 Series  2011  ...    18        3916  34500\n",
              "\n",
              "[5 rows x 14 columns]"
            ]
          },
          "metadata": {
            "tags": []
          },
          "execution_count": 87
        }
      ]
    },
    {
      "cell_type": "markdown",
      "metadata": {
        "id": "amW9nFtdNwOp",
        "colab_type": "text"
      },
      "source": [
        "\n",
        "\n",
        "> *We shall now plot some graphs/plots to detect if there's outliner present in our data which needs to be handled.*\n",
        "\n"
      ]
    },
    {
      "cell_type": "code",
      "metadata": {
        "id": "xdw0r2LFKQYN",
        "colab_type": "code",
        "colab": {
          "base_uri": "https://localhost:8080/",
          "height": 302
        },
        "outputId": "6bb8a305-03a3-45be-bdc9-9d2f5c06a1f8"
      },
      "source": [
        "sns.boxplot(x=\"Popularity\",data=df)"
      ],
      "execution_count": null,
      "outputs": [
        {
          "output_type": "execute_result",
          "data": {
            "text/plain": [
              "<matplotlib.axes._subplots.AxesSubplot at 0x7f73ffbe23c8>"
            ]
          },
          "metadata": {
            "tags": []
          },
          "execution_count": 88
        },
        {
          "output_type": "display_data",
          "data": {
            "image/png": "[encoded data removed]",
            "text/plain": [
              "<Figure size 432x288 with 1 Axes>"
            ]
          },
          "metadata": {
            "tags": [],
            "needs_background": "light"
          }
        }
      ]
    },
    {
      "cell_type": "code",
      "metadata": {
        "id": "5DTBGEeZKQ-a",
        "colab_type": "code",
        "colab": {
          "base_uri": "https://localhost:8080/",
          "height": 302
        },
        "outputId": "fb989fb3-bb97-4028-de40-d8d5ced0ea53"
      },
      "source": [
        "sns.boxplot(x=\"MPG-H\",data=df)"
      ],
      "execution_count": null,
      "outputs": [
        {
          "output_type": "execute_result",
          "data": {
            "text/plain": [
              "<matplotlib.axes._subplots.AxesSubplot at 0x7f73ffb40630>"
            ]
          },
          "metadata": {
            "tags": []
          },
          "execution_count": 89
        },
        {
          "output_type": "display_data",
          "data": {
            "image/png": "[encoded data removed]",
            "text/plain": [
              "<Figure size 432x288 with 1 Axes>"
            ]
          },
          "metadata": {
            "tags": [],
            "needs_background": "light"
          }
        }
      ]
    },
    {
      "cell_type": "code",
      "metadata": {
        "id": "LyRm0hpdKRhF",
        "colab_type": "code",
        "colab": {
          "base_uri": "https://localhost:8080/",
          "height": 302
        },
        "outputId": "f45add8a-5ab7-42ee-b0dc-12f8653f27b5"
      },
      "source": [
        "sns.boxplot(x=\"MPG-C\",data=df)"
      ],
      "execution_count": null,
      "outputs": [
        {
          "output_type": "execute_result",
          "data": {
            "text/plain": [
              "<matplotlib.axes._subplots.AxesSubplot at 0x7f73ffb155c0>"
            ]
          },
          "metadata": {
            "tags": []
          },
          "execution_count": 90
        },
        {
          "output_type": "display_data",
          "data": {
            "image/png": "[encoded data removed]",
            "text/plain": [
              "<Figure size 432x288 with 1 Axes>"
            ]
          },
          "metadata": {
            "tags": [],
            "needs_background": "light"
          }
        }
      ]
    },
    {
      "cell_type": "code",
      "metadata": {
        "id": "e3Wr56DyKR0m",
        "colab_type": "code",
        "colab": {
          "base_uri": "https://localhost:8080/",
          "height": 302
        },
        "outputId": "7c65010e-8309-4baa-aa50-7fa3031506c4"
      },
      "source": [
        "sns.boxplot(x=\"HP\",data=df)"
      ],
      "execution_count": null,
      "outputs": [
        {
          "output_type": "execute_result",
          "data": {
            "text/plain": [
              "<matplotlib.axes._subplots.AxesSubplot at 0x7f73ffa89940>"
            ]
          },
          "metadata": {
            "tags": []
          },
          "execution_count": 91
        },
        {
          "output_type": "display_data",
          "data": {
            "image/png": "[encoded data removed]",
            "text/plain": [
              "<Figure size 432x288 with 1 Axes>"
            ]
          },
          "metadata": {
            "tags": [],
            "needs_background": "light"
          }
        }
      ]
    },
    {
      "cell_type": "markdown",
      "metadata": {
        "id": "4EuylRnEO3Dc",
        "colab_type": "text"
      },
      "source": [
        "> Since we inferred from boxplots that there are outliners present in the data.\n",
        "\n",
        "> But it would be better if we plot various scatterplots to better look at them\n",
        "\n"
      ]
    },
    {
      "cell_type": "code",
      "metadata": {
        "id": "bbzSgmx5KRVU",
        "colab_type": "code",
        "colab": {
          "base_uri": "https://localhost:8080/",
          "height": 422
        },
        "outputId": "a7ec0d12-7401-4f3e-8d0e-228d5e86be71"
      },
      "source": [
        "#Scatterplot using seaborn library\n",
        "plt.figure(figsize=(10,6))\n",
        "sns.set()\n",
        "sns.scatterplot(x=\"HP\",y=\"Price\",data=df)"
      ],
      "execution_count": null,
      "outputs": [
        {
          "output_type": "execute_result",
          "data": {
            "text/plain": [
              "<matplotlib.axes._subplots.AxesSubplot at 0x7f73ffa597f0>"
            ]
          },
          "metadata": {
            "tags": []
          },
          "execution_count": 92
        },
        {
          "output_type": "display_data",
          "data": {
            "image/png": "[encoded data removed]",
            "text/plain": [
              "<Figure size 720x432 with 1 Axes>"
            ]
          },
          "metadata": {
            "tags": [],
            "needs_background": "light"
          }
        }
      ]
    },
    {
      "cell_type": "code",
      "metadata": {
        "id": "laLtNtd-KQwZ",
        "colab_type": "code",
        "colab": {
          "base_uri": "https://localhost:8080/",
          "height": 422
        },
        "outputId": "a383b87f-50ef-41f0-dd5b-fcd0e5e3e120"
      },
      "source": [
        "plt.figure(figsize=(10,6))\n",
        "sns.set()\n",
        "sns.scatterplot(x=\"Popularity\",y=\"Price\",data=df)"
      ],
      "execution_count": null,
      "outputs": [
        {
          "output_type": "execute_result",
          "data": {
            "text/plain": [
              "<matplotlib.axes._subplots.AxesSubplot at 0x7f73ff9b9dd8>"
            ]
          },
          "metadata": {
            "tags": []
          },
          "execution_count": 93
        },
        {
          "output_type": "display_data",
          "data": {
            "image/png": "[encoded data removed]",
            "text/plain": [
              "<Figure size 720x432 with 1 Axes>"
            ]
          },
          "metadata": {
            "tags": []
          }
        }
      ]
    },
    {
      "cell_type": "code",
      "metadata": {
        "id": "tGORAhHONJZg",
        "colab_type": "code",
        "colab": {
          "base_uri": "https://localhost:8080/",
          "height": 422
        },
        "outputId": "4deb694b-645d-435c-a2c0-ce046d95d0c8"
      },
      "source": [
        "plt.figure(figsize=(10,6))\n",
        "sns.set()\n",
        "sns.scatterplot(x=\"Cylinders\",y=\"Price\",data=df)"
      ],
      "execution_count": null,
      "outputs": [
        {
          "output_type": "execute_result",
          "data": {
            "text/plain": [
              "<matplotlib.axes._subplots.AxesSubplot at 0x7f73ff983978>"
            ]
          },
          "metadata": {
            "tags": []
          },
          "execution_count": 94
        },
        {
          "output_type": "display_data",
          "data": {
            "image/png": "[encoded data removed]",
            "text/plain": [
              "<Figure size 720x432 with 1 Axes>"
            ]
          },
          "metadata": {
            "tags": []
          }
        }
      ]
    },
    {
      "cell_type": "code",
      "metadata": {
        "id": "YrNrMONhNTjo",
        "colab_type": "code",
        "colab": {
          "base_uri": "https://localhost:8080/",
          "height": 422
        },
        "outputId": "d0a81712-9217-40c8-e793-538f96a47253"
      },
      "source": [
        "plt.figure(figsize=(10,6))\n",
        "sns.set()\n",
        "sns.scatterplot(x=\"MPG-C\",y=\"Price\",data=df)"
      ],
      "execution_count": null,
      "outputs": [
        {
          "output_type": "execute_result",
          "data": {
            "text/plain": [
              "<matplotlib.axes._subplots.AxesSubplot at 0x7f73ff946518>"
            ]
          },
          "metadata": {
            "tags": []
          },
          "execution_count": 95
        },
        {
          "output_type": "display_data",
          "data": {
            "image/png": "[encoded data removed]",
            "text/plain": [
              "<Figure size 720x432 with 1 Axes>"
            ]
          },
          "metadata": {
            "tags": []
          }
        }
      ]
    },
    {
      "cell_type": "code",
      "metadata": {
        "id": "woxl-3B8NZ6j",
        "colab_type": "code",
        "colab": {
          "base_uri": "https://localhost:8080/",
          "height": 422
        },
        "outputId": "ba3b8140-8693-48ac-cec5-46c1cb3e0de4"
      },
      "source": [
        "plt.figure(figsize=(10,6))\n",
        "sns.set()\n",
        "sns.scatterplot(x=\"MPG-H\",y=\"Price\",data=df)"
      ],
      "execution_count": null,
      "outputs": [
        {
          "output_type": "execute_result",
          "data": {
            "text/plain": [
              "<matplotlib.axes._subplots.AxesSubplot at 0x7f73ff8fd898>"
            ]
          },
          "metadata": {
            "tags": []
          },
          "execution_count": 96
        },
        {
          "output_type": "display_data",
          "data": {
            "image/png": "[encoded data removed]",
            "text/plain": [
              "<Figure size 720x432 with 1 Axes>"
            ]
          },
          "metadata": {
            "tags": []
          }
        }
      ]
    },
    {
      "cell_type": "markdown",
      "metadata": {
        "id": "xSBgh5MVYYWb",
        "colab_type": "text"
      },
      "source": [
        "\n",
        "\n",
        "> From the above scatter plots and box plots we get a clear sense about the outliners and how each column posses some outliners.\n",
        "\n",
        "---\n",
        "\n",
        "\n",
        "## We shall now handle these outliners using Inter-quantile range (IQR).\n",
        "\n",
        "> *The **interquartile range (IQR)**, also called the midspread or middle 50%, or technically H-spread, is a measure of statistical dispersion, being equal to the difference between 75th and 25th percentiles, or between upper and lower quartiles, **IQR = Q3 − Q1**.* \n",
        "\n",
        ">*In other words, the IQR is the first quartile subtracted from the third quartile; these quartiles can be clearly seen on a box plot on the data.*\n",
        "\n",
        ">*It is a measure of the dispersion similar to standard deviation or variance, but is **much more robust against outliers**.* \n",
        "\n",
        "\n",
        "\n",
        "\n",
        "\n",
        "\n"
      ]
    },
    {
      "cell_type": "code",
      "metadata": {
        "id": "jBFGlgsPQ3nl",
        "colab_type": "code",
        "colab": {
          "base_uri": "https://localhost:8080/",
          "height": 151
        },
        "outputId": "206f6503-93a8-496a-a714-b27f509a5111"
      },
      "source": [
        "#IQR method to handle outliners\n",
        "\n",
        "Q1 = df.quantile(0.25)      #Quantile 1\n",
        "Q3 = df.quantile(0.75)      #Quantile 2\n",
        "IQR = Q3 - Q1               #IQR\n",
        "print(IQR)\n"
      ],
      "execution_count": null,
      "outputs": [
        {
          "output_type": "stream",
          "text": [
            "Year              9.00\n",
            "HP              131.00\n",
            "Cylinders         2.00\n",
            "MPG-H             8.00\n",
            "MPG-C             6.00\n",
            "Popularity     1460.00\n",
            "Price         21491.25\n",
            "dtype: float64\n"
          ],
          "name": "stdout"
        }
      ]
    },
    {
      "cell_type": "markdown",
      "metadata": {
        "id": "da6L0v-qaRaq",
        "colab_type": "text"
      },
      "source": [
        "Removing outliners.\n",
        "The following code first check for data points which are outliner on either side of IQR range. \n",
        "Then the "
      ]
    },
    {
      "cell_type": "code",
      "metadata": {
        "id": "7ffTY9xGQ2yN",
        "colab_type": "code",
        "colab": {}
      },
      "source": [
        "df2 = df[~( (df < (Q1 - 1.5 * IQR) ) | (df > (Q3 + 1.5 * IQR) ) ).any(axis=1)]"
      ],
      "execution_count": null,
      "outputs": []
    },
    {
      "cell_type": "code",
      "metadata": {
        "id": "mBQVjGAwQQsE",
        "colab_type": "code",
        "colab": {
          "base_uri": "https://localhost:8080/",
          "height": 195
        },
        "outputId": "9b59772f-c65f-4653-cb06-755bea816a1e"
      },
      "source": [
        "df2.head()"
      ],
      "execution_count": null,
      "outputs": [
        {
          "output_type": "execute_result",
          "data": {
            "text/html": [
              "<div>\n",
              "<style scoped>\n",
              "    .dataframe tbody tr th:only-of-type {\n",
              "        vertical-align: middle;\n",
              "    }\n",
              "\n",
              "    .dataframe tbody tr th {\n",
              "        vertical-align: top;\n",
              "    }\n",
              "\n",
              "    .dataframe thead th {\n",
              "        text-align: right;\n",
              "    }\n",
              "</style>\n",
              "<table border=\"1\" class=\"dataframe\">\n",
              "  <thead>\n",
              "    <tr style=\"text-align: right;\">\n",
              "      <th></th>\n",
              "      <th>Make</th>\n",
              "      <th>Model</th>\n",
              "      <th>Year</th>\n",
              "      <th>Engine Fuel Type</th>\n",
              "      <th>HP</th>\n",
              "      <th>Cylinders</th>\n",
              "      <th>Transmission</th>\n",
              "      <th>Drive Mode</th>\n",
              "      <th>Vehicle Size</th>\n",
              "      <th>Vehicle Style</th>\n",
              "      <th>MPG-H</th>\n",
              "      <th>MPG-C</th>\n",
              "      <th>Popularity</th>\n",
              "      <th>Price</th>\n",
              "    </tr>\n",
              "  </thead>\n",
              "  <tbody>\n",
              "    <tr>\n",
              "      <th>0</th>\n",
              "      <td>BMW</td>\n",
              "      <td>1 Series M</td>\n",
              "      <td>2011</td>\n",
              "      <td>premium unleaded (required)</td>\n",
              "      <td>335.0</td>\n",
              "      <td>6.0</td>\n",
              "      <td>MANUAL</td>\n",
              "      <td>rear wheel drive</td>\n",
              "      <td>Compact</td>\n",
              "      <td>Coupe</td>\n",
              "      <td>26</td>\n",
              "      <td>19</td>\n",
              "      <td>3916</td>\n",
              "      <td>46135</td>\n",
              "    </tr>\n",
              "    <tr>\n",
              "      <th>1</th>\n",
              "      <td>BMW</td>\n",
              "      <td>1 Series</td>\n",
              "      <td>2011</td>\n",
              "      <td>premium unleaded (required)</td>\n",
              "      <td>300.0</td>\n",
              "      <td>6.0</td>\n",
              "      <td>MANUAL</td>\n",
              "      <td>rear wheel drive</td>\n",
              "      <td>Compact</td>\n",
              "      <td>Convertible</td>\n",
              "      <td>28</td>\n",
              "      <td>19</td>\n",
              "      <td>3916</td>\n",
              "      <td>40650</td>\n",
              "    </tr>\n",
              "    <tr>\n",
              "      <th>2</th>\n",
              "      <td>BMW</td>\n",
              "      <td>1 Series</td>\n",
              "      <td>2011</td>\n",
              "      <td>premium unleaded (required)</td>\n",
              "      <td>300.0</td>\n",
              "      <td>6.0</td>\n",
              "      <td>MANUAL</td>\n",
              "      <td>rear wheel drive</td>\n",
              "      <td>Compact</td>\n",
              "      <td>Coupe</td>\n",
              "      <td>28</td>\n",
              "      <td>20</td>\n",
              "      <td>3916</td>\n",
              "      <td>36350</td>\n",
              "    </tr>\n",
              "    <tr>\n",
              "      <th>3</th>\n",
              "      <td>BMW</td>\n",
              "      <td>1 Series</td>\n",
              "      <td>2011</td>\n",
              "      <td>premium unleaded (required)</td>\n",
              "      <td>230.0</td>\n",
              "      <td>6.0</td>\n",
              "      <td>MANUAL</td>\n",
              "      <td>rear wheel drive</td>\n",
              "      <td>Compact</td>\n",
              "      <td>Coupe</td>\n",
              "      <td>28</td>\n",
              "      <td>18</td>\n",
              "      <td>3916</td>\n",
              "      <td>29450</td>\n",
              "    </tr>\n",
              "    <tr>\n",
              "      <th>4</th>\n",
              "      <td>BMW</td>\n",
              "      <td>1 Series</td>\n",
              "      <td>2011</td>\n",
              "      <td>premium unleaded (required)</td>\n",
              "      <td>230.0</td>\n",
              "      <td>6.0</td>\n",
              "      <td>MANUAL</td>\n",
              "      <td>rear wheel drive</td>\n",
              "      <td>Compact</td>\n",
              "      <td>Convertible</td>\n",
              "      <td>28</td>\n",
              "      <td>18</td>\n",
              "      <td>3916</td>\n",
              "      <td>34500</td>\n",
              "    </tr>\n",
              "  </tbody>\n",
              "</table>\n",
              "</div>"
            ],
            "text/plain": [
              "  Make       Model  Year  ... MPG-C  Popularity  Price\n",
              "0  BMW  1 Series M  2011  ...    19        3916  46135\n",
              "1  BMW    1 Series  2011  ...    19        3916  40650\n",
              "2  BMW    1 Series  2011  ...    20        3916  36350\n",
              "3  BMW    1 Series  2011  ...    18        3916  29450\n",
              "4  BMW    1 Series  2011  ...    18        3916  34500\n",
              "\n",
              "[5 rows x 14 columns]"
            ]
          },
          "metadata": {
            "tags": []
          },
          "execution_count": 99
        }
      ]
    },
    {
      "cell_type": "code",
      "metadata": {
        "id": "D4WMczPMQUJo",
        "colab_type": "code",
        "colab": {
          "base_uri": "https://localhost:8080/",
          "height": 34
        },
        "outputId": "94b74640-8426-432d-c46c-84dc7a4b6ae6"
      },
      "source": [
        "#Checking the shape of the dataset after removing the outliners.\n",
        "df2.shape"
      ],
      "execution_count": null,
      "outputs": [
        {
          "output_type": "execute_result",
          "data": {
            "text/plain": [
              "(8608, 14)"
            ]
          },
          "metadata": {
            "tags": []
          },
          "execution_count": 100
        }
      ]
    },
    {
      "cell_type": "markdown",
      "metadata": {
        "id": "HfumScCYUyWD",
        "colab_type": "text"
      },
      "source": [
        "## What are the most represented CAR brands in the dataset?"
      ]
    },
    {
      "cell_type": "code",
      "metadata": {
        "id": "SFU86sIiXS8t",
        "colab_type": "code",
        "colab": {
          "base_uri": "https://localhost:8080/",
          "height": 235
        },
        "outputId": "740f1b65-53ea-44c8-9388-b2564c2dec61"
      },
      "source": [
        "\n",
        "print(\"Top 10 Car brands most represented in the dataset are :\\n\")\n",
        "df2.Make.value_counts()[:10]"
      ],
      "execution_count": null,
      "outputs": [
        {
          "output_type": "stream",
          "text": [
            "Top 10 Car brands most represented in the dataset are :\n",
            "\n"
          ],
          "name": "stdout"
        },
        {
          "output_type": "execute_result",
          "data": {
            "text/plain": [
              "Chevrolet     1028\n",
              "Toyota         629\n",
              "Volkswagen     515\n",
              "Nissan         513\n",
              "GMC            469\n",
              "Dodge          425\n",
              "Mazda          378\n",
              "Honda          373\n",
              "Suzuki         336\n",
              "Infiniti       322\n",
              "Name: Make, dtype: int64"
            ]
          },
          "metadata": {
            "tags": []
          },
          "execution_count": 101
        }
      ]
    },
    {
      "cell_type": "code",
      "metadata": {
        "id": "YUSm7Ez7VSUo",
        "colab_type": "code",
        "colab": {
          "base_uri": "https://localhost:8080/",
          "height": 427
        },
        "outputId": "69b6302c-b4df-4057-a509-86938297ce31"
      },
      "source": [
        "#Percentage of each car brand\n",
        "count = df2.Make.value_counts()*100/sum(df2.Make.value_counts())\n",
        "\n",
        "plt.figure(figsize = (10,6))\n",
        "plt.bar(count.index[:10],height=count[0:10])\n",
        "plt.title(\"Top 10 CAR brands in the dataset\")\n",
        "plt.xlabel(\"CAR brands\")\n",
        "plt.ylabel(\"Percentage present per car brand\")"
      ],
      "execution_count": null,
      "outputs": [
        {
          "output_type": "execute_result",
          "data": {
            "text/plain": [
              "Text(0, 0.5, 'Percentage present per car brand')"
            ]
          },
          "metadata": {
            "tags": []
          },
          "execution_count": 102
        },
        {
          "output_type": "display_data",
          "data": {
            "image/png": "[encoded data removed]",
            "text/plain": [
              "<Figure size 720x432 with 1 Axes>"
            ]
          },
          "metadata": {
            "tags": []
          }
        }
      ]
    },
    {
      "cell_type": "markdown",
      "metadata": {
        "id": "CgV8Fh3vamOY",
        "colab_type": "text"
      },
      "source": [
        "\n",
        "\n",
        "> We shall now find the average price of top CAR brands\n",
        "\n"
      ]
    },
    {
      "cell_type": "code",
      "metadata": {
        "id": "uVfpG17ZZAed",
        "colab_type": "code",
        "colab": {
          "base_uri": "https://localhost:8080/",
          "height": 314
        },
        "outputId": "7305d8a2-3cad-4ffa-c9ee-1ea84b02a0a3"
      },
      "source": [
        " df2[['Make','Price']].loc[(df2.Make == 'Chevrolet')|\n",
        "                           (df['Make'] == 'Ford')|\n",
        "                (df['Make'] == 'Volkswagen')|\n",
        "               (df['Make'] == 'Toyota')|\n",
        "               (df['Make'] == 'Dodge')|\n",
        "               (df['Make'] == 'Nissan')|\n",
        "               (df['Make'] == 'GMC')|\n",
        "               (df['Make'] == 'Honda')|\n",
        "               (df['Make'] == 'Mazda')].groupby('Make').mean()"
      ],
      "execution_count": null,
      "outputs": [
        {
          "output_type": "execute_result",
          "data": {
            "text/html": [
              "<div>\n",
              "<style scoped>\n",
              "    .dataframe tbody tr th:only-of-type {\n",
              "        vertical-align: middle;\n",
              "    }\n",
              "\n",
              "    .dataframe tbody tr th {\n",
              "        vertical-align: top;\n",
              "    }\n",
              "\n",
              "    .dataframe thead th {\n",
              "        text-align: right;\n",
              "    }\n",
              "</style>\n",
              "<table border=\"1\" class=\"dataframe\">\n",
              "  <thead>\n",
              "    <tr style=\"text-align: right;\">\n",
              "      <th></th>\n",
              "      <th>Price</th>\n",
              "    </tr>\n",
              "    <tr>\n",
              "      <th>Make</th>\n",
              "      <th></th>\n",
              "    </tr>\n",
              "  </thead>\n",
              "  <tbody>\n",
              "    <tr>\n",
              "      <th>Chevrolet</th>\n",
              "      <td>28188.626459</td>\n",
              "    </tr>\n",
              "    <tr>\n",
              "      <th>Dodge</th>\n",
              "      <td>26076.722353</td>\n",
              "    </tr>\n",
              "    <tr>\n",
              "      <th>GMC</th>\n",
              "      <td>33261.400853</td>\n",
              "    </tr>\n",
              "    <tr>\n",
              "      <th>Honda</th>\n",
              "      <td>27381.364611</td>\n",
              "    </tr>\n",
              "    <tr>\n",
              "      <th>Mazda</th>\n",
              "      <td>20495.820106</td>\n",
              "    </tr>\n",
              "    <tr>\n",
              "      <th>Nissan</th>\n",
              "      <td>28352.543860</td>\n",
              "    </tr>\n",
              "    <tr>\n",
              "      <th>Toyota</th>\n",
              "      <td>29011.750397</td>\n",
              "    </tr>\n",
              "    <tr>\n",
              "      <th>Volkswagen</th>\n",
              "      <td>29032.817476</td>\n",
              "    </tr>\n",
              "  </tbody>\n",
              "</table>\n",
              "</div>"
            ],
            "text/plain": [
              "                   Price\n",
              "Make                    \n",
              "Chevrolet   28188.626459\n",
              "Dodge       26076.722353\n",
              "GMC         33261.400853\n",
              "Honda       27381.364611\n",
              "Mazda       20495.820106\n",
              "Nissan      28352.543860\n",
              "Toyota      29011.750397\n",
              "Volkswagen  29032.817476"
            ]
          },
          "metadata": {
            "tags": []
          },
          "execution_count": 103
        }
      ]
    },
    {
      "cell_type": "markdown",
      "metadata": {
        "id": "OKGOVyggdDQS",
        "colab_type": "text"
      },
      "source": [
        "## Correlation\n",
        "\n",
        "> *Correlation is a statistical measure. Correlation explains how one or more variables are **related** to each other.*\n",
        "\n"
      ]
    },
    {
      "cell_type": "code",
      "metadata": {
        "id": "DuPoUkD4ZBIL",
        "colab_type": "code",
        "colab": {
          "base_uri": "https://localhost:8080/",
          "height": 254
        },
        "outputId": "41e13702-dc15-46e7-d608-26ef38f8ba8d"
      },
      "source": [
        "#Finding the correlation matrix \n",
        "df2.corr()"
      ],
      "execution_count": null,
      "outputs": [
        {
          "output_type": "execute_result",
          "data": {
            "text/html": [
              "<div>\n",
              "<style scoped>\n",
              "    .dataframe tbody tr th:only-of-type {\n",
              "        vertical-align: middle;\n",
              "    }\n",
              "\n",
              "    .dataframe tbody tr th {\n",
              "        vertical-align: top;\n",
              "    }\n",
              "\n",
              "    .dataframe thead th {\n",
              "        text-align: right;\n",
              "    }\n",
              "</style>\n",
              "<table border=\"1\" class=\"dataframe\">\n",
              "  <thead>\n",
              "    <tr style=\"text-align: right;\">\n",
              "      <th></th>\n",
              "      <th>Year</th>\n",
              "      <th>HP</th>\n",
              "      <th>Cylinders</th>\n",
              "      <th>MPG-H</th>\n",
              "      <th>MPG-C</th>\n",
              "      <th>Popularity</th>\n",
              "      <th>Price</th>\n",
              "    </tr>\n",
              "  </thead>\n",
              "  <tbody>\n",
              "    <tr>\n",
              "      <th>Year</th>\n",
              "      <td>1.000000</td>\n",
              "      <td>0.330540</td>\n",
              "      <td>-0.094397</td>\n",
              "      <td>0.359829</td>\n",
              "      <td>0.323613</td>\n",
              "      <td>0.204453</td>\n",
              "      <td>0.591644</td>\n",
              "    </tr>\n",
              "    <tr>\n",
              "      <th>HP</th>\n",
              "      <td>0.330540</td>\n",
              "      <td>1.000000</td>\n",
              "      <td>0.741031</td>\n",
              "      <td>-0.465311</td>\n",
              "      <td>-0.563362</td>\n",
              "      <td>0.105691</td>\n",
              "      <td>0.743497</td>\n",
              "    </tr>\n",
              "    <tr>\n",
              "      <th>Cylinders</th>\n",
              "      <td>-0.094397</td>\n",
              "      <td>0.741031</td>\n",
              "      <td>1.000000</td>\n",
              "      <td>-0.697884</td>\n",
              "      <td>-0.750850</td>\n",
              "      <td>0.025803</td>\n",
              "      <td>0.392174</td>\n",
              "    </tr>\n",
              "    <tr>\n",
              "      <th>MPG-H</th>\n",
              "      <td>0.359829</td>\n",
              "      <td>-0.465311</td>\n",
              "      <td>-0.697884</td>\n",
              "      <td>1.000000</td>\n",
              "      <td>0.937936</td>\n",
              "      <td>0.080857</td>\n",
              "      <td>-0.127772</td>\n",
              "    </tr>\n",
              "    <tr>\n",
              "      <th>MPG-C</th>\n",
              "      <td>0.323613</td>\n",
              "      <td>-0.563362</td>\n",
              "      <td>-0.750850</td>\n",
              "      <td>0.937936</td>\n",
              "      <td>1.000000</td>\n",
              "      <td>0.070320</td>\n",
              "      <td>-0.202410</td>\n",
              "    </tr>\n",
              "    <tr>\n",
              "      <th>Popularity</th>\n",
              "      <td>0.204453</td>\n",
              "      <td>0.105691</td>\n",
              "      <td>0.025803</td>\n",
              "      <td>0.080857</td>\n",
              "      <td>0.070320</td>\n",
              "      <td>1.000000</td>\n",
              "      <td>0.116684</td>\n",
              "    </tr>\n",
              "    <tr>\n",
              "      <th>Price</th>\n",
              "      <td>0.591644</td>\n",
              "      <td>0.743497</td>\n",
              "      <td>0.392174</td>\n",
              "      <td>-0.127772</td>\n",
              "      <td>-0.202410</td>\n",
              "      <td>0.116684</td>\n",
              "      <td>1.000000</td>\n",
              "    </tr>\n",
              "  </tbody>\n",
              "</table>\n",
              "</div>"
            ],
            "text/plain": [
              "                Year        HP  Cylinders  ...     MPG-C  Popularity     Price\n",
              "Year        1.000000  0.330540  -0.094397  ...  0.323613    0.204453  0.591644\n",
              "HP          0.330540  1.000000   0.741031  ... -0.563362    0.105691  0.743497\n",
              "Cylinders  -0.094397  0.741031   1.000000  ... -0.750850    0.025803  0.392174\n",
              "MPG-H       0.359829 -0.465311  -0.697884  ...  0.937936    0.080857 -0.127772\n",
              "MPG-C       0.323613 -0.563362  -0.750850  ...  1.000000    0.070320 -0.202410\n",
              "Popularity  0.204453  0.105691   0.025803  ...  0.070320    1.000000  0.116684\n",
              "Price       0.591644  0.743497   0.392174  ... -0.202410    0.116684  1.000000\n",
              "\n",
              "[7 rows x 7 columns]"
            ]
          },
          "metadata": {
            "tags": []
          },
          "execution_count": 104
        }
      ]
    },
    {
      "cell_type": "code",
      "metadata": {
        "id": "Oa6MPqYBsMSD",
        "colab_type": "code",
        "colab": {
          "base_uri": "https://localhost:8080/",
          "height": 398
        },
        "outputId": "ea158233-d8e0-466d-dd6e-702598597552"
      },
      "source": [
        "#Correlation can be best represeted using a heatmap.\n",
        "\n",
        "plt.figure(figsize=(10,6))\n",
        "sns.heatmap(df.corr(),cmap='rainbow',annot=True)"
      ],
      "execution_count": null,
      "outputs": [
        {
          "output_type": "execute_result",
          "data": {
            "text/plain": [
              "<matplotlib.axes._subplots.AxesSubplot at 0x7f73ffaa7c18>"
            ]
          },
          "metadata": {
            "tags": []
          },
          "execution_count": 105
        },
        {
          "output_type": "display_data",
          "data": {
            "image/png": "[encoded data removed]",
            "text/plain": [
              "<Figure size 720x432 with 2 Axes>"
            ]
          },
          "metadata": {
            "tags": []
          }
        }
      ]
    },
    {
      "cell_type": "markdown",
      "metadata": {
        "id": "QKUoYkXxe31M",
        "colab_type": "text"
      },
      "source": [
        "Conclusions Drawn\n",
        "\n",
        "> From the correlation matrix and heatmap we can conlude that there's a ***High positive correlation*** between:-\n",
        "   \n",
        "\n",
        "*   Cylinders & HP\n",
        "*   MPG-City & MPG-Highway\n",
        "\n",
        "*This implies that the more the number of cylinders in the car engine the greater power is generated in the car.*\n",
        "\n",
        "\n",
        "---\n",
        "> From the correlation matrix and heatmap we can conlude that there's a ***High Anti-correlation*** between:-\n",
        "\n",
        "\n",
        "*   Cylinders & MPG-C\n",
        "*   Cylinders & MPG-H\n",
        "\n",
        "*This implies that the higher the number of cylinders in a car the lower is the MPG of City or Highway because there is a greater fuel consumption.*\n",
        "\n",
        "\n"
      ]
    },
    {
      "cell_type": "code",
      "metadata": {
        "id": "m1J-YNvrwNTF",
        "colab_type": "code",
        "colab": {
          "base_uri": "https://localhost:8080/",
          "height": 195
        },
        "outputId": "aa083059-991f-46ac-c16b-a0d2c26dc091"
      },
      "source": [
        "df2.head()"
      ],
      "execution_count": null,
      "outputs": [
        {
          "output_type": "execute_result",
          "data": {
            "text/html": [
              "<div>\n",
              "<style scoped>\n",
              "    .dataframe tbody tr th:only-of-type {\n",
              "        vertical-align: middle;\n",
              "    }\n",
              "\n",
              "    .dataframe tbody tr th {\n",
              "        vertical-align: top;\n",
              "    }\n",
              "\n",
              "    .dataframe thead th {\n",
              "        text-align: right;\n",
              "    }\n",
              "</style>\n",
              "<table border=\"1\" class=\"dataframe\">\n",
              "  <thead>\n",
              "    <tr style=\"text-align: right;\">\n",
              "      <th></th>\n",
              "      <th>Make</th>\n",
              "      <th>Model</th>\n",
              "      <th>Year</th>\n",
              "      <th>Engine Fuel Type</th>\n",
              "      <th>HP</th>\n",
              "      <th>Cylinders</th>\n",
              "      <th>Transmission</th>\n",
              "      <th>Drive Mode</th>\n",
              "      <th>Vehicle Size</th>\n",
              "      <th>Vehicle Style</th>\n",
              "      <th>MPG-H</th>\n",
              "      <th>MPG-C</th>\n",
              "      <th>Popularity</th>\n",
              "      <th>Price</th>\n",
              "    </tr>\n",
              "  </thead>\n",
              "  <tbody>\n",
              "    <tr>\n",
              "      <th>0</th>\n",
              "      <td>BMW</td>\n",
              "      <td>1 Series M</td>\n",
              "      <td>2011</td>\n",
              "      <td>premium unleaded (required)</td>\n",
              "      <td>335.0</td>\n",
              "      <td>6.0</td>\n",
              "      <td>MANUAL</td>\n",
              "      <td>rear wheel drive</td>\n",
              "      <td>Compact</td>\n",
              "      <td>Coupe</td>\n",
              "      <td>26</td>\n",
              "      <td>19</td>\n",
              "      <td>3916</td>\n",
              "      <td>46135</td>\n",
              "    </tr>\n",
              "    <tr>\n",
              "      <th>1</th>\n",
              "      <td>BMW</td>\n",
              "      <td>1 Series</td>\n",
              "      <td>2011</td>\n",
              "      <td>premium unleaded (required)</td>\n",
              "      <td>300.0</td>\n",
              "      <td>6.0</td>\n",
              "      <td>MANUAL</td>\n",
              "      <td>rear wheel drive</td>\n",
              "      <td>Compact</td>\n",
              "      <td>Convertible</td>\n",
              "      <td>28</td>\n",
              "      <td>19</td>\n",
              "      <td>3916</td>\n",
              "      <td>40650</td>\n",
              "    </tr>\n",
              "    <tr>\n",
              "      <th>2</th>\n",
              "      <td>BMW</td>\n",
              "      <td>1 Series</td>\n",
              "      <td>2011</td>\n",
              "      <td>premium unleaded (required)</td>\n",
              "      <td>300.0</td>\n",
              "      <td>6.0</td>\n",
              "      <td>MANUAL</td>\n",
              "      <td>rear wheel drive</td>\n",
              "      <td>Compact</td>\n",
              "      <td>Coupe</td>\n",
              "      <td>28</td>\n",
              "      <td>20</td>\n",
              "      <td>3916</td>\n",
              "      <td>36350</td>\n",
              "    </tr>\n",
              "    <tr>\n",
              "      <th>3</th>\n",
              "      <td>BMW</td>\n",
              "      <td>1 Series</td>\n",
              "      <td>2011</td>\n",
              "      <td>premium unleaded (required)</td>\n",
              "      <td>230.0</td>\n",
              "      <td>6.0</td>\n",
              "      <td>MANUAL</td>\n",
              "      <td>rear wheel drive</td>\n",
              "      <td>Compact</td>\n",
              "      <td>Coupe</td>\n",
              "      <td>28</td>\n",
              "      <td>18</td>\n",
              "      <td>3916</td>\n",
              "      <td>29450</td>\n",
              "    </tr>\n",
              "    <tr>\n",
              "      <th>4</th>\n",
              "      <td>BMW</td>\n",
              "      <td>1 Series</td>\n",
              "      <td>2011</td>\n",
              "      <td>premium unleaded (required)</td>\n",
              "      <td>230.0</td>\n",
              "      <td>6.0</td>\n",
              "      <td>MANUAL</td>\n",
              "      <td>rear wheel drive</td>\n",
              "      <td>Compact</td>\n",
              "      <td>Convertible</td>\n",
              "      <td>28</td>\n",
              "      <td>18</td>\n",
              "      <td>3916</td>\n",
              "      <td>34500</td>\n",
              "    </tr>\n",
              "  </tbody>\n",
              "</table>\n",
              "</div>"
            ],
            "text/plain": [
              "  Make       Model  Year  ... MPG-C  Popularity  Price\n",
              "0  BMW  1 Series M  2011  ...    19        3916  46135\n",
              "1  BMW    1 Series  2011  ...    19        3916  40650\n",
              "2  BMW    1 Series  2011  ...    20        3916  36350\n",
              "3  BMW    1 Series  2011  ...    18        3916  29450\n",
              "4  BMW    1 Series  2011  ...    18        3916  34500\n",
              "\n",
              "[5 rows x 14 columns]"
            ]
          },
          "metadata": {
            "tags": []
          },
          "execution_count": 106
        }
      ]
    },
    {
      "cell_type": "markdown",
      "metadata": {
        "id": "U7WzVjFGm_3D",
        "colab_type": "text"
      },
      "source": [
        "## Which is maximum sold Engine Fuel Type in the dataset?"
      ]
    },
    {
      "cell_type": "code",
      "metadata": {
        "id": "K441v-Q20vJG",
        "colab_type": "code",
        "colab": {
          "base_uri": "https://localhost:8080/",
          "height": 291
        },
        "outputId": "bc4b3d26-be12-403c-f0d1-93f6f2cf0eb5"
      },
      "source": [
        "# Plotting a countplot to display the count of each Engine Fuel Type\n",
        "sns.countplot(y='Engine Fuel Type',data=df2)\n",
        "plt.xscale('log')"
      ],
      "execution_count": null,
      "outputs": [
        {
          "output_type": "display_data",
          "data": {
            "image/png": "[encoded data removed]",
            "text/plain": [
              "<Figure size 432x288 with 1 Axes>"
            ]
          },
          "metadata": {
            "tags": []
          }
        }
      ]
    },
    {
      "cell_type": "markdown",
      "metadata": {
        "id": "XAHhqZ28umgD",
        "colab_type": "text"
      },
      "source": [
        "> *We conclude that the **regular unleaded** Engine Fuel type is the **most sold fuel type** followed by premium unleaded(required) and premium unleaded(recommended).*"
      ]
    },
    {
      "cell_type": "markdown",
      "metadata": {
        "id": "Nwre5v6EnXkS",
        "colab_type": "text"
      },
      "source": [
        "## Which style of vehicle has been sold the most according to dataset?\n",
        "## Which drive mode was maximum in a particular type of vehicle syle?"
      ]
    },
    {
      "cell_type": "code",
      "metadata": {
        "id": "8lOl4n9b5zbF",
        "colab_type": "code",
        "colab": {
          "base_uri": "https://localhost:8080/",
          "height": 519
        },
        "outputId": "695e1a26-1a47-4937-9279-3f4f9eda70c7"
      },
      "source": [
        "plt.figure(figsize= (12,8))\n",
        "sns.countplot(data=df2,y='Vehicle Style',hue='Drive Mode')"
      ],
      "execution_count": null,
      "outputs": [
        {
          "output_type": "execute_result",
          "data": {
            "text/plain": [
              "<matplotlib.axes._subplots.AxesSubplot at 0x7f73ff72f1d0>"
            ]
          },
          "metadata": {
            "tags": []
          },
          "execution_count": 108
        },
        {
          "output_type": "display_data",
          "data": {
            "image/png": "[encoded data removed]",
            "text/plain": [
              "<Figure size 864x576 with 1 Axes>"
            ]
          },
          "metadata": {
            "tags": []
          }
        }
      ]
    },
    {
      "cell_type": "markdown",
      "metadata": {
        "id": "wQ_uo9moviHt",
        "colab_type": "text"
      },
      "source": [
        "> *From the plot we infer that most sold vehicle style is **Sedan** and particulary Front Wheel Drive mode has been sold the most.*"
      ]
    },
    {
      "cell_type": "markdown",
      "metadata": {
        "id": "hn5wKCYRofaJ",
        "colab_type": "text"
      },
      "source": [
        "## What were the different Transmission type of Cars and their approximate number in the dataset? Also mention about different Vehicle size in each Transmission type of vehicle."
      ]
    },
    {
      "cell_type": "code",
      "metadata": {
        "id": "yfwirttulVpZ",
        "colab_type": "code",
        "colab": {
          "base_uri": "https://localhost:8080/",
          "height": 400
        },
        "outputId": "e4e4fcac-099a-4a5a-a70a-2d81d85b8177"
      },
      "source": [
        "plt.figure(figsize=(12,6))\n",
        "sns.countplot(y='Transmission',data=df2,hue='Vehicle Size')\n",
        "plt.xscale('log')"
      ],
      "execution_count": null,
      "outputs": [
        {
          "output_type": "display_data",
          "data": {
            "image/png": "[encoded data removed]",
            "text/plain": [
              "<Figure size 864x432 with 1 Axes>"
            ]
          },
          "metadata": {
            "tags": []
          }
        }
      ]
    },
    {
      "cell_type": "markdown",
      "metadata": {
        "id": "A_I8VTmowS3K",
        "colab_type": "text"
      },
      "source": [
        "> *The above plot shows us that people have been developing interest into **automatic mode of transmission cars than the manual type**. However it also shows that semi-automated or Autmated_manual type of transmission is less preffered than completely manual or completely automatic.*\n",
        "> *We can also conclude that **in Automatic type vehicle Mid-size vehicles** are preffered more while in Manual type of vehicles Compact vehicles are preffered more by the people.*"
      ]
    },
    {
      "cell_type": "markdown",
      "metadata": {
        "id": "ynR7bq5uuKvV",
        "colab_type": "text"
      },
      "source": [
        "## What is the Price range in which most of the vehicles have been sold? "
      ]
    },
    {
      "cell_type": "code",
      "metadata": {
        "id": "kNm30tvxmU38",
        "colab_type": "code",
        "colab": {
          "base_uri": "https://localhost:8080/",
          "height": 118
        },
        "outputId": "1327375b-3cd3-40a5-e28a-71d0a257f0a2"
      },
      "source": [
        "#We slice the Price column of our dataset and group it according to the ranges\n",
        "\n",
        "df2['Price group'] = pd.cut(df2.Price,[0,20000,40000,60000,80000,100000],labels=['<20k','20-39k','40-59k','60-79k','80k>'],include_lowest=True)\n"
      ],
      "execution_count": null,
      "outputs": [
        {
          "output_type": "stream",
          "text": [
            "/usr/local/lib/python3.6/dist-packages/ipykernel_launcher.py:3: SettingWithCopyWarning: \n",
            "A value is trying to be set on a copy of a slice from a DataFrame.\n",
            "Try using .loc[row_indexer,col_indexer] = value instead\n",
            "\n",
            "See the caveats in the documentation: https://pandas.pydata.org/pandas-docs/stable/user_guide/indexing.html#returning-a-view-versus-a-copy\n",
            "  This is separate from the ipykernel package so we can avoid doing imports until\n"
          ],
          "name": "stderr"
        }
      ]
    },
    {
      "cell_type": "code",
      "metadata": {
        "id": "jMDqUV4WrW6e",
        "colab_type": "code",
        "colab": {
          "base_uri": "https://localhost:8080/",
          "height": 118
        },
        "outputId": "32e41ade-f238-4dc7-882a-21f6d04b3de1"
      },
      "source": [
        "#Number of Cars in different Price Ranges.\n",
        "df2['Price group'].value_counts()"
      ],
      "execution_count": null,
      "outputs": [
        {
          "output_type": "execute_result",
          "data": {
            "text/plain": [
              "20-39k    4753\n",
              "40-59k    1755\n",
              "<20k      1705\n",
              "60-79k     395\n",
              "80k>         0\n",
              "Name: Price group, dtype: int64"
            ]
          },
          "metadata": {
            "tags": []
          },
          "execution_count": 111
        }
      ]
    },
    {
      "cell_type": "code",
      "metadata": {
        "id": "mv4J0-F8sO3W",
        "colab_type": "code",
        "colab": {
          "base_uri": "https://localhost:8080/",
          "height": 411
        },
        "outputId": "95e3d4e1-4e83-46e0-9c3f-f63c4fb8a74e"
      },
      "source": [
        "plt.figure(figsize=(10,6))\n",
        "sns.countplot(data=df2,x='Price group')"
      ],
      "execution_count": null,
      "outputs": [
        {
          "output_type": "execute_result",
          "data": {
            "text/plain": [
              "<matplotlib.axes._subplots.AxesSubplot at 0x7f73ff7619b0>"
            ]
          },
          "metadata": {
            "tags": []
          },
          "execution_count": 112
        },
        {
          "output_type": "display_data",
          "data": {
            "image/png": "[encoded data removed]",
            "text/plain": [
              "<Figure size 720x432 with 1 Axes>"
            ]
          },
          "metadata": {
            "tags": []
          }
        }
      ]
    },
    {
      "cell_type": "markdown",
      "metadata": {
        "id": "y5AnLcpC0KyW",
        "colab_type": "text"
      },
      "source": [
        "> *We infer that Cars whose price fall in the range of 20-39k are preffered by the people. Thus, if a company should try to sell it's new car in the same price range for better sales.*"
      ]
    },
    {
      "cell_type": "markdown",
      "metadata": {
        "id": "VVefJALo01fV",
        "colab_type": "text"
      },
      "source": [
        "## Splitting and Building Machine Learning model"
      ]
    },
    {
      "cell_type": "code",
      "metadata": {
        "id": "zJF4c8CGsp7Y",
        "colab_type": "code",
        "colab": {
          "base_uri": "https://localhost:8080/",
          "height": 195
        },
        "outputId": "2c07cf69-db6f-4321-eea7-d00a6801340b"
      },
      "source": [
        "#Checking the dataset once again\n",
        "df2.head()"
      ],
      "execution_count": null,
      "outputs": [
        {
          "output_type": "execute_result",
          "data": {
            "text/html": [
              "<div>\n",
              "<style scoped>\n",
              "    .dataframe tbody tr th:only-of-type {\n",
              "        vertical-align: middle;\n",
              "    }\n",
              "\n",
              "    .dataframe tbody tr th {\n",
              "        vertical-align: top;\n",
              "    }\n",
              "\n",
              "    .dataframe thead th {\n",
              "        text-align: right;\n",
              "    }\n",
              "</style>\n",
              "<table border=\"1\" class=\"dataframe\">\n",
              "  <thead>\n",
              "    <tr style=\"text-align: right;\">\n",
              "      <th></th>\n",
              "      <th>Make</th>\n",
              "      <th>Model</th>\n",
              "      <th>Year</th>\n",
              "      <th>Engine Fuel Type</th>\n",
              "      <th>HP</th>\n",
              "      <th>Cylinders</th>\n",
              "      <th>Transmission</th>\n",
              "      <th>Drive Mode</th>\n",
              "      <th>Vehicle Size</th>\n",
              "      <th>Vehicle Style</th>\n",
              "      <th>MPG-H</th>\n",
              "      <th>MPG-C</th>\n",
              "      <th>Popularity</th>\n",
              "      <th>Price</th>\n",
              "      <th>Price group</th>\n",
              "    </tr>\n",
              "  </thead>\n",
              "  <tbody>\n",
              "    <tr>\n",
              "      <th>0</th>\n",
              "      <td>BMW</td>\n",
              "      <td>1 Series M</td>\n",
              "      <td>2011</td>\n",
              "      <td>premium unleaded (required)</td>\n",
              "      <td>335.0</td>\n",
              "      <td>6.0</td>\n",
              "      <td>MANUAL</td>\n",
              "      <td>rear wheel drive</td>\n",
              "      <td>Compact</td>\n",
              "      <td>Coupe</td>\n",
              "      <td>26</td>\n",
              "      <td>19</td>\n",
              "      <td>3916</td>\n",
              "      <td>46135</td>\n",
              "      <td>40-59k</td>\n",
              "    </tr>\n",
              "    <tr>\n",
              "      <th>1</th>\n",
              "      <td>BMW</td>\n",
              "      <td>1 Series</td>\n",
              "      <td>2011</td>\n",
              "      <td>premium unleaded (required)</td>\n",
              "      <td>300.0</td>\n",
              "      <td>6.0</td>\n",
              "      <td>MANUAL</td>\n",
              "      <td>rear wheel drive</td>\n",
              "      <td>Compact</td>\n",
              "      <td>Convertible</td>\n",
              "      <td>28</td>\n",
              "      <td>19</td>\n",
              "      <td>3916</td>\n",
              "      <td>40650</td>\n",
              "      <td>40-59k</td>\n",
              "    </tr>\n",
              "    <tr>\n",
              "      <th>2</th>\n",
              "      <td>BMW</td>\n",
              "      <td>1 Series</td>\n",
              "      <td>2011</td>\n",
              "      <td>premium unleaded (required)</td>\n",
              "      <td>300.0</td>\n",
              "      <td>6.0</td>\n",
              "      <td>MANUAL</td>\n",
              "      <td>rear wheel drive</td>\n",
              "      <td>Compact</td>\n",
              "      <td>Coupe</td>\n",
              "      <td>28</td>\n",
              "      <td>20</td>\n",
              "      <td>3916</td>\n",
              "      <td>36350</td>\n",
              "      <td>20-39k</td>\n",
              "    </tr>\n",
              "    <tr>\n",
              "      <th>3</th>\n",
              "      <td>BMW</td>\n",
              "      <td>1 Series</td>\n",
              "      <td>2011</td>\n",
              "      <td>premium unleaded (required)</td>\n",
              "      <td>230.0</td>\n",
              "      <td>6.0</td>\n",
              "      <td>MANUAL</td>\n",
              "      <td>rear wheel drive</td>\n",
              "      <td>Compact</td>\n",
              "      <td>Coupe</td>\n",
              "      <td>28</td>\n",
              "      <td>18</td>\n",
              "      <td>3916</td>\n",
              "      <td>29450</td>\n",
              "      <td>20-39k</td>\n",
              "    </tr>\n",
              "    <tr>\n",
              "      <th>4</th>\n",
              "      <td>BMW</td>\n",
              "      <td>1 Series</td>\n",
              "      <td>2011</td>\n",
              "      <td>premium unleaded (required)</td>\n",
              "      <td>230.0</td>\n",
              "      <td>6.0</td>\n",
              "      <td>MANUAL</td>\n",
              "      <td>rear wheel drive</td>\n",
              "      <td>Compact</td>\n",
              "      <td>Convertible</td>\n",
              "      <td>28</td>\n",
              "      <td>18</td>\n",
              "      <td>3916</td>\n",
              "      <td>34500</td>\n",
              "      <td>20-39k</td>\n",
              "    </tr>\n",
              "  </tbody>\n",
              "</table>\n",
              "</div>"
            ],
            "text/plain": [
              "  Make       Model  Year  ... Popularity  Price  Price group\n",
              "0  BMW  1 Series M  2011  ...       3916  46135       40-59k\n",
              "1  BMW    1 Series  2011  ...       3916  40650       40-59k\n",
              "2  BMW    1 Series  2011  ...       3916  36350       20-39k\n",
              "3  BMW    1 Series  2011  ...       3916  29450       20-39k\n",
              "4  BMW    1 Series  2011  ...       3916  34500       20-39k\n",
              "\n",
              "[5 rows x 15 columns]"
            ]
          },
          "metadata": {
            "tags": []
          },
          "execution_count": 114
        }
      ]
    },
    {
      "cell_type": "code",
      "metadata": {
        "id": "rMJmdJ7l4DX_",
        "colab_type": "code",
        "colab": {
          "base_uri": "https://localhost:8080/",
          "height": 284
        },
        "outputId": "964c06cf-6abd-4c7f-ad55-915124fdf454"
      },
      "source": [
        "#Checking out some basic stats of the dataset\n",
        "df2.describe()"
      ],
      "execution_count": null,
      "outputs": [
        {
          "output_type": "execute_result",
          "data": {
            "text/html": [
              "<div>\n",
              "<style scoped>\n",
              "    .dataframe tbody tr th:only-of-type {\n",
              "        vertical-align: middle;\n",
              "    }\n",
              "\n",
              "    .dataframe tbody tr th {\n",
              "        vertical-align: top;\n",
              "    }\n",
              "\n",
              "    .dataframe thead th {\n",
              "        text-align: right;\n",
              "    }\n",
              "</style>\n",
              "<table border=\"1\" class=\"dataframe\">\n",
              "  <thead>\n",
              "    <tr style=\"text-align: right;\">\n",
              "      <th></th>\n",
              "      <th>Year</th>\n",
              "      <th>HP</th>\n",
              "      <th>Cylinders</th>\n",
              "      <th>MPG-H</th>\n",
              "      <th>MPG-C</th>\n",
              "      <th>Popularity</th>\n",
              "      <th>Price</th>\n",
              "    </tr>\n",
              "  </thead>\n",
              "  <tbody>\n",
              "    <tr>\n",
              "      <th>count</th>\n",
              "      <td>8608.000000</td>\n",
              "      <td>8608.000000</td>\n",
              "      <td>8608.000000</td>\n",
              "      <td>8608.000000</td>\n",
              "      <td>8608.000000</td>\n",
              "      <td>8608.000000</td>\n",
              "      <td>8608.000000</td>\n",
              "    </tr>\n",
              "    <tr>\n",
              "      <th>mean</th>\n",
              "      <td>2011.301464</td>\n",
              "      <td>235.668564</td>\n",
              "      <td>5.392542</td>\n",
              "      <td>26.673792</td>\n",
              "      <td>19.427625</td>\n",
              "      <td>1210.296352</td>\n",
              "      <td>30995.925651</td>\n",
              "    </tr>\n",
              "    <tr>\n",
              "      <th>std</th>\n",
              "      <td>6.302663</td>\n",
              "      <td>77.713720</td>\n",
              "      <td>1.388788</td>\n",
              "      <td>5.680609</td>\n",
              "      <td>4.350680</td>\n",
              "      <td>864.186610</td>\n",
              "      <td>15158.214995</td>\n",
              "    </tr>\n",
              "    <tr>\n",
              "      <th>min</th>\n",
              "      <td>1994.000000</td>\n",
              "      <td>66.000000</td>\n",
              "      <td>3.000000</td>\n",
              "      <td>13.000000</td>\n",
              "      <td>10.000000</td>\n",
              "      <td>21.000000</td>\n",
              "      <td>2000.000000</td>\n",
              "    </tr>\n",
              "    <tr>\n",
              "      <th>25%</th>\n",
              "      <td>2008.000000</td>\n",
              "      <td>172.000000</td>\n",
              "      <td>4.000000</td>\n",
              "      <td>23.000000</td>\n",
              "      <td>16.000000</td>\n",
              "      <td>549.000000</td>\n",
              "      <td>21942.500000</td>\n",
              "    </tr>\n",
              "    <tr>\n",
              "      <th>50%</th>\n",
              "      <td>2015.000000</td>\n",
              "      <td>230.000000</td>\n",
              "      <td>6.000000</td>\n",
              "      <td>26.000000</td>\n",
              "      <td>19.000000</td>\n",
              "      <td>1013.000000</td>\n",
              "      <td>29970.000000</td>\n",
              "    </tr>\n",
              "    <tr>\n",
              "      <th>75%</th>\n",
              "      <td>2016.000000</td>\n",
              "      <td>290.000000</td>\n",
              "      <td>6.000000</td>\n",
              "      <td>31.000000</td>\n",
              "      <td>22.000000</td>\n",
              "      <td>1851.000000</td>\n",
              "      <td>39995.000000</td>\n",
              "    </tr>\n",
              "    <tr>\n",
              "      <th>max</th>\n",
              "      <td>2017.000000</td>\n",
              "      <td>485.000000</td>\n",
              "      <td>8.000000</td>\n",
              "      <td>42.000000</td>\n",
              "      <td>31.000000</td>\n",
              "      <td>3916.000000</td>\n",
              "      <td>75200.000000</td>\n",
              "    </tr>\n",
              "  </tbody>\n",
              "</table>\n",
              "</div>"
            ],
            "text/plain": [
              "              Year           HP  ...   Popularity         Price\n",
              "count  8608.000000  8608.000000  ...  8608.000000   8608.000000\n",
              "mean   2011.301464   235.668564  ...  1210.296352  30995.925651\n",
              "std       6.302663    77.713720  ...   864.186610  15158.214995\n",
              "min    1994.000000    66.000000  ...    21.000000   2000.000000\n",
              "25%    2008.000000   172.000000  ...   549.000000  21942.500000\n",
              "50%    2015.000000   230.000000  ...  1013.000000  29970.000000\n",
              "75%    2016.000000   290.000000  ...  1851.000000  39995.000000\n",
              "max    2017.000000   485.000000  ...  3916.000000  75200.000000\n",
              "\n",
              "[8 rows x 7 columns]"
            ]
          },
          "metadata": {
            "tags": []
          },
          "execution_count": 118
        }
      ]
    },
    {
      "cell_type": "markdown",
      "metadata": {
        "id": "X0mybESup3mN",
        "colab_type": "text"
      },
      "source": [
        "We now create a new dataset which has few columns dropped from the original dataset.\n",
        "\n",
        ">*We drop the columns like HP because they have **high correlation** with other columns like Cylinders,thus retaining anyone of the column would be enough for the approximate contribution. Similarly, we can drop MPG-H as it highly correlated with MPG-C.* \n",
        "\n",
        "> *We can also drop few columns like price group, popularity, model since they don't create a great impact in determing the price of CAR.*"
      ]
    },
    {
      "cell_type": "code",
      "metadata": {
        "id": "51pV527-4Ufb",
        "colab_type": "code",
        "colab": {
          "base_uri": "https://localhost:8080/",
          "height": 195
        },
        "outputId": "ad5b6d4f-d15a-4c66-a12c-0365de13a464"
      },
      "source": [
        "#Creating a new dataset with few dropped columns\n",
        "t1 = df2.drop(['HP','MPG-H','Model','Price group','Popularity'],axis=1)\n",
        "t1.head()"
      ],
      "execution_count": null,
      "outputs": [
        {
          "output_type": "execute_result",
          "data": {
            "text/html": [
              "<div>\n",
              "<style scoped>\n",
              "    .dataframe tbody tr th:only-of-type {\n",
              "        vertical-align: middle;\n",
              "    }\n",
              "\n",
              "    .dataframe tbody tr th {\n",
              "        vertical-align: top;\n",
              "    }\n",
              "\n",
              "    .dataframe thead th {\n",
              "        text-align: right;\n",
              "    }\n",
              "</style>\n",
              "<table border=\"1\" class=\"dataframe\">\n",
              "  <thead>\n",
              "    <tr style=\"text-align: right;\">\n",
              "      <th></th>\n",
              "      <th>Make</th>\n",
              "      <th>Year</th>\n",
              "      <th>Engine Fuel Type</th>\n",
              "      <th>Cylinders</th>\n",
              "      <th>Transmission</th>\n",
              "      <th>Drive Mode</th>\n",
              "      <th>Vehicle Size</th>\n",
              "      <th>Vehicle Style</th>\n",
              "      <th>MPG-C</th>\n",
              "      <th>Price</th>\n",
              "    </tr>\n",
              "  </thead>\n",
              "  <tbody>\n",
              "    <tr>\n",
              "      <th>0</th>\n",
              "      <td>BMW</td>\n",
              "      <td>2011</td>\n",
              "      <td>premium unleaded (required)</td>\n",
              "      <td>6.0</td>\n",
              "      <td>MANUAL</td>\n",
              "      <td>rear wheel drive</td>\n",
              "      <td>Compact</td>\n",
              "      <td>Coupe</td>\n",
              "      <td>19</td>\n",
              "      <td>46135</td>\n",
              "    </tr>\n",
              "    <tr>\n",
              "      <th>1</th>\n",
              "      <td>BMW</td>\n",
              "      <td>2011</td>\n",
              "      <td>premium unleaded (required)</td>\n",
              "      <td>6.0</td>\n",
              "      <td>MANUAL</td>\n",
              "      <td>rear wheel drive</td>\n",
              "      <td>Compact</td>\n",
              "      <td>Convertible</td>\n",
              "      <td>19</td>\n",
              "      <td>40650</td>\n",
              "    </tr>\n",
              "    <tr>\n",
              "      <th>2</th>\n",
              "      <td>BMW</td>\n",
              "      <td>2011</td>\n",
              "      <td>premium unleaded (required)</td>\n",
              "      <td>6.0</td>\n",
              "      <td>MANUAL</td>\n",
              "      <td>rear wheel drive</td>\n",
              "      <td>Compact</td>\n",
              "      <td>Coupe</td>\n",
              "      <td>20</td>\n",
              "      <td>36350</td>\n",
              "    </tr>\n",
              "    <tr>\n",
              "      <th>3</th>\n",
              "      <td>BMW</td>\n",
              "      <td>2011</td>\n",
              "      <td>premium unleaded (required)</td>\n",
              "      <td>6.0</td>\n",
              "      <td>MANUAL</td>\n",
              "      <td>rear wheel drive</td>\n",
              "      <td>Compact</td>\n",
              "      <td>Coupe</td>\n",
              "      <td>18</td>\n",
              "      <td>29450</td>\n",
              "    </tr>\n",
              "    <tr>\n",
              "      <th>4</th>\n",
              "      <td>BMW</td>\n",
              "      <td>2011</td>\n",
              "      <td>premium unleaded (required)</td>\n",
              "      <td>6.0</td>\n",
              "      <td>MANUAL</td>\n",
              "      <td>rear wheel drive</td>\n",
              "      <td>Compact</td>\n",
              "      <td>Convertible</td>\n",
              "      <td>18</td>\n",
              "      <td>34500</td>\n",
              "    </tr>\n",
              "  </tbody>\n",
              "</table>\n",
              "</div>"
            ],
            "text/plain": [
              "  Make  Year             Engine Fuel Type  ...  Vehicle Style MPG-C  Price\n",
              "0  BMW  2011  premium unleaded (required)  ...          Coupe    19  46135\n",
              "1  BMW  2011  premium unleaded (required)  ...    Convertible    19  40650\n",
              "2  BMW  2011  premium unleaded (required)  ...          Coupe    20  36350\n",
              "3  BMW  2011  premium unleaded (required)  ...          Coupe    18  29450\n",
              "4  BMW  2011  premium unleaded (required)  ...    Convertible    18  34500\n",
              "\n",
              "[5 rows x 10 columns]"
            ]
          },
          "metadata": {
            "tags": []
          },
          "execution_count": 119
        }
      ]
    },
    {
      "cell_type": "markdown",
      "metadata": {
        "id": "uLqfYuUbs13H",
        "colab_type": "text"
      },
      "source": [
        "> *Converting dtypes of few categorical columns to string so that they can be encoded like strings and then used in the model.*"
      ]
    },
    {
      "cell_type": "code",
      "metadata": {
        "id": "MtavV34l7atB",
        "colab_type": "code",
        "colab": {}
      },
      "source": [
        "#Creating a dictionary to convert the particular columns to strings\n",
        "convert_dict = {'Year' : str,           \n",
        "                'MPG-C' : str,\n",
        "               'Cylinders': str}"
      ],
      "execution_count": null,
      "outputs": []
    },
    {
      "cell_type": "code",
      "metadata": {
        "id": "XYvthldo7y9t",
        "colab_type": "code",
        "colab": {
          "base_uri": "https://localhost:8080/",
          "height": 202
        },
        "outputId": "6648f88b-0758-41a6-c2ff-2b7abb6cf4b5"
      },
      "source": [
        "#Converting the dtypes of columns and verifying it.\n",
        "t1 = t1.astype(convert_dict)\n",
        "t1.dtypes"
      ],
      "execution_count": null,
      "outputs": [
        {
          "output_type": "execute_result",
          "data": {
            "text/plain": [
              "Make                object\n",
              "Year                object\n",
              "Engine Fuel Type    object\n",
              "Cylinders           object\n",
              "Transmission        object\n",
              "Drive Mode          object\n",
              "Vehicle Size        object\n",
              "Vehicle Style       object\n",
              "MPG-C               object\n",
              "Price                int64\n",
              "dtype: object"
            ]
          },
          "metadata": {
            "tags": []
          },
          "execution_count": 178
        }
      ]
    },
    {
      "cell_type": "markdown",
      "metadata": {
        "id": "YG6uFupctG5l",
        "colab_type": "text"
      },
      "source": [
        "> *Creating dummy variables for categorical columns.*\n",
        "\n",
        "> *These would be used as an input to Machine Learning Models.*"
      ]
    },
    {
      "cell_type": "code",
      "metadata": {
        "id": "AGInHFsc83W5",
        "colab_type": "code",
        "colab": {
          "base_uri": "https://localhost:8080/",
          "height": 294
        },
        "outputId": "b248d23a-9889-4749-9cee-6c9f21ac191c"
      },
      "source": [
        "# Get dummies\n",
        "X = pd.get_dummies(t1, prefix_sep='_', drop_first=True)\n",
        "# X head\n",
        "X.head()"
      ],
      "execution_count": null,
      "outputs": [
        {
          "output_type": "execute_result",
          "data": {
            "text/html": [
              "<div>\n",
              "<style scoped>\n",
              "    .dataframe tbody tr th:only-of-type {\n",
              "        vertical-align: middle;\n",
              "    }\n",
              "\n",
              "    .dataframe tbody tr th {\n",
              "        vertical-align: top;\n",
              "    }\n",
              "\n",
              "    .dataframe thead th {\n",
              "        text-align: right;\n",
              "    }\n",
              "</style>\n",
              "<table border=\"1\" class=\"dataframe\">\n",
              "  <thead>\n",
              "    <tr style=\"text-align: right;\">\n",
              "      <th></th>\n",
              "      <th>Price</th>\n",
              "      <th>Make_Alfa Romeo</th>\n",
              "      <th>Make_Audi</th>\n",
              "      <th>Make_BMW</th>\n",
              "      <th>Make_Buick</th>\n",
              "      <th>Make_Cadillac</th>\n",
              "      <th>Make_Chevrolet</th>\n",
              "      <th>Make_Chrysler</th>\n",
              "      <th>Make_Dodge</th>\n",
              "      <th>Make_FIAT</th>\n",
              "      <th>Make_GMC</th>\n",
              "      <th>Make_Genesis</th>\n",
              "      <th>Make_HUMMER</th>\n",
              "      <th>Make_Honda</th>\n",
              "      <th>Make_Hyundai</th>\n",
              "      <th>Make_Infiniti</th>\n",
              "      <th>Make_Kia</th>\n",
              "      <th>Make_Land Rover</th>\n",
              "      <th>Make_Lexus</th>\n",
              "      <th>Make_Lincoln</th>\n",
              "      <th>Make_Lotus</th>\n",
              "      <th>Make_Maserati</th>\n",
              "      <th>Make_Mazda</th>\n",
              "      <th>Make_Mercedes-Benz</th>\n",
              "      <th>Make_Mitsubishi</th>\n",
              "      <th>Make_Nissan</th>\n",
              "      <th>Make_Oldsmobile</th>\n",
              "      <th>Make_Plymouth</th>\n",
              "      <th>Make_Pontiac</th>\n",
              "      <th>Make_Porsche</th>\n",
              "      <th>Make_Saab</th>\n",
              "      <th>Make_Scion</th>\n",
              "      <th>Make_Subaru</th>\n",
              "      <th>Make_Suzuki</th>\n",
              "      <th>Make_Toyota</th>\n",
              "      <th>Make_Volkswagen</th>\n",
              "      <th>Make_Volvo</th>\n",
              "      <th>Year_1995</th>\n",
              "      <th>Year_1996</th>\n",
              "      <th>Year_1997</th>\n",
              "      <th>...</th>\n",
              "      <th>Drive Mode_front wheel drive</th>\n",
              "      <th>Drive Mode_rear wheel drive</th>\n",
              "      <th>Vehicle Size_Large</th>\n",
              "      <th>Vehicle Size_Midsize</th>\n",
              "      <th>Vehicle Style_2dr SUV</th>\n",
              "      <th>Vehicle Style_4dr Hatchback</th>\n",
              "      <th>Vehicle Style_4dr SUV</th>\n",
              "      <th>Vehicle Style_Cargo Minivan</th>\n",
              "      <th>Vehicle Style_Cargo Van</th>\n",
              "      <th>Vehicle Style_Convertible</th>\n",
              "      <th>Vehicle Style_Convertible SUV</th>\n",
              "      <th>Vehicle Style_Coupe</th>\n",
              "      <th>Vehicle Style_Crew Cab Pickup</th>\n",
              "      <th>Vehicle Style_Extended Cab Pickup</th>\n",
              "      <th>Vehicle Style_Passenger Minivan</th>\n",
              "      <th>Vehicle Style_Passenger Van</th>\n",
              "      <th>Vehicle Style_Regular Cab Pickup</th>\n",
              "      <th>Vehicle Style_Sedan</th>\n",
              "      <th>Vehicle Style_Wagon</th>\n",
              "      <th>MPG-C_11</th>\n",
              "      <th>MPG-C_12</th>\n",
              "      <th>MPG-C_13</th>\n",
              "      <th>MPG-C_14</th>\n",
              "      <th>MPG-C_15</th>\n",
              "      <th>MPG-C_16</th>\n",
              "      <th>MPG-C_17</th>\n",
              "      <th>MPG-C_18</th>\n",
              "      <th>MPG-C_19</th>\n",
              "      <th>MPG-C_20</th>\n",
              "      <th>MPG-C_21</th>\n",
              "      <th>MPG-C_22</th>\n",
              "      <th>MPG-C_23</th>\n",
              "      <th>MPG-C_24</th>\n",
              "      <th>MPG-C_25</th>\n",
              "      <th>MPG-C_26</th>\n",
              "      <th>MPG-C_27</th>\n",
              "      <th>MPG-C_28</th>\n",
              "      <th>MPG-C_29</th>\n",
              "      <th>MPG-C_30</th>\n",
              "      <th>MPG-C_31</th>\n",
              "    </tr>\n",
              "  </thead>\n",
              "  <tbody>\n",
              "    <tr>\n",
              "      <th>0</th>\n",
              "      <td>46135</td>\n",
              "      <td>0</td>\n",
              "      <td>0</td>\n",
              "      <td>1</td>\n",
              "      <td>0</td>\n",
              "      <td>0</td>\n",
              "      <td>0</td>\n",
              "      <td>0</td>\n",
              "      <td>0</td>\n",
              "      <td>0</td>\n",
              "      <td>0</td>\n",
              "      <td>0</td>\n",
              "      <td>0</td>\n",
              "      <td>0</td>\n",
              "      <td>0</td>\n",
              "      <td>0</td>\n",
              "      <td>0</td>\n",
              "      <td>0</td>\n",
              "      <td>0</td>\n",
              "      <td>0</td>\n",
              "      <td>0</td>\n",
              "      <td>0</td>\n",
              "      <td>0</td>\n",
              "      <td>0</td>\n",
              "      <td>0</td>\n",
              "      <td>0</td>\n",
              "      <td>0</td>\n",
              "      <td>0</td>\n",
              "      <td>0</td>\n",
              "      <td>0</td>\n",
              "      <td>0</td>\n",
              "      <td>0</td>\n",
              "      <td>0</td>\n",
              "      <td>0</td>\n",
              "      <td>0</td>\n",
              "      <td>0</td>\n",
              "      <td>0</td>\n",
              "      <td>0</td>\n",
              "      <td>0</td>\n",
              "      <td>0</td>\n",
              "      <td>...</td>\n",
              "      <td>0</td>\n",
              "      <td>1</td>\n",
              "      <td>0</td>\n",
              "      <td>0</td>\n",
              "      <td>0</td>\n",
              "      <td>0</td>\n",
              "      <td>0</td>\n",
              "      <td>0</td>\n",
              "      <td>0</td>\n",
              "      <td>0</td>\n",
              "      <td>0</td>\n",
              "      <td>1</td>\n",
              "      <td>0</td>\n",
              "      <td>0</td>\n",
              "      <td>0</td>\n",
              "      <td>0</td>\n",
              "      <td>0</td>\n",
              "      <td>0</td>\n",
              "      <td>0</td>\n",
              "      <td>0</td>\n",
              "      <td>0</td>\n",
              "      <td>0</td>\n",
              "      <td>0</td>\n",
              "      <td>0</td>\n",
              "      <td>0</td>\n",
              "      <td>0</td>\n",
              "      <td>0</td>\n",
              "      <td>1</td>\n",
              "      <td>0</td>\n",
              "      <td>0</td>\n",
              "      <td>0</td>\n",
              "      <td>0</td>\n",
              "      <td>0</td>\n",
              "      <td>0</td>\n",
              "      <td>0</td>\n",
              "      <td>0</td>\n",
              "      <td>0</td>\n",
              "      <td>0</td>\n",
              "      <td>0</td>\n",
              "      <td>0</td>\n",
              "    </tr>\n",
              "    <tr>\n",
              "      <th>1</th>\n",
              "      <td>40650</td>\n",
              "      <td>0</td>\n",
              "      <td>0</td>\n",
              "      <td>1</td>\n",
              "      <td>0</td>\n",
              "      <td>0</td>\n",
              "      <td>0</td>\n",
              "      <td>0</td>\n",
              "      <td>0</td>\n",
              "      <td>0</td>\n",
              "      <td>0</td>\n",
              "      <td>0</td>\n",
              "      <td>0</td>\n",
              "      <td>0</td>\n",
              "      <td>0</td>\n",
              "      <td>0</td>\n",
              "      <td>0</td>\n",
              "      <td>0</td>\n",
              "      <td>0</td>\n",
              "      <td>0</td>\n",
              "      <td>0</td>\n",
              "      <td>0</td>\n",
              "      <td>0</td>\n",
              "      <td>0</td>\n",
              "      <td>0</td>\n",
              "      <td>0</td>\n",
              "      <td>0</td>\n",
              "      <td>0</td>\n",
              "      <td>0</td>\n",
              "      <td>0</td>\n",
              "      <td>0</td>\n",
              "      <td>0</td>\n",
              "      <td>0</td>\n",
              "      <td>0</td>\n",
              "      <td>0</td>\n",
              "      <td>0</td>\n",
              "      <td>0</td>\n",
              "      <td>0</td>\n",
              "      <td>0</td>\n",
              "      <td>0</td>\n",
              "      <td>...</td>\n",
              "      <td>0</td>\n",
              "      <td>1</td>\n",
              "      <td>0</td>\n",
              "      <td>0</td>\n",
              "      <td>0</td>\n",
              "      <td>0</td>\n",
              "      <td>0</td>\n",
              "      <td>0</td>\n",
              "      <td>0</td>\n",
              "      <td>1</td>\n",
              "      <td>0</td>\n",
              "      <td>0</td>\n",
              "      <td>0</td>\n",
              "      <td>0</td>\n",
              "      <td>0</td>\n",
              "      <td>0</td>\n",
              "      <td>0</td>\n",
              "      <td>0</td>\n",
              "      <td>0</td>\n",
              "      <td>0</td>\n",
              "      <td>0</td>\n",
              "      <td>0</td>\n",
              "      <td>0</td>\n",
              "      <td>0</td>\n",
              "      <td>0</td>\n",
              "      <td>0</td>\n",
              "      <td>0</td>\n",
              "      <td>1</td>\n",
              "      <td>0</td>\n",
              "      <td>0</td>\n",
              "      <td>0</td>\n",
              "      <td>0</td>\n",
              "      <td>0</td>\n",
              "      <td>0</td>\n",
              "      <td>0</td>\n",
              "      <td>0</td>\n",
              "      <td>0</td>\n",
              "      <td>0</td>\n",
              "      <td>0</td>\n",
              "      <td>0</td>\n",
              "    </tr>\n",
              "    <tr>\n",
              "      <th>2</th>\n",
              "      <td>36350</td>\n",
              "      <td>0</td>\n",
              "      <td>0</td>\n",
              "      <td>1</td>\n",
              "      <td>0</td>\n",
              "      <td>0</td>\n",
              "      <td>0</td>\n",
              "      <td>0</td>\n",
              "      <td>0</td>\n",
              "      <td>0</td>\n",
              "      <td>0</td>\n",
              "      <td>0</td>\n",
              "      <td>0</td>\n",
              "      <td>0</td>\n",
              "      <td>0</td>\n",
              "      <td>0</td>\n",
              "      <td>0</td>\n",
              "      <td>0</td>\n",
              "      <td>0</td>\n",
              "      <td>0</td>\n",
              "      <td>0</td>\n",
              "      <td>0</td>\n",
              "      <td>0</td>\n",
              "      <td>0</td>\n",
              "      <td>0</td>\n",
              "      <td>0</td>\n",
              "      <td>0</td>\n",
              "      <td>0</td>\n",
              "      <td>0</td>\n",
              "      <td>0</td>\n",
              "      <td>0</td>\n",
              "      <td>0</td>\n",
              "      <td>0</td>\n",
              "      <td>0</td>\n",
              "      <td>0</td>\n",
              "      <td>0</td>\n",
              "      <td>0</td>\n",
              "      <td>0</td>\n",
              "      <td>0</td>\n",
              "      <td>0</td>\n",
              "      <td>...</td>\n",
              "      <td>0</td>\n",
              "      <td>1</td>\n",
              "      <td>0</td>\n",
              "      <td>0</td>\n",
              "      <td>0</td>\n",
              "      <td>0</td>\n",
              "      <td>0</td>\n",
              "      <td>0</td>\n",
              "      <td>0</td>\n",
              "      <td>0</td>\n",
              "      <td>0</td>\n",
              "      <td>1</td>\n",
              "      <td>0</td>\n",
              "      <td>0</td>\n",
              "      <td>0</td>\n",
              "      <td>0</td>\n",
              "      <td>0</td>\n",
              "      <td>0</td>\n",
              "      <td>0</td>\n",
              "      <td>0</td>\n",
              "      <td>0</td>\n",
              "      <td>0</td>\n",
              "      <td>0</td>\n",
              "      <td>0</td>\n",
              "      <td>0</td>\n",
              "      <td>0</td>\n",
              "      <td>0</td>\n",
              "      <td>0</td>\n",
              "      <td>1</td>\n",
              "      <td>0</td>\n",
              "      <td>0</td>\n",
              "      <td>0</td>\n",
              "      <td>0</td>\n",
              "      <td>0</td>\n",
              "      <td>0</td>\n",
              "      <td>0</td>\n",
              "      <td>0</td>\n",
              "      <td>0</td>\n",
              "      <td>0</td>\n",
              "      <td>0</td>\n",
              "    </tr>\n",
              "    <tr>\n",
              "      <th>3</th>\n",
              "      <td>29450</td>\n",
              "      <td>0</td>\n",
              "      <td>0</td>\n",
              "      <td>1</td>\n",
              "      <td>0</td>\n",
              "      <td>0</td>\n",
              "      <td>0</td>\n",
              "      <td>0</td>\n",
              "      <td>0</td>\n",
              "      <td>0</td>\n",
              "      <td>0</td>\n",
              "      <td>0</td>\n",
              "      <td>0</td>\n",
              "      <td>0</td>\n",
              "      <td>0</td>\n",
              "      <td>0</td>\n",
              "      <td>0</td>\n",
              "      <td>0</td>\n",
              "      <td>0</td>\n",
              "      <td>0</td>\n",
              "      <td>0</td>\n",
              "      <td>0</td>\n",
              "      <td>0</td>\n",
              "      <td>0</td>\n",
              "      <td>0</td>\n",
              "      <td>0</td>\n",
              "      <td>0</td>\n",
              "      <td>0</td>\n",
              "      <td>0</td>\n",
              "      <td>0</td>\n",
              "      <td>0</td>\n",
              "      <td>0</td>\n",
              "      <td>0</td>\n",
              "      <td>0</td>\n",
              "      <td>0</td>\n",
              "      <td>0</td>\n",
              "      <td>0</td>\n",
              "      <td>0</td>\n",
              "      <td>0</td>\n",
              "      <td>0</td>\n",
              "      <td>...</td>\n",
              "      <td>0</td>\n",
              "      <td>1</td>\n",
              "      <td>0</td>\n",
              "      <td>0</td>\n",
              "      <td>0</td>\n",
              "      <td>0</td>\n",
              "      <td>0</td>\n",
              "      <td>0</td>\n",
              "      <td>0</td>\n",
              "      <td>0</td>\n",
              "      <td>0</td>\n",
              "      <td>1</td>\n",
              "      <td>0</td>\n",
              "      <td>0</td>\n",
              "      <td>0</td>\n",
              "      <td>0</td>\n",
              "      <td>0</td>\n",
              "      <td>0</td>\n",
              "      <td>0</td>\n",
              "      <td>0</td>\n",
              "      <td>0</td>\n",
              "      <td>0</td>\n",
              "      <td>0</td>\n",
              "      <td>0</td>\n",
              "      <td>0</td>\n",
              "      <td>0</td>\n",
              "      <td>1</td>\n",
              "      <td>0</td>\n",
              "      <td>0</td>\n",
              "      <td>0</td>\n",
              "      <td>0</td>\n",
              "      <td>0</td>\n",
              "      <td>0</td>\n",
              "      <td>0</td>\n",
              "      <td>0</td>\n",
              "      <td>0</td>\n",
              "      <td>0</td>\n",
              "      <td>0</td>\n",
              "      <td>0</td>\n",
              "      <td>0</td>\n",
              "    </tr>\n",
              "    <tr>\n",
              "      <th>4</th>\n",
              "      <td>34500</td>\n",
              "      <td>0</td>\n",
              "      <td>0</td>\n",
              "      <td>1</td>\n",
              "      <td>0</td>\n",
              "      <td>0</td>\n",
              "      <td>0</td>\n",
              "      <td>0</td>\n",
              "      <td>0</td>\n",
              "      <td>0</td>\n",
              "      <td>0</td>\n",
              "      <td>0</td>\n",
              "      <td>0</td>\n",
              "      <td>0</td>\n",
              "      <td>0</td>\n",
              "      <td>0</td>\n",
              "      <td>0</td>\n",
              "      <td>0</td>\n",
              "      <td>0</td>\n",
              "      <td>0</td>\n",
              "      <td>0</td>\n",
              "      <td>0</td>\n",
              "      <td>0</td>\n",
              "      <td>0</td>\n",
              "      <td>0</td>\n",
              "      <td>0</td>\n",
              "      <td>0</td>\n",
              "      <td>0</td>\n",
              "      <td>0</td>\n",
              "      <td>0</td>\n",
              "      <td>0</td>\n",
              "      <td>0</td>\n",
              "      <td>0</td>\n",
              "      <td>0</td>\n",
              "      <td>0</td>\n",
              "      <td>0</td>\n",
              "      <td>0</td>\n",
              "      <td>0</td>\n",
              "      <td>0</td>\n",
              "      <td>0</td>\n",
              "      <td>...</td>\n",
              "      <td>0</td>\n",
              "      <td>1</td>\n",
              "      <td>0</td>\n",
              "      <td>0</td>\n",
              "      <td>0</td>\n",
              "      <td>0</td>\n",
              "      <td>0</td>\n",
              "      <td>0</td>\n",
              "      <td>0</td>\n",
              "      <td>1</td>\n",
              "      <td>0</td>\n",
              "      <td>0</td>\n",
              "      <td>0</td>\n",
              "      <td>0</td>\n",
              "      <td>0</td>\n",
              "      <td>0</td>\n",
              "      <td>0</td>\n",
              "      <td>0</td>\n",
              "      <td>0</td>\n",
              "      <td>0</td>\n",
              "      <td>0</td>\n",
              "      <td>0</td>\n",
              "      <td>0</td>\n",
              "      <td>0</td>\n",
              "      <td>0</td>\n",
              "      <td>0</td>\n",
              "      <td>1</td>\n",
              "      <td>0</td>\n",
              "      <td>0</td>\n",
              "      <td>0</td>\n",
              "      <td>0</td>\n",
              "      <td>0</td>\n",
              "      <td>0</td>\n",
              "      <td>0</td>\n",
              "      <td>0</td>\n",
              "      <td>0</td>\n",
              "      <td>0</td>\n",
              "      <td>0</td>\n",
              "      <td>0</td>\n",
              "      <td>0</td>\n",
              "    </tr>\n",
              "  </tbody>\n",
              "</table>\n",
              "<p>5 rows × 115 columns</p>\n",
              "</div>"
            ],
            "text/plain": [
              "   Price  Make_Alfa Romeo  Make_Audi  ...  MPG-C_29  MPG-C_30  MPG-C_31\n",
              "0  46135                0          0  ...         0         0         0\n",
              "1  40650                0          0  ...         0         0         0\n",
              "2  36350                0          0  ...         0         0         0\n",
              "3  29450                0          0  ...         0         0         0\n",
              "4  34500                0          0  ...         0         0         0\n",
              "\n",
              "[5 rows x 115 columns]"
            ]
          },
          "metadata": {
            "tags": []
          },
          "execution_count": 179
        }
      ]
    },
    {
      "cell_type": "markdown",
      "metadata": {
        "id": "XoAC-ycUtv8Q",
        "colab_type": "text"
      },
      "source": [
        "> *Purpose of splitting data into two different categories is to avoid overfitting which is paying attention to minor details/noise which are not necessary and only optimizes the training dataset accuracy.*"
      ]
    },
    {
      "cell_type": "code",
      "metadata": {
        "id": "ZxoCxOOR9QmH",
        "colab_type": "code",
        "colab": {}
      },
      "source": [
        "#Splitting the dataset into 80% training and 20% testing dataset.\n",
        "from sklearn.model_selection import train_test_split\n",
        "X_train,X_test,y_train,y_test = train_test_split(X.drop('Price',axis=1),X.Price,test_size=0.2,random_state=40)"
      ],
      "execution_count": null,
      "outputs": []
    },
    {
      "cell_type": "code",
      "metadata": {
        "id": "v3dCrUVJ-Fbi",
        "colab_type": "code",
        "colab": {
          "base_uri": "https://localhost:8080/",
          "height": 472
        },
        "outputId": "9df73be4-f509-4b23-e75a-289b118d5277"
      },
      "source": [
        "#Checking our training data\n",
        "X_train"
      ],
      "execution_count": null,
      "outputs": [
        {
          "output_type": "execute_result",
          "data": {
            "text/html": [
              "<div>\n",
              "<style scoped>\n",
              "    .dataframe tbody tr th:only-of-type {\n",
              "        vertical-align: middle;\n",
              "    }\n",
              "\n",
              "    .dataframe tbody tr th {\n",
              "        vertical-align: top;\n",
              "    }\n",
              "\n",
              "    .dataframe thead th {\n",
              "        text-align: right;\n",
              "    }\n",
              "</style>\n",
              "<table border=\"1\" class=\"dataframe\">\n",
              "  <thead>\n",
              "    <tr style=\"text-align: right;\">\n",
              "      <th></th>\n",
              "      <th>Make_Alfa Romeo</th>\n",
              "      <th>Make_Audi</th>\n",
              "      <th>Make_BMW</th>\n",
              "      <th>Make_Buick</th>\n",
              "      <th>Make_Cadillac</th>\n",
              "      <th>Make_Chevrolet</th>\n",
              "      <th>Make_Chrysler</th>\n",
              "      <th>Make_Dodge</th>\n",
              "      <th>Make_FIAT</th>\n",
              "      <th>Make_GMC</th>\n",
              "      <th>Make_Genesis</th>\n",
              "      <th>Make_HUMMER</th>\n",
              "      <th>Make_Honda</th>\n",
              "      <th>Make_Hyundai</th>\n",
              "      <th>Make_Infiniti</th>\n",
              "      <th>Make_Kia</th>\n",
              "      <th>Make_Land Rover</th>\n",
              "      <th>Make_Lexus</th>\n",
              "      <th>Make_Lincoln</th>\n",
              "      <th>Make_Lotus</th>\n",
              "      <th>Make_Maserati</th>\n",
              "      <th>Make_Mazda</th>\n",
              "      <th>Make_Mercedes-Benz</th>\n",
              "      <th>Make_Mitsubishi</th>\n",
              "      <th>Make_Nissan</th>\n",
              "      <th>Make_Oldsmobile</th>\n",
              "      <th>Make_Plymouth</th>\n",
              "      <th>Make_Pontiac</th>\n",
              "      <th>Make_Porsche</th>\n",
              "      <th>Make_Saab</th>\n",
              "      <th>Make_Scion</th>\n",
              "      <th>Make_Subaru</th>\n",
              "      <th>Make_Suzuki</th>\n",
              "      <th>Make_Toyota</th>\n",
              "      <th>Make_Volkswagen</th>\n",
              "      <th>Make_Volvo</th>\n",
              "      <th>Year_1995</th>\n",
              "      <th>Year_1996</th>\n",
              "      <th>Year_1997</th>\n",
              "      <th>Year_1998</th>\n",
              "      <th>...</th>\n",
              "      <th>Drive Mode_front wheel drive</th>\n",
              "      <th>Drive Mode_rear wheel drive</th>\n",
              "      <th>Vehicle Size_Large</th>\n",
              "      <th>Vehicle Size_Midsize</th>\n",
              "      <th>Vehicle Style_2dr SUV</th>\n",
              "      <th>Vehicle Style_4dr Hatchback</th>\n",
              "      <th>Vehicle Style_4dr SUV</th>\n",
              "      <th>Vehicle Style_Cargo Minivan</th>\n",
              "      <th>Vehicle Style_Cargo Van</th>\n",
              "      <th>Vehicle Style_Convertible</th>\n",
              "      <th>Vehicle Style_Convertible SUV</th>\n",
              "      <th>Vehicle Style_Coupe</th>\n",
              "      <th>Vehicle Style_Crew Cab Pickup</th>\n",
              "      <th>Vehicle Style_Extended Cab Pickup</th>\n",
              "      <th>Vehicle Style_Passenger Minivan</th>\n",
              "      <th>Vehicle Style_Passenger Van</th>\n",
              "      <th>Vehicle Style_Regular Cab Pickup</th>\n",
              "      <th>Vehicle Style_Sedan</th>\n",
              "      <th>Vehicle Style_Wagon</th>\n",
              "      <th>MPG-C_11</th>\n",
              "      <th>MPG-C_12</th>\n",
              "      <th>MPG-C_13</th>\n",
              "      <th>MPG-C_14</th>\n",
              "      <th>MPG-C_15</th>\n",
              "      <th>MPG-C_16</th>\n",
              "      <th>MPG-C_17</th>\n",
              "      <th>MPG-C_18</th>\n",
              "      <th>MPG-C_19</th>\n",
              "      <th>MPG-C_20</th>\n",
              "      <th>MPG-C_21</th>\n",
              "      <th>MPG-C_22</th>\n",
              "      <th>MPG-C_23</th>\n",
              "      <th>MPG-C_24</th>\n",
              "      <th>MPG-C_25</th>\n",
              "      <th>MPG-C_26</th>\n",
              "      <th>MPG-C_27</th>\n",
              "      <th>MPG-C_28</th>\n",
              "      <th>MPG-C_29</th>\n",
              "      <th>MPG-C_30</th>\n",
              "      <th>MPG-C_31</th>\n",
              "    </tr>\n",
              "  </thead>\n",
              "  <tbody>\n",
              "    <tr>\n",
              "      <th>6635</th>\n",
              "      <td>0</td>\n",
              "      <td>0</td>\n",
              "      <td>0</td>\n",
              "      <td>0</td>\n",
              "      <td>0</td>\n",
              "      <td>0</td>\n",
              "      <td>0</td>\n",
              "      <td>1</td>\n",
              "      <td>0</td>\n",
              "      <td>0</td>\n",
              "      <td>0</td>\n",
              "      <td>0</td>\n",
              "      <td>0</td>\n",
              "      <td>0</td>\n",
              "      <td>0</td>\n",
              "      <td>0</td>\n",
              "      <td>0</td>\n",
              "      <td>0</td>\n",
              "      <td>0</td>\n",
              "      <td>0</td>\n",
              "      <td>0</td>\n",
              "      <td>0</td>\n",
              "      <td>0</td>\n",
              "      <td>0</td>\n",
              "      <td>0</td>\n",
              "      <td>0</td>\n",
              "      <td>0</td>\n",
              "      <td>0</td>\n",
              "      <td>0</td>\n",
              "      <td>0</td>\n",
              "      <td>0</td>\n",
              "      <td>0</td>\n",
              "      <td>0</td>\n",
              "      <td>0</td>\n",
              "      <td>0</td>\n",
              "      <td>0</td>\n",
              "      <td>0</td>\n",
              "      <td>0</td>\n",
              "      <td>0</td>\n",
              "      <td>0</td>\n",
              "      <td>...</td>\n",
              "      <td>0</td>\n",
              "      <td>1</td>\n",
              "      <td>1</td>\n",
              "      <td>0</td>\n",
              "      <td>0</td>\n",
              "      <td>0</td>\n",
              "      <td>0</td>\n",
              "      <td>0</td>\n",
              "      <td>0</td>\n",
              "      <td>0</td>\n",
              "      <td>0</td>\n",
              "      <td>0</td>\n",
              "      <td>0</td>\n",
              "      <td>0</td>\n",
              "      <td>0</td>\n",
              "      <td>0</td>\n",
              "      <td>0</td>\n",
              "      <td>0</td>\n",
              "      <td>1</td>\n",
              "      <td>0</td>\n",
              "      <td>0</td>\n",
              "      <td>0</td>\n",
              "      <td>0</td>\n",
              "      <td>1</td>\n",
              "      <td>0</td>\n",
              "      <td>0</td>\n",
              "      <td>0</td>\n",
              "      <td>0</td>\n",
              "      <td>0</td>\n",
              "      <td>0</td>\n",
              "      <td>0</td>\n",
              "      <td>0</td>\n",
              "      <td>0</td>\n",
              "      <td>0</td>\n",
              "      <td>0</td>\n",
              "      <td>0</td>\n",
              "      <td>0</td>\n",
              "      <td>0</td>\n",
              "      <td>0</td>\n",
              "      <td>0</td>\n",
              "    </tr>\n",
              "    <tr>\n",
              "      <th>7356</th>\n",
              "      <td>0</td>\n",
              "      <td>0</td>\n",
              "      <td>0</td>\n",
              "      <td>0</td>\n",
              "      <td>0</td>\n",
              "      <td>0</td>\n",
              "      <td>0</td>\n",
              "      <td>0</td>\n",
              "      <td>0</td>\n",
              "      <td>0</td>\n",
              "      <td>0</td>\n",
              "      <td>0</td>\n",
              "      <td>0</td>\n",
              "      <td>0</td>\n",
              "      <td>0</td>\n",
              "      <td>0</td>\n",
              "      <td>0</td>\n",
              "      <td>0</td>\n",
              "      <td>0</td>\n",
              "      <td>0</td>\n",
              "      <td>0</td>\n",
              "      <td>0</td>\n",
              "      <td>0</td>\n",
              "      <td>1</td>\n",
              "      <td>0</td>\n",
              "      <td>0</td>\n",
              "      <td>0</td>\n",
              "      <td>0</td>\n",
              "      <td>0</td>\n",
              "      <td>0</td>\n",
              "      <td>0</td>\n",
              "      <td>0</td>\n",
              "      <td>0</td>\n",
              "      <td>0</td>\n",
              "      <td>0</td>\n",
              "      <td>0</td>\n",
              "      <td>0</td>\n",
              "      <td>0</td>\n",
              "      <td>0</td>\n",
              "      <td>0</td>\n",
              "      <td>...</td>\n",
              "      <td>1</td>\n",
              "      <td>0</td>\n",
              "      <td>0</td>\n",
              "      <td>0</td>\n",
              "      <td>0</td>\n",
              "      <td>0</td>\n",
              "      <td>1</td>\n",
              "      <td>0</td>\n",
              "      <td>0</td>\n",
              "      <td>0</td>\n",
              "      <td>0</td>\n",
              "      <td>0</td>\n",
              "      <td>0</td>\n",
              "      <td>0</td>\n",
              "      <td>0</td>\n",
              "      <td>0</td>\n",
              "      <td>0</td>\n",
              "      <td>0</td>\n",
              "      <td>0</td>\n",
              "      <td>0</td>\n",
              "      <td>0</td>\n",
              "      <td>0</td>\n",
              "      <td>0</td>\n",
              "      <td>0</td>\n",
              "      <td>0</td>\n",
              "      <td>0</td>\n",
              "      <td>0</td>\n",
              "      <td>0</td>\n",
              "      <td>0</td>\n",
              "      <td>0</td>\n",
              "      <td>0</td>\n",
              "      <td>0</td>\n",
              "      <td>0</td>\n",
              "      <td>1</td>\n",
              "      <td>0</td>\n",
              "      <td>0</td>\n",
              "      <td>0</td>\n",
              "      <td>0</td>\n",
              "      <td>0</td>\n",
              "      <td>0</td>\n",
              "    </tr>\n",
              "    <tr>\n",
              "      <th>219</th>\n",
              "      <td>0</td>\n",
              "      <td>0</td>\n",
              "      <td>0</td>\n",
              "      <td>0</td>\n",
              "      <td>0</td>\n",
              "      <td>0</td>\n",
              "      <td>1</td>\n",
              "      <td>0</td>\n",
              "      <td>0</td>\n",
              "      <td>0</td>\n",
              "      <td>0</td>\n",
              "      <td>0</td>\n",
              "      <td>0</td>\n",
              "      <td>0</td>\n",
              "      <td>0</td>\n",
              "      <td>0</td>\n",
              "      <td>0</td>\n",
              "      <td>0</td>\n",
              "      <td>0</td>\n",
              "      <td>0</td>\n",
              "      <td>0</td>\n",
              "      <td>0</td>\n",
              "      <td>0</td>\n",
              "      <td>0</td>\n",
              "      <td>0</td>\n",
              "      <td>0</td>\n",
              "      <td>0</td>\n",
              "      <td>0</td>\n",
              "      <td>0</td>\n",
              "      <td>0</td>\n",
              "      <td>0</td>\n",
              "      <td>0</td>\n",
              "      <td>0</td>\n",
              "      <td>0</td>\n",
              "      <td>0</td>\n",
              "      <td>0</td>\n",
              "      <td>0</td>\n",
              "      <td>0</td>\n",
              "      <td>0</td>\n",
              "      <td>0</td>\n",
              "      <td>...</td>\n",
              "      <td>0</td>\n",
              "      <td>1</td>\n",
              "      <td>1</td>\n",
              "      <td>0</td>\n",
              "      <td>0</td>\n",
              "      <td>0</td>\n",
              "      <td>0</td>\n",
              "      <td>0</td>\n",
              "      <td>0</td>\n",
              "      <td>0</td>\n",
              "      <td>0</td>\n",
              "      <td>0</td>\n",
              "      <td>0</td>\n",
              "      <td>0</td>\n",
              "      <td>0</td>\n",
              "      <td>0</td>\n",
              "      <td>0</td>\n",
              "      <td>1</td>\n",
              "      <td>0</td>\n",
              "      <td>0</td>\n",
              "      <td>0</td>\n",
              "      <td>0</td>\n",
              "      <td>0</td>\n",
              "      <td>0</td>\n",
              "      <td>0</td>\n",
              "      <td>0</td>\n",
              "      <td>0</td>\n",
              "      <td>1</td>\n",
              "      <td>0</td>\n",
              "      <td>0</td>\n",
              "      <td>0</td>\n",
              "      <td>0</td>\n",
              "      <td>0</td>\n",
              "      <td>0</td>\n",
              "      <td>0</td>\n",
              "      <td>0</td>\n",
              "      <td>0</td>\n",
              "      <td>0</td>\n",
              "      <td>0</td>\n",
              "      <td>0</td>\n",
              "    </tr>\n",
              "    <tr>\n",
              "      <th>5299</th>\n",
              "      <td>0</td>\n",
              "      <td>0</td>\n",
              "      <td>0</td>\n",
              "      <td>0</td>\n",
              "      <td>0</td>\n",
              "      <td>0</td>\n",
              "      <td>0</td>\n",
              "      <td>0</td>\n",
              "      <td>0</td>\n",
              "      <td>0</td>\n",
              "      <td>0</td>\n",
              "      <td>0</td>\n",
              "      <td>0</td>\n",
              "      <td>0</td>\n",
              "      <td>0</td>\n",
              "      <td>0</td>\n",
              "      <td>0</td>\n",
              "      <td>0</td>\n",
              "      <td>0</td>\n",
              "      <td>0</td>\n",
              "      <td>0</td>\n",
              "      <td>0</td>\n",
              "      <td>1</td>\n",
              "      <td>0</td>\n",
              "      <td>0</td>\n",
              "      <td>0</td>\n",
              "      <td>0</td>\n",
              "      <td>0</td>\n",
              "      <td>0</td>\n",
              "      <td>0</td>\n",
              "      <td>0</td>\n",
              "      <td>0</td>\n",
              "      <td>0</td>\n",
              "      <td>0</td>\n",
              "      <td>0</td>\n",
              "      <td>0</td>\n",
              "      <td>0</td>\n",
              "      <td>0</td>\n",
              "      <td>0</td>\n",
              "      <td>0</td>\n",
              "      <td>...</td>\n",
              "      <td>0</td>\n",
              "      <td>0</td>\n",
              "      <td>0</td>\n",
              "      <td>0</td>\n",
              "      <td>0</td>\n",
              "      <td>0</td>\n",
              "      <td>1</td>\n",
              "      <td>0</td>\n",
              "      <td>0</td>\n",
              "      <td>0</td>\n",
              "      <td>0</td>\n",
              "      <td>0</td>\n",
              "      <td>0</td>\n",
              "      <td>0</td>\n",
              "      <td>0</td>\n",
              "      <td>0</td>\n",
              "      <td>0</td>\n",
              "      <td>0</td>\n",
              "      <td>0</td>\n",
              "      <td>0</td>\n",
              "      <td>0</td>\n",
              "      <td>0</td>\n",
              "      <td>0</td>\n",
              "      <td>0</td>\n",
              "      <td>0</td>\n",
              "      <td>0</td>\n",
              "      <td>0</td>\n",
              "      <td>0</td>\n",
              "      <td>0</td>\n",
              "      <td>0</td>\n",
              "      <td>0</td>\n",
              "      <td>1</td>\n",
              "      <td>0</td>\n",
              "      <td>0</td>\n",
              "      <td>0</td>\n",
              "      <td>0</td>\n",
              "      <td>0</td>\n",
              "      <td>0</td>\n",
              "      <td>0</td>\n",
              "      <td>0</td>\n",
              "    </tr>\n",
              "    <tr>\n",
              "      <th>5653</th>\n",
              "      <td>0</td>\n",
              "      <td>0</td>\n",
              "      <td>0</td>\n",
              "      <td>0</td>\n",
              "      <td>0</td>\n",
              "      <td>0</td>\n",
              "      <td>0</td>\n",
              "      <td>0</td>\n",
              "      <td>0</td>\n",
              "      <td>0</td>\n",
              "      <td>0</td>\n",
              "      <td>0</td>\n",
              "      <td>0</td>\n",
              "      <td>0</td>\n",
              "      <td>0</td>\n",
              "      <td>0</td>\n",
              "      <td>0</td>\n",
              "      <td>0</td>\n",
              "      <td>0</td>\n",
              "      <td>0</td>\n",
              "      <td>0</td>\n",
              "      <td>0</td>\n",
              "      <td>0</td>\n",
              "      <td>0</td>\n",
              "      <td>0</td>\n",
              "      <td>0</td>\n",
              "      <td>0</td>\n",
              "      <td>0</td>\n",
              "      <td>0</td>\n",
              "      <td>0</td>\n",
              "      <td>0</td>\n",
              "      <td>0</td>\n",
              "      <td>0</td>\n",
              "      <td>0</td>\n",
              "      <td>1</td>\n",
              "      <td>0</td>\n",
              "      <td>0</td>\n",
              "      <td>0</td>\n",
              "      <td>0</td>\n",
              "      <td>0</td>\n",
              "      <td>...</td>\n",
              "      <td>1</td>\n",
              "      <td>0</td>\n",
              "      <td>0</td>\n",
              "      <td>0</td>\n",
              "      <td>0</td>\n",
              "      <td>1</td>\n",
              "      <td>0</td>\n",
              "      <td>0</td>\n",
              "      <td>0</td>\n",
              "      <td>0</td>\n",
              "      <td>0</td>\n",
              "      <td>0</td>\n",
              "      <td>0</td>\n",
              "      <td>0</td>\n",
              "      <td>0</td>\n",
              "      <td>0</td>\n",
              "      <td>0</td>\n",
              "      <td>0</td>\n",
              "      <td>0</td>\n",
              "      <td>0</td>\n",
              "      <td>0</td>\n",
              "      <td>0</td>\n",
              "      <td>0</td>\n",
              "      <td>0</td>\n",
              "      <td>0</td>\n",
              "      <td>0</td>\n",
              "      <td>0</td>\n",
              "      <td>0</td>\n",
              "      <td>0</td>\n",
              "      <td>0</td>\n",
              "      <td>0</td>\n",
              "      <td>0</td>\n",
              "      <td>1</td>\n",
              "      <td>0</td>\n",
              "      <td>0</td>\n",
              "      <td>0</td>\n",
              "      <td>0</td>\n",
              "      <td>0</td>\n",
              "      <td>0</td>\n",
              "      <td>0</td>\n",
              "    </tr>\n",
              "    <tr>\n",
              "      <th>...</th>\n",
              "      <td>...</td>\n",
              "      <td>...</td>\n",
              "      <td>...</td>\n",
              "      <td>...</td>\n",
              "      <td>...</td>\n",
              "      <td>...</td>\n",
              "      <td>...</td>\n",
              "      <td>...</td>\n",
              "      <td>...</td>\n",
              "      <td>...</td>\n",
              "      <td>...</td>\n",
              "      <td>...</td>\n",
              "      <td>...</td>\n",
              "      <td>...</td>\n",
              "      <td>...</td>\n",
              "      <td>...</td>\n",
              "      <td>...</td>\n",
              "      <td>...</td>\n",
              "      <td>...</td>\n",
              "      <td>...</td>\n",
              "      <td>...</td>\n",
              "      <td>...</td>\n",
              "      <td>...</td>\n",
              "      <td>...</td>\n",
              "      <td>...</td>\n",
              "      <td>...</td>\n",
              "      <td>...</td>\n",
              "      <td>...</td>\n",
              "      <td>...</td>\n",
              "      <td>...</td>\n",
              "      <td>...</td>\n",
              "      <td>...</td>\n",
              "      <td>...</td>\n",
              "      <td>...</td>\n",
              "      <td>...</td>\n",
              "      <td>...</td>\n",
              "      <td>...</td>\n",
              "      <td>...</td>\n",
              "      <td>...</td>\n",
              "      <td>...</td>\n",
              "      <td>...</td>\n",
              "      <td>...</td>\n",
              "      <td>...</td>\n",
              "      <td>...</td>\n",
              "      <td>...</td>\n",
              "      <td>...</td>\n",
              "      <td>...</td>\n",
              "      <td>...</td>\n",
              "      <td>...</td>\n",
              "      <td>...</td>\n",
              "      <td>...</td>\n",
              "      <td>...</td>\n",
              "      <td>...</td>\n",
              "      <td>...</td>\n",
              "      <td>...</td>\n",
              "      <td>...</td>\n",
              "      <td>...</td>\n",
              "      <td>...</td>\n",
              "      <td>...</td>\n",
              "      <td>...</td>\n",
              "      <td>...</td>\n",
              "      <td>...</td>\n",
              "      <td>...</td>\n",
              "      <td>...</td>\n",
              "      <td>...</td>\n",
              "      <td>...</td>\n",
              "      <td>...</td>\n",
              "      <td>...</td>\n",
              "      <td>...</td>\n",
              "      <td>...</td>\n",
              "      <td>...</td>\n",
              "      <td>...</td>\n",
              "      <td>...</td>\n",
              "      <td>...</td>\n",
              "      <td>...</td>\n",
              "      <td>...</td>\n",
              "      <td>...</td>\n",
              "      <td>...</td>\n",
              "      <td>...</td>\n",
              "      <td>...</td>\n",
              "      <td>...</td>\n",
              "    </tr>\n",
              "    <tr>\n",
              "      <th>10957</th>\n",
              "      <td>0</td>\n",
              "      <td>0</td>\n",
              "      <td>0</td>\n",
              "      <td>0</td>\n",
              "      <td>0</td>\n",
              "      <td>0</td>\n",
              "      <td>0</td>\n",
              "      <td>0</td>\n",
              "      <td>0</td>\n",
              "      <td>0</td>\n",
              "      <td>0</td>\n",
              "      <td>0</td>\n",
              "      <td>0</td>\n",
              "      <td>0</td>\n",
              "      <td>0</td>\n",
              "      <td>0</td>\n",
              "      <td>0</td>\n",
              "      <td>0</td>\n",
              "      <td>0</td>\n",
              "      <td>0</td>\n",
              "      <td>0</td>\n",
              "      <td>0</td>\n",
              "      <td>0</td>\n",
              "      <td>0</td>\n",
              "      <td>0</td>\n",
              "      <td>0</td>\n",
              "      <td>0</td>\n",
              "      <td>0</td>\n",
              "      <td>0</td>\n",
              "      <td>0</td>\n",
              "      <td>0</td>\n",
              "      <td>0</td>\n",
              "      <td>0</td>\n",
              "      <td>1</td>\n",
              "      <td>0</td>\n",
              "      <td>0</td>\n",
              "      <td>0</td>\n",
              "      <td>0</td>\n",
              "      <td>0</td>\n",
              "      <td>0</td>\n",
              "      <td>...</td>\n",
              "      <td>0</td>\n",
              "      <td>1</td>\n",
              "      <td>1</td>\n",
              "      <td>0</td>\n",
              "      <td>0</td>\n",
              "      <td>0</td>\n",
              "      <td>0</td>\n",
              "      <td>0</td>\n",
              "      <td>0</td>\n",
              "      <td>0</td>\n",
              "      <td>0</td>\n",
              "      <td>0</td>\n",
              "      <td>0</td>\n",
              "      <td>1</td>\n",
              "      <td>0</td>\n",
              "      <td>0</td>\n",
              "      <td>0</td>\n",
              "      <td>0</td>\n",
              "      <td>0</td>\n",
              "      <td>0</td>\n",
              "      <td>0</td>\n",
              "      <td>1</td>\n",
              "      <td>0</td>\n",
              "      <td>0</td>\n",
              "      <td>0</td>\n",
              "      <td>0</td>\n",
              "      <td>0</td>\n",
              "      <td>0</td>\n",
              "      <td>0</td>\n",
              "      <td>0</td>\n",
              "      <td>0</td>\n",
              "      <td>0</td>\n",
              "      <td>0</td>\n",
              "      <td>0</td>\n",
              "      <td>0</td>\n",
              "      <td>0</td>\n",
              "      <td>0</td>\n",
              "      <td>0</td>\n",
              "      <td>0</td>\n",
              "      <td>0</td>\n",
              "    </tr>\n",
              "    <tr>\n",
              "      <th>5341</th>\n",
              "      <td>0</td>\n",
              "      <td>0</td>\n",
              "      <td>0</td>\n",
              "      <td>0</td>\n",
              "      <td>0</td>\n",
              "      <td>0</td>\n",
              "      <td>0</td>\n",
              "      <td>0</td>\n",
              "      <td>0</td>\n",
              "      <td>0</td>\n",
              "      <td>0</td>\n",
              "      <td>0</td>\n",
              "      <td>0</td>\n",
              "      <td>0</td>\n",
              "      <td>0</td>\n",
              "      <td>0</td>\n",
              "      <td>0</td>\n",
              "      <td>0</td>\n",
              "      <td>0</td>\n",
              "      <td>0</td>\n",
              "      <td>0</td>\n",
              "      <td>0</td>\n",
              "      <td>0</td>\n",
              "      <td>0</td>\n",
              "      <td>0</td>\n",
              "      <td>0</td>\n",
              "      <td>0</td>\n",
              "      <td>0</td>\n",
              "      <td>0</td>\n",
              "      <td>0</td>\n",
              "      <td>0</td>\n",
              "      <td>0</td>\n",
              "      <td>0</td>\n",
              "      <td>0</td>\n",
              "      <td>1</td>\n",
              "      <td>0</td>\n",
              "      <td>0</td>\n",
              "      <td>0</td>\n",
              "      <td>0</td>\n",
              "      <td>0</td>\n",
              "      <td>...</td>\n",
              "      <td>1</td>\n",
              "      <td>0</td>\n",
              "      <td>0</td>\n",
              "      <td>1</td>\n",
              "      <td>0</td>\n",
              "      <td>0</td>\n",
              "      <td>0</td>\n",
              "      <td>0</td>\n",
              "      <td>0</td>\n",
              "      <td>0</td>\n",
              "      <td>0</td>\n",
              "      <td>0</td>\n",
              "      <td>0</td>\n",
              "      <td>0</td>\n",
              "      <td>0</td>\n",
              "      <td>0</td>\n",
              "      <td>0</td>\n",
              "      <td>1</td>\n",
              "      <td>0</td>\n",
              "      <td>0</td>\n",
              "      <td>0</td>\n",
              "      <td>0</td>\n",
              "      <td>0</td>\n",
              "      <td>0</td>\n",
              "      <td>0</td>\n",
              "      <td>0</td>\n",
              "      <td>0</td>\n",
              "      <td>0</td>\n",
              "      <td>0</td>\n",
              "      <td>0</td>\n",
              "      <td>0</td>\n",
              "      <td>0</td>\n",
              "      <td>1</td>\n",
              "      <td>0</td>\n",
              "      <td>0</td>\n",
              "      <td>0</td>\n",
              "      <td>0</td>\n",
              "      <td>0</td>\n",
              "      <td>0</td>\n",
              "      <td>0</td>\n",
              "    </tr>\n",
              "    <tr>\n",
              "      <th>8610</th>\n",
              "      <td>0</td>\n",
              "      <td>0</td>\n",
              "      <td>0</td>\n",
              "      <td>0</td>\n",
              "      <td>0</td>\n",
              "      <td>0</td>\n",
              "      <td>0</td>\n",
              "      <td>0</td>\n",
              "      <td>0</td>\n",
              "      <td>0</td>\n",
              "      <td>0</td>\n",
              "      <td>0</td>\n",
              "      <td>0</td>\n",
              "      <td>0</td>\n",
              "      <td>0</td>\n",
              "      <td>0</td>\n",
              "      <td>0</td>\n",
              "      <td>0</td>\n",
              "      <td>0</td>\n",
              "      <td>0</td>\n",
              "      <td>0</td>\n",
              "      <td>0</td>\n",
              "      <td>0</td>\n",
              "      <td>0</td>\n",
              "      <td>0</td>\n",
              "      <td>0</td>\n",
              "      <td>0</td>\n",
              "      <td>0</td>\n",
              "      <td>0</td>\n",
              "      <td>0</td>\n",
              "      <td>0</td>\n",
              "      <td>0</td>\n",
              "      <td>0</td>\n",
              "      <td>0</td>\n",
              "      <td>1</td>\n",
              "      <td>0</td>\n",
              "      <td>0</td>\n",
              "      <td>0</td>\n",
              "      <td>0</td>\n",
              "      <td>0</td>\n",
              "      <td>...</td>\n",
              "      <td>1</td>\n",
              "      <td>0</td>\n",
              "      <td>0</td>\n",
              "      <td>1</td>\n",
              "      <td>0</td>\n",
              "      <td>0</td>\n",
              "      <td>0</td>\n",
              "      <td>0</td>\n",
              "      <td>0</td>\n",
              "      <td>0</td>\n",
              "      <td>0</td>\n",
              "      <td>0</td>\n",
              "      <td>0</td>\n",
              "      <td>0</td>\n",
              "      <td>1</td>\n",
              "      <td>0</td>\n",
              "      <td>0</td>\n",
              "      <td>0</td>\n",
              "      <td>0</td>\n",
              "      <td>0</td>\n",
              "      <td>0</td>\n",
              "      <td>0</td>\n",
              "      <td>0</td>\n",
              "      <td>0</td>\n",
              "      <td>1</td>\n",
              "      <td>0</td>\n",
              "      <td>0</td>\n",
              "      <td>0</td>\n",
              "      <td>0</td>\n",
              "      <td>0</td>\n",
              "      <td>0</td>\n",
              "      <td>0</td>\n",
              "      <td>0</td>\n",
              "      <td>0</td>\n",
              "      <td>0</td>\n",
              "      <td>0</td>\n",
              "      <td>0</td>\n",
              "      <td>0</td>\n",
              "      <td>0</td>\n",
              "      <td>0</td>\n",
              "    </tr>\n",
              "    <tr>\n",
              "      <th>7804</th>\n",
              "      <td>0</td>\n",
              "      <td>0</td>\n",
              "      <td>0</td>\n",
              "      <td>0</td>\n",
              "      <td>0</td>\n",
              "      <td>0</td>\n",
              "      <td>0</td>\n",
              "      <td>0</td>\n",
              "      <td>0</td>\n",
              "      <td>0</td>\n",
              "      <td>0</td>\n",
              "      <td>0</td>\n",
              "      <td>0</td>\n",
              "      <td>0</td>\n",
              "      <td>1</td>\n",
              "      <td>0</td>\n",
              "      <td>0</td>\n",
              "      <td>0</td>\n",
              "      <td>0</td>\n",
              "      <td>0</td>\n",
              "      <td>0</td>\n",
              "      <td>0</td>\n",
              "      <td>0</td>\n",
              "      <td>0</td>\n",
              "      <td>0</td>\n",
              "      <td>0</td>\n",
              "      <td>0</td>\n",
              "      <td>0</td>\n",
              "      <td>0</td>\n",
              "      <td>0</td>\n",
              "      <td>0</td>\n",
              "      <td>0</td>\n",
              "      <td>0</td>\n",
              "      <td>0</td>\n",
              "      <td>0</td>\n",
              "      <td>0</td>\n",
              "      <td>0</td>\n",
              "      <td>0</td>\n",
              "      <td>0</td>\n",
              "      <td>0</td>\n",
              "      <td>...</td>\n",
              "      <td>0</td>\n",
              "      <td>0</td>\n",
              "      <td>0</td>\n",
              "      <td>1</td>\n",
              "      <td>0</td>\n",
              "      <td>0</td>\n",
              "      <td>0</td>\n",
              "      <td>0</td>\n",
              "      <td>0</td>\n",
              "      <td>0</td>\n",
              "      <td>0</td>\n",
              "      <td>0</td>\n",
              "      <td>0</td>\n",
              "      <td>0</td>\n",
              "      <td>0</td>\n",
              "      <td>0</td>\n",
              "      <td>0</td>\n",
              "      <td>1</td>\n",
              "      <td>0</td>\n",
              "      <td>0</td>\n",
              "      <td>0</td>\n",
              "      <td>0</td>\n",
              "      <td>0</td>\n",
              "      <td>0</td>\n",
              "      <td>0</td>\n",
              "      <td>0</td>\n",
              "      <td>0</td>\n",
              "      <td>1</td>\n",
              "      <td>0</td>\n",
              "      <td>0</td>\n",
              "      <td>0</td>\n",
              "      <td>0</td>\n",
              "      <td>0</td>\n",
              "      <td>0</td>\n",
              "      <td>0</td>\n",
              "      <td>0</td>\n",
              "      <td>0</td>\n",
              "      <td>0</td>\n",
              "      <td>0</td>\n",
              "      <td>0</td>\n",
              "    </tr>\n",
              "    <tr>\n",
              "      <th>10622</th>\n",
              "      <td>0</td>\n",
              "      <td>0</td>\n",
              "      <td>0</td>\n",
              "      <td>0</td>\n",
              "      <td>0</td>\n",
              "      <td>1</td>\n",
              "      <td>0</td>\n",
              "      <td>0</td>\n",
              "      <td>0</td>\n",
              "      <td>0</td>\n",
              "      <td>0</td>\n",
              "      <td>0</td>\n",
              "      <td>0</td>\n",
              "      <td>0</td>\n",
              "      <td>0</td>\n",
              "      <td>0</td>\n",
              "      <td>0</td>\n",
              "      <td>0</td>\n",
              "      <td>0</td>\n",
              "      <td>0</td>\n",
              "      <td>0</td>\n",
              "      <td>0</td>\n",
              "      <td>0</td>\n",
              "      <td>0</td>\n",
              "      <td>0</td>\n",
              "      <td>0</td>\n",
              "      <td>0</td>\n",
              "      <td>0</td>\n",
              "      <td>0</td>\n",
              "      <td>0</td>\n",
              "      <td>0</td>\n",
              "      <td>0</td>\n",
              "      <td>0</td>\n",
              "      <td>0</td>\n",
              "      <td>0</td>\n",
              "      <td>0</td>\n",
              "      <td>0</td>\n",
              "      <td>0</td>\n",
              "      <td>0</td>\n",
              "      <td>0</td>\n",
              "      <td>...</td>\n",
              "      <td>0</td>\n",
              "      <td>1</td>\n",
              "      <td>0</td>\n",
              "      <td>1</td>\n",
              "      <td>0</td>\n",
              "      <td>0</td>\n",
              "      <td>1</td>\n",
              "      <td>0</td>\n",
              "      <td>0</td>\n",
              "      <td>0</td>\n",
              "      <td>0</td>\n",
              "      <td>0</td>\n",
              "      <td>0</td>\n",
              "      <td>0</td>\n",
              "      <td>0</td>\n",
              "      <td>0</td>\n",
              "      <td>0</td>\n",
              "      <td>0</td>\n",
              "      <td>0</td>\n",
              "      <td>0</td>\n",
              "      <td>1</td>\n",
              "      <td>0</td>\n",
              "      <td>0</td>\n",
              "      <td>0</td>\n",
              "      <td>0</td>\n",
              "      <td>0</td>\n",
              "      <td>0</td>\n",
              "      <td>0</td>\n",
              "      <td>0</td>\n",
              "      <td>0</td>\n",
              "      <td>0</td>\n",
              "      <td>0</td>\n",
              "      <td>0</td>\n",
              "      <td>0</td>\n",
              "      <td>0</td>\n",
              "      <td>0</td>\n",
              "      <td>0</td>\n",
              "      <td>0</td>\n",
              "      <td>0</td>\n",
              "      <td>0</td>\n",
              "    </tr>\n",
              "  </tbody>\n",
              "</table>\n",
              "<p>6886 rows × 114 columns</p>\n",
              "</div>"
            ],
            "text/plain": [
              "       Make_Alfa Romeo  Make_Audi  Make_BMW  ...  MPG-C_29  MPG-C_30  MPG-C_31\n",
              "6635                 0          0         0  ...         0         0         0\n",
              "7356                 0          0         0  ...         0         0         0\n",
              "219                  0          0         0  ...         0         0         0\n",
              "5299                 0          0         0  ...         0         0         0\n",
              "5653                 0          0         0  ...         0         0         0\n",
              "...                ...        ...       ...  ...       ...       ...       ...\n",
              "10957                0          0         0  ...         0         0         0\n",
              "5341                 0          0         0  ...         0         0         0\n",
              "8610                 0          0         0  ...         0         0         0\n",
              "7804                 0          0         0  ...         0         0         0\n",
              "10622                0          0         0  ...         0         0         0\n",
              "\n",
              "[6886 rows x 114 columns]"
            ]
          },
          "metadata": {
            "tags": []
          },
          "execution_count": 181
        }
      ]
    },
    {
      "cell_type": "markdown",
      "metadata": {
        "id": "sdYBUZ6Fu0XQ",
        "colab_type": "text"
      },
      "source": [
        "**Preforming Pre-processing Steps** \n",
        "> *Standardizing the features around the center and 0 with a standard deviation of 1 is important when we compare measurements that have different units. Variables that are measured at different scales do not contribute equally to the analysis and might end up creating a bais.*"
      ]
    },
    {
      "cell_type": "code",
      "metadata": {
        "id": "ftlNoEasdMk0",
        "colab_type": "code",
        "colab": {}
      },
      "source": [
        "#Using StandardScaler from sklearn.preprocessing to standardize our data before fitting into the model.\n",
        "\n",
        "from sklearn.preprocessing import StandardScaler\n",
        "scale_x = StandardScaler()\n",
        "scale_y = StandardScaler()\n",
        "X_train_s = scale_x.fit_transform(X_train.values)\n",
        "X_test_s = scale_x.transform(X_test.values)\n",
        "y_train_s = scale_y.fit_transform(y_train.values.reshape(-1,1))\n",
        "y_test_s = scale_y.transform(y_test.values.reshape(-1,1))"
      ],
      "execution_count": null,
      "outputs": []
    },
    {
      "cell_type": "markdown",
      "metadata": {
        "id": "EGJkN9OKvXlX",
        "colab_type": "text"
      },
      "source": [
        "> *Building a basic Linear Regression model*\n",
        "\n",
        "> *There is an important difference between classification and regression problems. Fundamentally, classification is about predicting a label and regression is about predicting a quantity.That **regression** is the problem of **predicting a continuous quantity** output for an example.*"
      ]
    },
    {
      "cell_type": "code",
      "metadata": {
        "id": "UjR8V8M8-Hsh",
        "colab_type": "code",
        "colab": {
          "base_uri": "https://localhost:8080/",
          "height": 67
        },
        "outputId": "b9c983f0-4a4d-4773-d473-5156ff469f3c"
      },
      "source": [
        "#Linear Regression model\n",
        "from sklearn.linear_model import LinearRegression\n",
        "m1 = LinearRegression()\n",
        "m1.fit(X_train_s,y_train_s)\n",
        "pred = m1.predict(X_test_s)\n",
        "\n",
        "from sklearn.metrics import r2_score,mean_squared_error,mean_absolute_error\n",
        "print(\"Mean absolute error: \", mean_absolute_error(y_test_s,pred))\n",
        "print(\"Mean squared error: \", mean_squared_error(y_test_s,pred))\n",
        "print(\" R2 score : \", r2_score(y_test_s,pred))"
      ],
      "execution_count": null,
      "outputs": [
        {
          "output_type": "stream",
          "text": [
            "Mean absolute error:  202708513.41383806\n",
            "Mean squared error:  7.075825651771536e+19\n",
            " R2 score :  -7.15262703563827e+19\n"
          ],
          "name": "stdout"
        }
      ]
    },
    {
      "cell_type": "markdown",
      "metadata": {
        "id": "wQBGuCE0v-Qt",
        "colab_type": "text"
      },
      "source": [
        "> *We have also used errors,R2 score to check for relaibility of our model.*\n",
        "\n",
        "\n",
        "*   *Mean Absolute Error:- It is a measure of errors between paired observations expressing the same phenomenon.*\n",
        "*   *Mean Squared Error:- It is the average squared difference between the estimated values and the actual value.*\n",
        "\n",
        "*    *R2 Score:- It is a statistical measure of how close the data are to the fitted regression line. It is also known as the coefficient of determination, or the coefficient of multiple determination for multiple regression.*\n",
        "\n",
        "\n",
        "\n"
      ]
    },
    {
      "cell_type": "code",
      "metadata": {
        "id": "tg0omBFiCCsQ",
        "colab_type": "code",
        "colab": {
          "base_uri": "https://localhost:8080/",
          "height": 350
        },
        "outputId": "d0b305ce-8b15-40bc-daf1-146dbcd35d07"
      },
      "source": [
        "#Visualizing test values against predicted values\n",
        "plt.figure(figsize=(8,5))\n",
        "plt.scatter(y_test_s,pred)"
      ],
      "execution_count": null,
      "outputs": [
        {
          "output_type": "execute_result",
          "data": {
            "text/plain": [
              "<matplotlib.collections.PathCollection at 0x7f73fc94aa20>"
            ]
          },
          "metadata": {
            "tags": []
          },
          "execution_count": 202
        },
        {
          "output_type": "display_data",
          "data": {
            "image/png": "[encoded data removed]",
            "text/plain": [
              "<Figure size 576x360 with 1 Axes>"
            ]
          },
          "metadata": {
            "tags": []
          }
        }
      ]
    },
    {
      "cell_type": "code",
      "metadata": {
        "id": "NJ4wUxeLoIDc",
        "colab_type": "code",
        "colab": {
          "base_uri": "https://localhost:8080/",
          "height": 309
        },
        "outputId": "f3c89ada-63a5-4f18-e74d-99d8bb3300d4"
      },
      "source": [
        "#Plotting the Residues and looking whether they follow normal distribution or not.\n",
        "sns.distplot((y_test_s-pred),bins=50)"
      ],
      "execution_count": null,
      "outputs": [
        {
          "output_type": "execute_result",
          "data": {
            "text/plain": [
              "<matplotlib.axes._subplots.AxesSubplot at 0x7f73fc91cb38>"
            ]
          },
          "metadata": {
            "tags": []
          },
          "execution_count": 203
        },
        {
          "output_type": "display_data",
          "data": {
            "image/png": "[encoded data removed]",
            "text/plain": [
              "<Figure size 432x288 with 1 Axes>"
            ]
          },
          "metadata": {
            "tags": []
          }
        }
      ]
    },
    {
      "cell_type": "markdown",
      "metadata": {
        "id": "vyqBXZhyxvD3",
        "colab_type": "text"
      },
      "source": [
        "> *From above Linear Regression model, we don't get a great r2 score and MAE,MSE were too high. Thus,we shall now try out different ML algorithms to build a better model.*"
      ]
    },
    {
      "cell_type": "markdown",
      "metadata": {
        "id": "6tuAQir4yITx",
        "colab_type": "text"
      },
      "source": [
        "## Building Other ML Models with different algorithms"
      ]
    },
    {
      "cell_type": "markdown",
      "metadata": {
        "id": "u6X7so3iyPzT",
        "colab_type": "text"
      },
      "source": [
        "> *Support Vector Machines (SVM) - In machine learning, support-vector machines are supervised learning models with associated learning algorithms that analyze data used for classification and regression analysis.*"
      ]
    },
    {
      "cell_type": "code",
      "metadata": {
        "id": "HnN3Q-MGV3mn",
        "colab_type": "code",
        "colab": {
          "base_uri": "https://localhost:8080/",
          "height": 121
        },
        "outputId": "af43d017-81ac-471b-a0d1-fa16a1f4cd79"
      },
      "source": [
        "#SVM using Support Vector Regressor\n",
        "\n",
        "from sklearn.svm import SVR\n",
        "m2 = SVR()\n",
        "m2.fit(X_train_s,y_train_s)\n",
        "pred = m2.predict(X_test_s)\n",
        "\n",
        "from sklearn.metrics import r2_score,mean_squared_error,mean_absolute_error\n",
        "print(\"Mean absolute error: \", mean_absolute_error(y_test_s,pred))\n",
        "print(\"Mean squared error: \", mean_squared_error(y_test_s,pred))\n",
        "print(\" R2 score : \", r2_score(y_test_s,pred))"
      ],
      "execution_count": null,
      "outputs": [
        {
          "output_type": "stream",
          "text": [
            "/usr/local/lib/python3.6/dist-packages/sklearn/utils/validation.py:760: DataConversionWarning: A column-vector y was passed when a 1d array was expected. Please change the shape of y to (n_samples, ), for example using ravel().\n",
            "  y = column_or_1d(y, warn=True)\n"
          ],
          "name": "stderr"
        },
        {
          "output_type": "stream",
          "text": [
            "Mean absolute error:  0.19803643212189287\n",
            "Mean squared error:  0.08003247858692966\n",
            " R2 score :  0.9190988446801689\n"
          ],
          "name": "stdout"
        }
      ]
    },
    {
      "cell_type": "markdown",
      "metadata": {
        "id": "5YGlAXNRy1iy",
        "colab_type": "text"
      },
      "source": [
        "> *We obtain a better model with less value of errors and a great r2 score.*\n",
        "\n",
        "\n",
        "---\n",
        "> *We shall now plot the same plots and conclude that we obtain a better model using SVM.*\n"
      ]
    },
    {
      "cell_type": "code",
      "metadata": {
        "id": "6TNlejLlYDpz",
        "colab_type": "code",
        "colab": {
          "base_uri": "https://localhost:8080/",
          "height": 339
        },
        "outputId": "20088ca5-84fa-4f53-83cc-a4cfeb161025"
      },
      "source": [
        "plt.figure(figsize=(8,5))\n",
        "plt.scatter(y_test_s,pred)"
      ],
      "execution_count": null,
      "outputs": [
        {
          "output_type": "execute_result",
          "data": {
            "text/plain": [
              "<matplotlib.collections.PathCollection at 0x7f73fcde23c8>"
            ]
          },
          "metadata": {
            "tags": []
          },
          "execution_count": 188
        },
        {
          "output_type": "display_data",
          "data": {
            "image/png": "[encoded data removed]",
            "text/plain": [
              "<Figure size 576x360 with 1 Axes>"
            ]
          },
          "metadata": {
            "tags": []
          }
        }
      ]
    },
    {
      "cell_type": "code",
      "metadata": {
        "id": "c6cybcY8iksw",
        "colab_type": "code",
        "colab": {
          "base_uri": "https://localhost:8080/",
          "height": 285
        },
        "outputId": "a24cd439-a205-407e-f02f-6de272366267"
      },
      "source": [
        "sns.distplot((y_test_s-pred),bins=50)"
      ],
      "execution_count": null,
      "outputs": [
        {
          "output_type": "execute_result",
          "data": {
            "text/plain": [
              "<matplotlib.axes._subplots.AxesSubplot at 0x7f73fcd9e7b8>"
            ]
          },
          "metadata": {
            "tags": []
          },
          "execution_count": 189
        },
        {
          "output_type": "display_data",
          "data": {
            "image/png": "[encoded data removed]",
            "text/plain": [
              "<Figure size 432x288 with 1 Axes>"
            ]
          },
          "metadata": {
            "tags": []
          }
        }
      ]
    },
    {
      "cell_type": "markdown",
      "metadata": {
        "id": "_bLHr5vyyzsr",
        "colab_type": "text"
      },
      "source": [
        "> *Decision Tree - It is a Supervised learning technique that can be used for both classification and Regression problems. It is a tree-structured classifier, where internal nodes represent the features of a dataset, branches represent the decision rules and each leaf node represents the outcome.*"
      ]
    },
    {
      "cell_type": "code",
      "metadata": {
        "id": "kNF836LjioXG",
        "colab_type": "code",
        "colab": {
          "base_uri": "https://localhost:8080/",
          "height": 67
        },
        "outputId": "520d5001-47a2-490b-fa4e-507d5bf81ca8"
      },
      "source": [
        "# Decision Tree Regressor\n",
        "from sklearn.tree import DecisionTreeRegressor\n",
        "m3 = DecisionTreeRegressor()\n",
        "m3.fit(X_train_s,y_train_s)\n",
        "pred = m3.predict(X_test_s)\n",
        "\n",
        "from sklearn.metrics import r2_score,mean_squared_error,mean_absolute_error\n",
        "print(\"Mean absolute error: \", mean_absolute_error(y_test_s,pred))\n",
        "print(\"Mean squared error: \", mean_squared_error(y_test_s,pred))\n",
        "print(\" R2 score : \", r2_score(y_test_s,pred))"
      ],
      "execution_count": null,
      "outputs": [
        {
          "output_type": "stream",
          "text": [
            "Mean absolute error:  0.22347334479470624\n",
            "Mean squared error:  0.11876150575121582\n",
            " R2 score :  0.8799494506175993\n"
          ],
          "name": "stdout"
        }
      ]
    },
    {
      "cell_type": "markdown",
      "metadata": {
        "id": "sonGGsHwzvzR",
        "colab_type": "text"
      },
      "source": [
        "> *We got a better model than linear regression but not as better as the model obtained from SVM.*"
      ]
    },
    {
      "cell_type": "code",
      "metadata": {
        "id": "G6VU6jWkkbA8",
        "colab_type": "code",
        "colab": {
          "base_uri": "https://localhost:8080/",
          "height": 339
        },
        "outputId": "299e45f5-a584-406e-c357-da7739e3081a"
      },
      "source": [
        "plt.figure(figsize=(8,5))\n",
        "plt.scatter(y_test_s,pred)"
      ],
      "execution_count": null,
      "outputs": [
        {
          "output_type": "execute_result",
          "data": {
            "text/plain": [
              "<matplotlib.collections.PathCollection at 0x7f73fceb06a0>"
            ]
          },
          "metadata": {
            "tags": []
          },
          "execution_count": 191
        },
        {
          "output_type": "display_data",
          "data": {
            "image/png": "[encoded data removed]",
            "text/plain": [
              "<Figure size 576x360 with 1 Axes>"
            ]
          },
          "metadata": {
            "tags": []
          }
        }
      ]
    },
    {
      "cell_type": "code",
      "metadata": {
        "id": "yUYnMRQrkezA",
        "colab_type": "code",
        "colab": {
          "base_uri": "https://localhost:8080/",
          "height": 285
        },
        "outputId": "367d4b4c-ffa5-403a-920a-588003e24fba"
      },
      "source": [
        "sns.distplot((y_test_s-pred),bins=50)"
      ],
      "execution_count": null,
      "outputs": [
        {
          "output_type": "execute_result",
          "data": {
            "text/plain": [
              "<matplotlib.axes._subplots.AxesSubplot at 0x7f73fcdfed30>"
            ]
          },
          "metadata": {
            "tags": []
          },
          "execution_count": 192
        },
        {
          "output_type": "display_data",
          "data": {
            "image/png": "[encoded data removed]",
            "text/plain": [
              "<Figure size 432x288 with 1 Axes>"
            ]
          },
          "metadata": {
            "tags": []
          }
        }
      ]
    },
    {
      "cell_type": "markdown",
      "metadata": {
        "id": "IdE_FWsyz-C_",
        "colab_type": "text"
      },
      "source": [
        "> *Random Forests or random decision forests- are an ensemble learning method for classification, regression and other tasks that operate by constructing a multitude of decision trees at training time and outputting the class that is the mode of the classes or mean prediction of the individual trees.*"
      ]
    },
    {
      "cell_type": "code",
      "metadata": {
        "id": "APkPGivpkhB5",
        "colab_type": "code",
        "colab": {
          "base_uri": "https://localhost:8080/",
          "height": 121
        },
        "outputId": "c383570b-fc4e-4b21-b671-2c6bd047ca86"
      },
      "source": [
        "#Random Forests\n",
        "from sklearn.ensemble import RandomForestRegressor\n",
        "m4 = RandomForestRegressor(n_estimators=300,random_state=0)\n",
        "m4.fit(X_train_s,y_train_s)\n",
        "pred = m4.predict(X_test_s)\n",
        "\n",
        "from sklearn.metrics import r2_score,mean_squared_error,mean_absolute_error\n",
        "print(\"Mean absolute error: \", mean_absolute_error(y_test_s,pred))\n",
        "print(\"Mean squared error: \", mean_squared_error(y_test_s,pred))\n",
        "print(\" R2 score : \", r2_score(y_test_s,pred))"
      ],
      "execution_count": null,
      "outputs": [
        {
          "output_type": "stream",
          "text": [
            "/usr/local/lib/python3.6/dist-packages/ipykernel_launcher.py:4: DataConversionWarning: A column-vector y was passed when a 1d array was expected. Please change the shape of y to (n_samples,), for example using ravel().\n",
            "  after removing the cwd from sys.path.\n"
          ],
          "name": "stderr"
        },
        {
          "output_type": "stream",
          "text": [
            "Mean absolute error:  0.2104985027387051\n",
            "Mean squared error:  0.0906572059081655\n",
            " R2 score :  0.9083587960096466\n"
          ],
          "name": "stdout"
        }
      ]
    },
    {
      "cell_type": "markdown",
      "metadata": {
        "id": "NNWZMsxE0U8S",
        "colab_type": "text"
      },
      "source": [
        "> *We obtain a better model again and it is now compairable to the model obtained using SVM*"
      ]
    },
    {
      "cell_type": "code",
      "metadata": {
        "id": "bm5cFAJMkxcB",
        "colab_type": "code",
        "colab": {
          "base_uri": "https://localhost:8080/",
          "height": 339
        },
        "outputId": "f72b4384-d357-4ed4-b9f5-fd226c077063"
      },
      "source": [
        "plt.figure(figsize=(8,5))\n",
        "plt.scatter(y_test_s,pred)"
      ],
      "execution_count": null,
      "outputs": [
        {
          "output_type": "execute_result",
          "data": {
            "text/plain": [
              "<matplotlib.collections.PathCollection at 0x7f73fca828d0>"
            ]
          },
          "metadata": {
            "tags": []
          },
          "execution_count": 197
        },
        {
          "output_type": "display_data",
          "data": {
            "image/png": "[encoded data removed]",
            "text/plain": [
              "<Figure size 576x360 with 1 Axes>"
            ]
          },
          "metadata": {
            "tags": []
          }
        }
      ]
    },
    {
      "cell_type": "code",
      "metadata": {
        "id": "mQpJ8WBvmZM1",
        "colab_type": "code",
        "colab": {
          "base_uri": "https://localhost:8080/",
          "height": 285
        },
        "outputId": "ccbd2964-b386-4ad1-ab93-d5fb1b1c1034"
      },
      "source": [
        "sns.distplot((y_test_s-pred),bins=50)"
      ],
      "execution_count": null,
      "outputs": [
        {
          "output_type": "execute_result",
          "data": {
            "text/plain": [
              "<matplotlib.axes._subplots.AxesSubplot at 0x7f73fca3f5c0>"
            ]
          },
          "metadata": {
            "tags": []
          },
          "execution_count": 198
        },
        {
          "output_type": "display_data",
          "data": {
            "image/png": "[encoded data removed]",
            "text/plain": [
              "<Figure size 432x288 with 1 Axes>"
            ]
          },
          "metadata": {
            "tags": []
          }
        }
      ]
    },
    {
      "cell_type": "markdown",
      "metadata": {
        "id": "fD_1tXR30gy1",
        "colab_type": "text"
      },
      "source": [
        "## To conclude- \n",
        "\n",
        "\n",
        "*   Imported various libraries & data then checked basic stats of the dataset.\n",
        "\n",
        "*   Performed basic processing like handling outliners, missing values, looking for duplicates, renaming columns etc. to get a cleaned data.\n",
        "\n",
        "*   Looked for correlation between different columns and gaining understanding.\n",
        "\n",
        "*   Performed Exploratory Data Analysis by plotting different graphs and understanding deeper aspects of the dataset provided.\n",
        "\n",
        "*   Performed basic pre-processing steps like scaling of features and splitting of dataset into train and test data.\n",
        "\n",
        "*   Build different models on the dataset and concluded that model built by Random Forests and SVM perform the best and can be used for predicted the prices of CARS with the features in the provided datset.\n",
        "\n",
        "\n",
        "\n"
      ]
    }
  ]
}